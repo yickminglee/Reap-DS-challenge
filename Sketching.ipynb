{
 "cells": [
  {
   "cell_type": "code",
   "execution_count": null,
   "metadata": {
    "collapsed": true
   },
   "outputs": [],
   "source": []
  },
  {
   "cell_type": "code",
   "execution_count": null,
   "outputs": [],
   "source": [
    "# count number users\n",
    "print(df['ID'].count())\n",
    "\n",
    "# count defaults\n",
    "print(df[df['default.payment.next.month']==1]['ID'].count())\n",
    "\n",
    "# if the user has no bill payment at all\n",
    "print(df[(df.BILL_AMT1==0) \\\n",
    "        &(df.BILL_AMT2==0) \\\n",
    "        &(df.BILL_AMT3==0) \\\n",
    "        &(df.BILL_AMT4==0) \\\n",
    "        &(df.BILL_AMT5==0) \\\n",
    "        &(df.BILL_AMT6==0) \\\n",
    "        & (df['default.payment.next.month']==1)\n",
    "      ]['ID'].count())\n",
    "\n",
    "# if the user pay more than their were ask to pay\n",
    "print(df[(df.PAY_AMT1>=df.BILL_AMT1) \\\n",
    "        &(df.PAY_AMT2>=df.BILL_AMT2) \\\n",
    "        &(df.PAY_AMT3>=df.BILL_AMT3) \\\n",
    "        &(df.PAY_AMT4>=df.BILL_AMT4) \\\n",
    "        &(df.PAY_AMT5>=df.BILL_AMT5) \\\n",
    "        &(df.PAY_AMT6>=df.BILL_AMT6) \\\n",
    "        & (df['default.payment.next.month']==1)\n",
    "      ]['ID'].count())\n",
    "\n",
    "# if the user has bigger bill than their credit limit\n",
    "print(df[((df.LIMIT_BAL<=df.BILL_AMT1) \\\n",
    "        |(df.LIMIT_BAL<=df.BILL_AMT2) \\\n",
    "        |(df.LIMIT_BAL<=df.BILL_AMT3) \\\n",
    "        |(df.LIMIT_BAL<=df.BILL_AMT4) \\\n",
    "        |(df.LIMIT_BAL<=df.BILL_AMT5) \\\n",
    "        |(df.LIMIT_BAL<=df.BILL_AMT6)) \\\n",
    "        & (df['default.payment.next.month']==1)\n",
    "      ]['ID'].count())"
   ],
   "metadata": {
    "collapsed": false,
    "pycharm": {
     "name": "#%%\n"
    }
   }
  },
  {
   "cell_type": "markdown",
   "source": [
    "Note that \n",
    "- the data dictionary the the README file is missing the item \"PAY_1\". I have, therefore, added this missing item into the data dictionary.\n",
    "- \"PAY_0\" was defined as repayment status in September. I believe it was a mislabelled. \"PAY_1\" should be the status in September (consistent with \"BILL_AMT#\" and \"PAY_AMT#). Then, \"PAY_0\" should be the status in October. \n",
    "\n",
    "\n"
   ],
   "metadata": {
    "collapsed": false
   }
  },
  {
   "cell_type": "code",
   "execution_count": null,
   "outputs": [],
   "source": [
    "\n",
    "# To understand them, \n",
    "col_names = []\n",
    "for i in range(1,6):\n",
    "    col_names.append('BILL_AMT'+str(i))\n",
    "    col_names.append('PAY_AMT'+str(i))\n",
    "    col_names.append('PAY_'+str(i))\n",
    "\n",
    "print(df_explore[np.array(col_names)].sample(10))\n",
    "\n",
    "\n",
    "\n",
    "\n",
    "sns.distplot( df_explore.loc[df_explore.DEFAULT_PAY==0,'AGE'], color='skyblue', label='ok')\n",
    "sns.distplot( df_explore.loc[df_explore.DEFAULT_PAY==1,'AGE'], color='red', label='default')"
   ],
   "metadata": {
    "collapsed": false,
    "pycharm": {
     "name": "#%%\n"
    }
   }
  }
 ],
 "metadata": {
  "kernelspec": {
   "display_name": "Python 3",
   "language": "python",
   "name": "python3"
  },
  "language_info": {
   "codemirror_mode": {
    "name": "ipython",
    "version": 2
   },
   "file_extension": ".py",
   "mimetype": "text/x-python",
   "name": "python",
   "nbconvert_exporter": "python",
   "pygments_lexer": "ipython2",
   "version": "2.7.6"
  },
  "pycharm": {
   "stem_cell": {
    "cell_type": "raw",
    "source": [],
    "metadata": {
     "collapsed": false
    }
   }
  }
 },
 "nbformat": 4,
 "nbformat_minor": 0
}