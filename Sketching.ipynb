{
 "cells": [
  {
   "cell_type": "code",
   "execution_count": null,
   "metadata": {
    "collapsed": true
   },
   "outputs": [],
   "source": []
  },
  {
   "cell_type": "code",
   "execution_count": null,
   "outputs": [],
   "source": [
    "# count number users\n",
    "print(df['ID'].count())\n",
    "\n",
    "# count defaults\n",
    "print(df[df['default.payment.next.month']==1]['ID'].count())\n",
    "\n",
    "# if the user has no bill payment at all\n",
    "print(df[(df.BILL_AMT1==0) \\\n",
    "        &(df.BILL_AMT2==0) \\\n",
    "        &(df.BILL_AMT3==0) \\\n",
    "        &(df.BILL_AMT4==0) \\\n",
    "        &(df.BILL_AMT5==0) \\\n",
    "        &(df.BILL_AMT6==0) \\\n",
    "        & (df['default.payment.next.month']==1)\n",
    "      ]['ID'].count())\n",
    "\n",
    "# if the user pay more than their were ask to pay\n",
    "print(df[(df.PAY_AMT1>=df.BILL_AMT1) \\\n",
    "        &(df.PAY_AMT2>=df.BILL_AMT2) \\\n",
    "        &(df.PAY_AMT3>=df.BILL_AMT3) \\\n",
    "        &(df.PAY_AMT4>=df.BILL_AMT4) \\\n",
    "        &(df.PAY_AMT5>=df.BILL_AMT5) \\\n",
    "        &(df.PAY_AMT6>=df.BILL_AMT6) \\\n",
    "        & (df['default.payment.next.month']==1)\n",
    "      ]['ID'].count())\n",
    "\n",
    "# if the user has bigger bill than their credit limit\n",
    "print(df[((df.LIMIT_BAL<=df.BILL_AMT1) \\\n",
    "        |(df.LIMIT_BAL<=df.BILL_AMT2) \\\n",
    "        |(df.LIMIT_BAL<=df.BILL_AMT3) \\\n",
    "        |(df.LIMIT_BAL<=df.BILL_AMT4) \\\n",
    "        |(df.LIMIT_BAL<=df.BILL_AMT5) \\\n",
    "        |(df.LIMIT_BAL<=df.BILL_AMT6)) \\\n",
    "        & (df['default.payment.next.month']==1)\n",
    "      ]['ID'].count())"
   ],
   "metadata": {
    "collapsed": false,
    "pycharm": {
     "name": "#%%\n"
    }
   }
  },
  {
   "cell_type": "markdown",
   "source": [
    "Note that \n",
    "- the data dictionary the the README file is missing the item \"PAY_1\". I have, therefore, added this missing item into the data dictionary.\n",
    "- \"PAY_0\" was defined as repayment status in September. I believe it was a mislabelled. \"PAY_1\" should be the status in September (consistent with \"BILL_AMT#\" and \"PAY_AMT#). Then, \"PAY_0\" should be the status in October. \n",
    "\n",
    "\n"
   ],
   "metadata": {
    "collapsed": false
   }
  },
  {
   "cell_type": "code",
   "execution_count": null,
   "outputs": [],
   "source": [
    "\n",
    "# To understand them, \n",
    "col_names = []\n",
    "for i in range(1,6):\n",
    "    col_names.append('BILL_AMT'+str(i))\n",
    "    col_names.append('PAY_AMT'+str(i))\n",
    "    col_names.append('PAY_'+str(i))\n",
    "\n",
    "print(df_explore[np.array(col_names)].sample(10))\n",
    "\n",
    "\n",
    "\n",
    "\n",
    "sns.distplot( df_explore.loc[df_explore.DEFAULT_PAY==0,'AGE'], color='skyblue', label='ok')\n",
    "sns.distplot( df_explore.loc[df_explore.DEFAULT_PAY==1,'AGE'], color='red', label='default')\n",
    "\n",
    "\n",
    "\n",
    "\n",
    "\n",
    "\n",
    "\n",
    "\n"
   ],
   "metadata": {
    "collapsed": false,
    "pycharm": {
     "name": "#%%\n"
    }
   }
  },
  {
   "cell_type": "markdown",
   "source": [
    "It is skewed though. I wonder what it would look like if I log transform it."
   ],
   "metadata": {
    "collapsed": false
   }
  },
  {
   "cell_type": "code",
   "execution_count": null,
   "outputs": [],
   "source": [
    "select_cols = ['BILL_AMT'+str(i) for i in range(1,7)]\n",
    "select_cols_log = ['BILL_AMT_LOG'+str(i) for i in range(1,7)]\n",
    "\n",
    "# define function for the values below 0\n",
    "def neg_to_zero(x):\n",
    "    if x <= 0:\n",
    "        return 1\n",
    "    else:\n",
    "        return x\n",
    "    \n",
    "# apply the function\n",
    "for i in range(1,7):\n",
    "    df_explore['BILL_AMT_LOG'+str(i)] = [neg_to_zero(x) for x in df_explore['BILL_AMT'+str(i)]]\n",
    "\n",
    "#\n",
    "df_explore[select_cols_log] = df_explore[select_cols].apply(np.log, axis = 1)\n",
    "\n",
    "monthly_plot(df_explore, 'BILL_AMT_LOG')\n",
    "\n",
    "\n",
    "\n",
    "continuous_names = \\\n",
    "    ['LIMIT_BAL', 'AGE', 'N_DELAYED', 'UTILIZE_PTG1', 'UTILIZE_PTG2', 'UTILIZE_PTG3',\n",
    "       'UTILIZE_PTG4', 'UTILIZE_PTG5', 'UTILIZE_PTG6', 'PAY_PTG2',\n",
    "       'PAY_PTG3', 'PAY_PTG4', 'PAY_PTG5', 'PAY_PTG6']\n",
    "\n",
    "\n",
    "categorical_names = \\\n",
    "    ['SEX_male', 'EDUCATION_graduate_school', 'EDUCATION_high_school',\n",
    "       'EDUCATION_university',\n",
    "       'MARRIAGE_married', 'MARRIAGE_single', 'PAY_1_delayed']"
   ],
   "metadata": {
    "collapsed": false,
    "pycharm": {
     "name": "#%%\n"
    }
   }
  },
  {
   "cell_type": "code",
   "execution_count": null,
   "outputs": [],
   "source": [
    "from sklearn.model_selection import KFold\n",
    "\n",
    "kf = KFold(n_splits=10,random_state=0,shuffle=True)\n",
    "\n",
    "fold = []\n",
    "scr = []\n",
    "\n",
    "for i,(train_index, test_index) in enumerate(kf.split(df_onehot)):\n",
    "    print(train_index)\n",
    "    # split into K Fold sets\n",
    "    train = df_onehot.iloc[train_index,:]\n",
    "    test = df_onehot.iloc[test_index,:]\n",
    "    # re-define features and labels data sets\n",
    "    features_train = train[feature_names]\n",
    "    labels_train = train['DEFAULT_PAY']\n",
    "    features_test = test[feature_names]\n",
    "    valid_label = valid['DEFAULT_PAY']\n",
    "    # fit and predict\n",
    "    clf.fit(features_train, labels_train)\n",
    "    pred = clf.predict(features_test)\n",
    "    # get f1 score\n",
    "    score = f1_score(y_true = labels_test, y_pred = predictions)\n",
    "    # store results\n",
    "    fold.append(i+1)\n",
    "    scr.append(score)\n",
    "    \n",
    "#create a small df with the scores\n",
    "performance = pd.DataFrame({'Score':scr,'Fold':fold})\n",
    "\n",
    "# show result of each fold\n",
    "ax = sns.lineplot(x=\"Fold\", y=\"Score\",\n",
    "                  marker=\"o\",\n",
    "                  markers=True, dashes=False, data=performance)\n",
    "\n"
   ],
   "metadata": {
    "collapsed": false,
    "pycharm": {
     "name": "#%%\n"
    }
   }
  }
 ],
 "metadata": {
  "kernelspec": {
   "display_name": "Python 3",
   "language": "python",
   "name": "python3"
  },
  "language_info": {
   "codemirror_mode": {
    "name": "ipython",
    "version": 2
   },
   "file_extension": ".py",
   "mimetype": "text/x-python",
   "name": "python",
   "nbconvert_exporter": "python",
   "pygments_lexer": "ipython2",
   "version": "2.7.6"
  },
  "pycharm": {
   "stem_cell": {
    "cell_type": "raw",
    "source": [],
    "metadata": {
     "collapsed": false
    }
   }
  }
 },
 "nbformat": 4,
 "nbformat_minor": 0
}