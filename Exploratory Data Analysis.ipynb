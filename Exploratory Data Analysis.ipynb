{
 "cells": [
  {
   "cell_type": "code",
   "execution_count": 2,
   "outputs": [],
   "source": [
    "# Import\n",
    "\n",
    "# Basic\n",
    "import numpy as np # linear algebra\n",
    "import pandas as pd # data processing, CSV file I/O (e.g. pd.read_csv)\n",
    "\n",
    "# Viz\n",
    "import matplotlib.pyplot as plt\n",
    "%matplotlib inline\n",
    "import seaborn as sns\n",
    "\n"
   ],
   "metadata": {
    "collapsed": false,
    "pycharm": {
     "name": "#%%\n",
     "is_executing": false
    }
   }
  },
  {
   "cell_type": "markdown",
   "source": [
    "---\n",
    "# My Plan\n",
    "\n",
    "My ultimate objective is to predict the probability of credit card defaults. My plan is to develop a classification algorithm, to predict if a user is going to default. Then, I can predict the probability of default based on the number of predicted default users.\n",
    "\n",
    "1. Load data and check columns\n",
    "2. Calculate the percentage of credit card defaults out of all the users\\\n",
    "3. Explore the whole dataset and find any interesting insights\n",
    "4. Evaluate the data quality and figure out whether outliers exist\n",
    "5. Clean Data\n",
    "6. Select the strongest predictors \n",
    "7. Perform feature engineering\n"
   ],
   "metadata": {
    "collapsed": false,
    "pycharm": {
     "name": "#%% md\n"
    }
   }
  },
  {
   "cell_type": "markdown",
   "source": [
    "---\n",
    "# 1. Loading Credit Card User Data"
   ],
   "metadata": {
    "collapsed": false
   }
  },
  {
   "cell_type": "code",
   "execution_count": 3,
   "outputs": [
    {
     "data": {
      "text/plain": "ID                              int64\nLIMIT_BAL                     float64\nSEX                             int64\nEDUCATION                       int64\nMARRIAGE                        int64\nAGE                             int64\nPAY_0                           int64\nPAY_2                           int64\nPAY_3                           int64\nPAY_4                           int64\nPAY_5                           int64\nPAY_6                           int64\nBILL_AMT1                     float64\nBILL_AMT2                     float64\nBILL_AMT3                     float64\nBILL_AMT4                     float64\nBILL_AMT5                     float64\nBILL_AMT6                     float64\nPAY_AMT1                      float64\nPAY_AMT2                      float64\nPAY_AMT3                      float64\nPAY_AMT4                      float64\nPAY_AMT5                      float64\nPAY_AMT6                      float64\ndefault.payment.next.month      int64\nPAY_1                         float64\ndtype: object"
     },
     "metadata": {},
     "output_type": "execute_result",
     "execution_count": 3
    }
   ],
   "source": [
    "# Load the data\n",
    "df = pd.read_csv('dataset/data.csv') \n",
    "df.dtypes\n"
   ],
   "metadata": {
    "collapsed": false,
    "pycharm": {
     "name": "#%%\n",
     "is_executing": false
    }
   }
  },
  {
   "cell_type": "markdown",
   "source": [
    "---\n",
    "\n",
    "PAY_1 is not in the data dictionary. Let's see whats in it."
   ],
   "metadata": {
    "collapsed": false,
    "pycharm": {
     "name": "#%% md\n"
    }
   }
  },
  {
   "cell_type": "code",
   "execution_count": 4,
   "outputs": [
    {
     "data": {
      "text/plain": "0      NaN\n1      NaN\n2      NaN\n3      NaN\n4      NaN\n        ..\n9995   NaN\n9996   NaN\n9997   NaN\n9998   NaN\n9999   NaN\nName: PAY_1, Length: 10000, dtype: float64"
     },
     "metadata": {},
     "output_type": "execute_result",
     "execution_count": 4
    }
   ],
   "source": [
    "df.PAY_1"
   ],
   "metadata": {
    "collapsed": false,
    "pycharm": {
     "name": "#%%\n",
     "is_executing": false
    }
   }
  },
  {
   "cell_type": "markdown",
   "source": [
    "Looks like its all missing values. Let's do a quick check."
   ],
   "metadata": {
    "collapsed": false
   }
  },
  {
   "cell_type": "code",
   "execution_count": 5,
   "outputs": [
    {
     "data": {
      "text/plain": "         ID\nPAY_1      \n0.0     100\nnan    9900",
      "text/html": "<div>\n<style scoped>\n    .dataframe tbody tr th:only-of-type {\n        vertical-align: middle;\n    }\n\n    .dataframe tbody tr th {\n        vertical-align: top;\n    }\n\n    .dataframe thead th {\n        text-align: right;\n    }\n</style>\n<table border=\"1\" class=\"dataframe\">\n  <thead>\n    <tr style=\"text-align: right;\">\n      <th></th>\n      <th>ID</th>\n    </tr>\n    <tr>\n      <th>PAY_1</th>\n      <th></th>\n    </tr>\n  </thead>\n  <tbody>\n    <tr>\n      <th>0.0</th>\n      <td>100</td>\n    </tr>\n    <tr>\n      <th>nan</th>\n      <td>9900</td>\n    </tr>\n  </tbody>\n</table>\n</div>"
     },
     "metadata": {},
     "output_type": "execute_result",
     "execution_count": 5
    }
   ],
   "source": [
    "df.groupby(df.PAY_1.astype(str)).agg({'ID':'count'})"
   ],
   "metadata": {
    "collapsed": false,
    "pycharm": {
     "name": "#%%\n",
     "is_executing": false
    }
   }
  },
  {
   "cell_type": "markdown",
   "source": [
    "Yes, almost all of it are missing values. 100 of them are labelled as 0 but 0 has not be defined in the data dictionary. So, there is no meaningful data in this column.\n",
    "\n",
    "Therefore, I have decided to remove PAY_1.\n",
    "\n"
   ],
   "metadata": {
    "collapsed": false,
    "pycharm": {
     "name": "#%% md\n",
     "is_executing": false
    }
   }
  },
  {
   "cell_type": "code",
   "execution_count": 6,
   "outputs": [
    {
     "data": {
      "text/plain": "ID                              int64\nLIMIT_BAL                     float64\nSEX                             int64\nEDUCATION                       int64\nMARRIAGE                        int64\nAGE                             int64\nPAY_0                           int64\nPAY_2                           int64\nPAY_3                           int64\nPAY_4                           int64\nPAY_5                           int64\nPAY_6                           int64\nBILL_AMT1                     float64\nBILL_AMT2                     float64\nBILL_AMT3                     float64\nBILL_AMT4                     float64\nBILL_AMT5                     float64\nBILL_AMT6                     float64\nPAY_AMT1                      float64\nPAY_AMT2                      float64\nPAY_AMT3                      float64\nPAY_AMT4                      float64\nPAY_AMT5                      float64\nPAY_AMT6                      float64\ndefault.payment.next.month      int64\ndtype: object"
     },
     "metadata": {},
     "output_type": "execute_result",
     "execution_count": 6
    }
   ],
   "source": [
    "df.drop(columns=['PAY_1'], inplace=True)\n",
    "df.dtypes\n"
   ],
   "metadata": {
    "collapsed": false,
    "pycharm": {
     "name": "#%%\n",
     "is_executing": false
    }
   }
  },
  {
   "cell_type": "markdown",
   "source": [
    "---\n",
    "On the other hand, according to the dictionary, PAY_0 is the Repayment status in September, which is inconsistent with the labelling of BILL_AMT1 (September) and PAY_AMT1 (September). Therefore, I believe 'PAY_0' was a mislabelled. I will rename it as PAY_1."
   ],
   "metadata": {
    "collapsed": false,
    "pycharm": {
     "name": "#%% md\n"
    }
   }
  },
  {
   "cell_type": "code",
   "execution_count": 7,
   "outputs": [
    {
     "data": {
      "text/plain": "ID                              int64\nLIMIT_BAL                     float64\nSEX                             int64\nEDUCATION                       int64\nMARRIAGE                        int64\nAGE                             int64\nPAY_1                           int64\nPAY_2                           int64\nPAY_3                           int64\nPAY_4                           int64\nPAY_5                           int64\nPAY_6                           int64\nBILL_AMT1                     float64\nBILL_AMT2                     float64\nBILL_AMT3                     float64\nBILL_AMT4                     float64\nBILL_AMT5                     float64\nBILL_AMT6                     float64\nPAY_AMT1                      float64\nPAY_AMT2                      float64\nPAY_AMT3                      float64\nPAY_AMT4                      float64\nPAY_AMT5                      float64\nPAY_AMT6                      float64\ndefault.payment.next.month      int64\ndtype: object"
     },
     "metadata": {},
     "output_type": "execute_result",
     "execution_count": 7
    }
   ],
   "source": [
    "# fixing the names\n",
    "df = df.rename(columns={'PAY_0': 'PAY_1'})\n",
    "df.dtypes\n",
    "\n"
   ],
   "metadata": {
    "collapsed": false,
    "pycharm": {
     "name": "#%%\n",
     "is_executing": false
    }
   }
  },
  {
   "cell_type": "markdown",
   "source": [
    "---\n",
    "I found the field name 'default.payment.next.month' not easy to use. Therefore, I am going to rename it as 'DEFAULT_PAY'.\n"
   ],
   "metadata": {
    "collapsed": false
   }
  },
  {
   "cell_type": "code",
   "execution_count": 8,
   "outputs": [
    {
     "data": {
      "text/plain": "ID               int64\nLIMIT_BAL      float64\nSEX              int64\nEDUCATION        int64\nMARRIAGE         int64\nAGE              int64\nPAY_1            int64\nPAY_2            int64\nPAY_3            int64\nPAY_4            int64\nPAY_5            int64\nPAY_6            int64\nBILL_AMT1      float64\nBILL_AMT2      float64\nBILL_AMT3      float64\nBILL_AMT4      float64\nBILL_AMT5      float64\nBILL_AMT6      float64\nPAY_AMT1       float64\nPAY_AMT2       float64\nPAY_AMT3       float64\nPAY_AMT4       float64\nPAY_AMT5       float64\nPAY_AMT6       float64\nDEFAULT_PAY      int64\ndtype: object"
     },
     "metadata": {},
     "output_type": "execute_result",
     "execution_count": 8
    }
   ],
   "source": [
    "# fixing the names\n",
    "df = df.rename(columns={'default.payment.next.month': 'DEFAULT_PAY'})\n",
    "df.dtypes\n"
   ],
   "metadata": {
    "collapsed": false,
    "pycharm": {
     "name": "#%%\n",
     "is_executing": false
    }
   }
  },
  {
   "cell_type": "markdown",
   "source": [
    "---\n",
    "# 2. Calculate the percentage of credit card defaults out of all the users\n"
   ],
   "metadata": {
    "collapsed": false
   }
  },
  {
   "cell_type": "code",
   "execution_count": 9,
   "outputs": [
    {
     "data": {
      "text/plain": "0.2238"
     },
     "metadata": {},
     "output_type": "execute_result",
     "execution_count": 9
    }
   ],
   "source": [
    "df.DEFAULT_PAY.sum() / len(df.DEFAULT_PAY)\n"
   ],
   "metadata": {
    "collapsed": false,
    "pycharm": {
     "name": "#%%",
     "is_executing": false
    }
   }
  },
  {
   "cell_type": "markdown",
   "source": [
    "22% of credit card user have defaulted. \n",
    "\n",
    "In mentioned earlier, I have to develop a classification algorithm. However, given this uneven class distribution (78% vs 22%), we have to be careful when choosing our evaluation metric. F1 is, in my knowledge, the best candidate.\n",
    "\n"
   ],
   "metadata": {
    "collapsed": false
   }
  },
  {
   "cell_type": "markdown",
   "source": [
    "---\n",
    "# 3. Explore the whole dataset and find any interesting insights\n"
   ],
   "metadata": {
    "collapsed": false,
    "pycharm": {
     "name": "#%% md\n"
    }
   }
  },
  {
   "cell_type": "code",
   "execution_count": 10,
   "outputs": [],
   "source": [
    "# create a copy of df so that I could improve the labelling of categories. \n",
    "df_explore = df.copy()"
   ],
   "metadata": {
    "collapsed": false,
    "pycharm": {
     "name": "#%%\n",
     "is_executing": false
    }
   }
  },
  {
   "cell_type": "markdown",
   "source": [
    "---\n",
    "## 3.1. Categorical data\n",
    "There are Sex, Education and Marriage.\n"
   ],
   "metadata": {
    "collapsed": false
   }
  },
  {
   "cell_type": "markdown",
   "source": [
    "---\n",
    "### Sex\n",
    "Key: 1=male, 2=female\n"
   ],
   "metadata": {
    "collapsed": false
   }
  },
  {
   "cell_type": "code",
   "execution_count": 11,
   "outputs": [],
   "source": [
    "# relabel\n",
    "df_explore['SEX'] = df_explore['SEX'].replace([1,2],['male','female'])\n"
   ],
   "metadata": {
    "collapsed": false,
    "pycharm": {
     "name": "#%%\n",
     "is_executing": false
    }
   }
  },
  {
   "cell_type": "code",
   "execution_count": 12,
   "outputs": [
    {
     "data": {
      "text/plain": "<Figure size 432x288 with 1 Axes>",
      "image/png": "[encoded data removed]"
     },
     "metadata": {
      "needs_background": "light"
     },
     "output_type": "display_data"
    }
   ],
   "source": [
    "def bar_chart(df, col):\n",
    "    ax = sns.countplot(x=col, data=df)\n",
    "    \n",
    "    for p in ax.patches:\n",
    "        ax.annotate(\\\n",
    "            format(p.get_height(), '.2f'), \\\n",
    "            (p.get_x() + p.get_width() / 2., p.get_height()), \\\n",
    "            ha = 'center', va = 'center', \\\n",
    "            xytext = (0, 10), \\\n",
    "            textcoords = 'offset points')\n",
    "\n",
    "bar_chart(df_explore, 'SEX')\n",
    "\n",
    "    "
   ],
   "metadata": {
    "collapsed": false,
    "pycharm": {
     "name": "#%%\n",
     "is_executing": false
    }
   }
  },
  {
   "cell_type": "code",
   "execution_count": 13,
   "outputs": [
    {
     "data": {
      "text/plain": "DEFAULT_PAY     0     1      perc\nSEX                              \nfemale       4723  1300  0.215839\nmale         3039   938  0.235856",
      "text/html": "<div>\n<style scoped>\n    .dataframe tbody tr th:only-of-type {\n        vertical-align: middle;\n    }\n\n    .dataframe tbody tr th {\n        vertical-align: top;\n    }\n\n    .dataframe thead th {\n        text-align: right;\n    }\n</style>\n<table border=\"1\" class=\"dataframe\">\n  <thead>\n    <tr style=\"text-align: right;\">\n      <th>DEFAULT_PAY</th>\n      <th>0</th>\n      <th>1</th>\n      <th>perc</th>\n    </tr>\n    <tr>\n      <th>SEX</th>\n      <th></th>\n      <th></th>\n      <th></th>\n    </tr>\n  </thead>\n  <tbody>\n    <tr>\n      <th>female</th>\n      <td>4723</td>\n      <td>1300</td>\n      <td>0.215839</td>\n    </tr>\n    <tr>\n      <th>male</th>\n      <td>3039</td>\n      <td>938</td>\n      <td>0.235856</td>\n    </tr>\n  </tbody>\n</table>\n</div>"
     },
     "metadata": {},
     "output_type": "execute_result",
     "execution_count": 13
    }
   ],
   "source": [
    "def d_rate_by_col(df, col):\n",
    "    d_rate = df.groupby([col, 'DEFAULT_PAY']).size().unstack()\n",
    "    d_rate['perc'] = \\\n",
    "        (d_rate[d_rate.columns[1]]/(d_rate[d_rate.columns[0]] + d_rate[d_rate.columns[1]]))\n",
    "    return d_rate\n",
    "\n",
    "d_rate_by_col(df_explore, 'SEX')"
   ],
   "metadata": {
    "collapsed": false,
    "pycharm": {
     "name": "#%%\n",
     "is_executing": false
    }
   }
  },
  {
   "cell_type": "markdown",
   "source": [
    "There are more female than male.\n",
    "\n",
    "Male are more likely to default than Female. \n"
   ],
   "metadata": {
    "collapsed": false
   }
  },
  {
   "cell_type": "markdown",
   "source": [
    "---\n",
    "### Education\n",
    "Key: 1=graduate school, 2=university, 3=high school, 4=others, 5=unknown, 6=unknown\n"
   ],
   "metadata": {
    "collapsed": false
   }
  },
  {
   "cell_type": "code",
   "execution_count": 14,
   "outputs": [
    {
     "data": {
      "text/plain": "             ID\nEDUCATION      \n0             8\n1          3514\n2          4585\n3          1633\n4            46\n5            90\n6           124",
      "text/html": "<div>\n<style scoped>\n    .dataframe tbody tr th:only-of-type {\n        vertical-align: middle;\n    }\n\n    .dataframe tbody tr th {\n        vertical-align: top;\n    }\n\n    .dataframe thead th {\n        text-align: right;\n    }\n</style>\n<table border=\"1\" class=\"dataframe\">\n  <thead>\n    <tr style=\"text-align: right;\">\n      <th></th>\n      <th>ID</th>\n    </tr>\n    <tr>\n      <th>EDUCATION</th>\n      <th></th>\n    </tr>\n  </thead>\n  <tbody>\n    <tr>\n      <th>0</th>\n      <td>8</td>\n    </tr>\n    <tr>\n      <th>1</th>\n      <td>3514</td>\n    </tr>\n    <tr>\n      <th>2</th>\n      <td>4585</td>\n    </tr>\n    <tr>\n      <th>3</th>\n      <td>1633</td>\n    </tr>\n    <tr>\n      <th>4</th>\n      <td>46</td>\n    </tr>\n    <tr>\n      <th>5</th>\n      <td>90</td>\n    </tr>\n    <tr>\n      <th>6</th>\n      <td>124</td>\n    </tr>\n  </tbody>\n</table>\n</div>"
     },
     "metadata": {},
     "output_type": "execute_result",
     "execution_count": 14
    }
   ],
   "source": [
    "df_explore.groupby(df_explore.EDUCATION.astype(str)).agg({'ID':'count'})\n"
   ],
   "metadata": {
    "collapsed": false,
    "pycharm": {
     "name": "#%%\n",
     "is_executing": false
    }
   }
  },
  {
   "cell_type": "markdown",
   "source": [
    "0 has not been defined in the data dictionary. So, I am going to group it together with 5 and 6 (both unknown).\n",
    "\n",
    "In addition, 4 only has 46 samples. It is not going to be a strong predictor anyway so I am going to merge it with the unknown group."
   ],
   "metadata": {
    "collapsed": false,
    "pycharm": {
     "name": "#%% md\n"
    }
   }
  },
  {
   "cell_type": "code",
   "execution_count": 15,
   "outputs": [],
   "source": [
    "# relabel and re-group\n",
    "df_explore['EDUCATION'] = \\\n",
    "    df_explore['EDUCATION'].replace([0,4,5,6],'unknown_and_others')\n",
    "df_explore['EDUCATION'] = df_explore['EDUCATION'].replace([1,2,3],['graduate_school','university','high_school'])\n"
   ],
   "metadata": {
    "collapsed": false,
    "pycharm": {
     "name": "#%%\n",
     "is_executing": false
    }
   }
  },
  {
   "cell_type": "code",
   "execution_count": 16,
   "outputs": [
    {
     "data": {
      "text/plain": "<Figure size 432x288 with 1 Axes>",
      "image/png": "[encoded data removed]"
     },
     "metadata": {
      "needs_background": "light"
     },
     "output_type": "display_data"
    }
   ],
   "source": [
    "bar_chart(df_explore, 'EDUCATION')"
   ],
   "metadata": {
    "collapsed": false,
    "pycharm": {
     "name": "#%%\n",
     "is_executing": false
    }
   }
  },
  {
   "cell_type": "code",
   "execution_count": 17,
   "outputs": [
    {
     "data": {
      "text/plain": "DEFAULT_PAY            0     1      perc\nEDUCATION                               \ngraduate_school     2819   695  0.197780\nhigh_school         1223   410  0.251072\nuniversity          3465  1120  0.244275\nunknown_and_others   255    13  0.048507",
      "text/html": "<div>\n<style scoped>\n    .dataframe tbody tr th:only-of-type {\n        vertical-align: middle;\n    }\n\n    .dataframe tbody tr th {\n        vertical-align: top;\n    }\n\n    .dataframe thead th {\n        text-align: right;\n    }\n</style>\n<table border=\"1\" class=\"dataframe\">\n  <thead>\n    <tr style=\"text-align: right;\">\n      <th>DEFAULT_PAY</th>\n      <th>0</th>\n      <th>1</th>\n      <th>perc</th>\n    </tr>\n    <tr>\n      <th>EDUCATION</th>\n      <th></th>\n      <th></th>\n      <th></th>\n    </tr>\n  </thead>\n  <tbody>\n    <tr>\n      <th>graduate_school</th>\n      <td>2819</td>\n      <td>695</td>\n      <td>0.197780</td>\n    </tr>\n    <tr>\n      <th>high_school</th>\n      <td>1223</td>\n      <td>410</td>\n      <td>0.251072</td>\n    </tr>\n    <tr>\n      <th>university</th>\n      <td>3465</td>\n      <td>1120</td>\n      <td>0.244275</td>\n    </tr>\n    <tr>\n      <th>unknown_and_others</th>\n      <td>255</td>\n      <td>13</td>\n      <td>0.048507</td>\n    </tr>\n  </tbody>\n</table>\n</div>"
     },
     "metadata": {},
     "output_type": "execute_result",
     "execution_count": 17
    }
   ],
   "source": [
    "d_rate_by_col(df_explore, 'EDUCATION')"
   ],
   "metadata": {
    "collapsed": false,
    "pycharm": {
     "name": "#%%\n",
     "is_executing": false
    }
   }
  },
  {
   "cell_type": "markdown",
   "source": [
    "Most users are university students. The second biggest group is graduate students.\n",
    "\n",
    "It seems like the higher the education level (high school < university < graduate school) the lower the default rate.  \n"
   ],
   "metadata": {
    "collapsed": false
   }
  },
  {
   "cell_type": "markdown",
   "source": [
    "---\n",
    "\n",
    "### Marriage\n",
    "Key: 1=married, 2=single, 3=others"
   ],
   "metadata": {
    "collapsed": false
   }
  },
  {
   "cell_type": "code",
   "execution_count": 18,
   "outputs": [
    {
     "data": {
      "text/plain": "            ID\nMARRIAGE      \n0           13\n1         4476\n2         5287\n3          224",
      "text/html": "<div>\n<style scoped>\n    .dataframe tbody tr th:only-of-type {\n        vertical-align: middle;\n    }\n\n    .dataframe tbody tr th {\n        vertical-align: top;\n    }\n\n    .dataframe thead th {\n        text-align: right;\n    }\n</style>\n<table border=\"1\" class=\"dataframe\">\n  <thead>\n    <tr style=\"text-align: right;\">\n      <th></th>\n      <th>ID</th>\n    </tr>\n    <tr>\n      <th>MARRIAGE</th>\n      <th></th>\n    </tr>\n  </thead>\n  <tbody>\n    <tr>\n      <th>0</th>\n      <td>13</td>\n    </tr>\n    <tr>\n      <th>1</th>\n      <td>4476</td>\n    </tr>\n    <tr>\n      <th>2</th>\n      <td>5287</td>\n    </tr>\n    <tr>\n      <th>3</th>\n      <td>224</td>\n    </tr>\n  </tbody>\n</table>\n</div>"
     },
     "metadata": {},
     "output_type": "execute_result",
     "execution_count": 18
    }
   ],
   "source": [
    "df_explore.groupby(df_explore.MARRIAGE.astype(str)).agg({'ID':'count'})\n"
   ],
   "metadata": {
    "collapsed": false,
    "pycharm": {
     "name": "#%%\n",
     "is_executing": false
    }
   }
  },
  {
   "cell_type": "markdown",
   "source": [
    "0 has not been defined in the data dictionary. It only has 13 samples. So, I am going to group it with 3 (others).\n"
   ],
   "metadata": {
    "collapsed": false
   }
  },
  {
   "cell_type": "code",
   "execution_count": 19,
   "outputs": [],
   "source": [
    "# relabel and re-group\n",
    "df_explore['MARRIAGE'] = \\\n",
    "    df_explore['MARRIAGE'].replace([0,3],'unknown_and_others')\n",
    "df_explore['MARRIAGE'] = df_explore['MARRIAGE'].replace([1,2],['married','single'])\n"
   ],
   "metadata": {
    "collapsed": false,
    "pycharm": {
     "name": "#%%\n",
     "is_executing": false
    }
   }
  },
  {
   "cell_type": "code",
   "execution_count": 20,
   "outputs": [
    {
     "data": {
      "text/plain": "<Figure size 432x288 with 1 Axes>",
      "image/png": "[encoded data removed]"
     },
     "metadata": {
      "needs_background": "light"
     },
     "output_type": "display_data"
    }
   ],
   "source": [
    "bar_chart(df_explore, 'MARRIAGE')"
   ],
   "metadata": {
    "collapsed": false,
    "pycharm": {
     "name": "#%%\n",
     "is_executing": false
    }
   }
  },
  {
   "cell_type": "code",
   "execution_count": 21,
   "outputs": [
    {
     "data": {
      "text/plain": "DEFAULT_PAY            0     1      perc\nMARRIAGE                                \nmarried             3393  1083  0.241957\nsingle              4175  1112  0.210327\nunknown_and_others   194    43  0.181435",
      "text/html": "<div>\n<style scoped>\n    .dataframe tbody tr th:only-of-type {\n        vertical-align: middle;\n    }\n\n    .dataframe tbody tr th {\n        vertical-align: top;\n    }\n\n    .dataframe thead th {\n        text-align: right;\n    }\n</style>\n<table border=\"1\" class=\"dataframe\">\n  <thead>\n    <tr style=\"text-align: right;\">\n      <th>DEFAULT_PAY</th>\n      <th>0</th>\n      <th>1</th>\n      <th>perc</th>\n    </tr>\n    <tr>\n      <th>MARRIAGE</th>\n      <th></th>\n      <th></th>\n      <th></th>\n    </tr>\n  </thead>\n  <tbody>\n    <tr>\n      <th>married</th>\n      <td>3393</td>\n      <td>1083</td>\n      <td>0.241957</td>\n    </tr>\n    <tr>\n      <th>single</th>\n      <td>4175</td>\n      <td>1112</td>\n      <td>0.210327</td>\n    </tr>\n    <tr>\n      <th>unknown_and_others</th>\n      <td>194</td>\n      <td>43</td>\n      <td>0.181435</td>\n    </tr>\n  </tbody>\n</table>\n</div>"
     },
     "metadata": {},
     "output_type": "execute_result",
     "execution_count": 21
    }
   ],
   "source": [
    "d_rate_by_col(df_explore, 'MARRIAGE')"
   ],
   "metadata": {
    "collapsed": false,
    "pycharm": {
     "name": "#%%\n",
     "is_executing": false
    }
   }
  },
  {
   "cell_type": "markdown",
   "source": [
    "Most users are single. \n",
    "\n",
    "Married users have higher default rate.\n"
   ],
   "metadata": {
    "collapsed": false
   }
  },
  {
   "cell_type": "markdown",
   "source": [
    "---\n",
    "\n",
    "## 3.1. Continuous data\n",
    "There are \n",
    "- Credit, \n",
    "- Age, \n",
    "- Repayment status in month X, \n",
    "- Amount of bill statement in month X,\n",
    "- Amount of previous payment in month X."
   ],
   "metadata": {
    "collapsed": false,
    "pycharm": {
     "name": "#%% md\n"
    }
   }
  },
  {
   "cell_type": "markdown",
   "source": [
    "---\n",
    "\n",
    "### Credit\n"
   ],
   "metadata": {
    "collapsed": false
   }
  },
  {
   "cell_type": "code",
   "execution_count": 27,
   "outputs": [
    {
     "name": "stderr",
     "text": [
      "No handles with labels found to put in legend.\n"
     ],
     "output_type": "stream"
    },
    {
     "data": {
      "text/plain": "<matplotlib.legend.Legend at 0x12ea292e8>"
     },
     "metadata": {},
     "output_type": "execute_result",
     "execution_count": 27
    },
    {
     "data": {
      "text/plain": "<Figure size 432x288 with 1 Axes>",
      "image/png": "[encoded data removed]"
     },
     "metadata": {
      "needs_background": "light"
     },
     "output_type": "display_data"
    }
   ],
   "source": [
    "sns.distplot( df_explore['LIMIT_BAL'])\n",
    "plt.legend()\n"
   ],
   "metadata": {
    "collapsed": false,
    "pycharm": {
     "name": "#%%\n",
     "is_executing": false
    }
   }
  },
  {
   "cell_type": "code",
   "execution_count": 28,
   "outputs": [
    {
     "data": {
      "text/plain": "<Figure size 432x288 with 1 Axes>",
      "image/png": "[encoded data removed]"
     },
     "metadata": {
      "needs_background": "light"
     },
     "output_type": "display_data"
    }
   ],
   "source": [
    "def def_dist(df, col):\n",
    "    sns.distplot(df.loc[df.DEFAULT_PAY==0,col], color='skyblue', label='ok')\n",
    "    sns.distplot(df.loc[df.DEFAULT_PAY==1,col], color='red', label='default')\n",
    "    plt.legend()\n",
    "\n",
    "def_dist(df_explore, 'LIMIT_BAL')\n",
    "\n"
   ],
   "metadata": {
    "collapsed": false,
    "pycharm": {
     "name": "#%%\n",
     "is_executing": false
    }
   }
  },
  {
   "cell_type": "markdown",
   "source": [
    "The distribution of credit is skewed, with a long tail of high credit users.\n",
    "\n",
    "As expected, the most defaulted users have lower credits.\n",
    "\n",
    "---\n",
    "\n",
    "### Age\n"
   ],
   "metadata": {
    "collapsed": false,
    "pycharm": {
     "name": "#%% md\n"
    }
   }
  },
  {
   "cell_type": "code",
   "execution_count": 29,
   "outputs": [
    {
     "name": "stderr",
     "text": [
      "No handles with labels found to put in legend.\n"
     ],
     "output_type": "stream"
    },
    {
     "data": {
      "text/plain": "<matplotlib.legend.Legend at 0x12e6b13c8>"
     },
     "metadata": {},
     "output_type": "execute_result",
     "execution_count": 29
    },
    {
     "data": {
      "text/plain": "<Figure size 432x288 with 1 Axes>",
      "image/png": "[encoded data removed]"
     },
     "metadata": {
      "needs_background": "light"
     },
     "output_type": "display_data"
    }
   ],
   "source": [
    "sns.distplot( df_explore['AGE'])\n",
    "plt.legend()\n"
   ],
   "metadata": {
    "collapsed": false,
    "pycharm": {
     "name": "#%%\n",
     "is_executing": false
    }
   }
  },
  {
   "cell_type": "code",
   "execution_count": 31,
   "outputs": [
    {
     "data": {
      "text/plain": "<Figure size 432x288 with 1 Axes>",
      "image/png": "[encoded data removed]"
     },
     "metadata": {
      "needs_background": "light"
     },
     "output_type": "display_data"
    }
   ],
   "source": [
    "def_dist(df_explore, 'AGE')\n",
    "\n"
   ],
   "metadata": {
    "collapsed": false,
    "pycharm": {
     "name": "#%%\n",
     "is_executing": false
    }
   }
  },
  {
   "cell_type": "markdown",
   "source": [
    "The distribution of age is skewed, with a long tail of older users.\n"
   ],
   "metadata": {
    "collapsed": false
   }
  },
  {
   "cell_type": "markdown",
   "source": [
    "---\n",
    "\n",
    "### Bill, Payment and Repayment Status\n",
    "- BILL_AMT: Amount of bill statement in XXXX\n",
    "- PAY_AMT: Amount of previous payment in XXXX\n",
    "- PAY: Repayment status in XXXX, (-1=pay duly, 1=payment delay for one month, 2=payment delay for two months, … 8=payment delay for eight months, 9=payment delay for nine months and above)\n",
    "\n"
   ],
   "metadata": {
    "collapsed": false
   }
  },
  {
   "cell_type": "markdown",
   "source": [
    " To understand the relationship among the factors, I have selected  \n"
   ],
   "metadata": {
    "collapsed": false,
    "pycharm": {
     "name": "#%% md\n",
     "is_executing": false
    }
   }
  },
  {
   "cell_type": "code",
   "execution_count": 75,
   "outputs": [
    {
     "data": {
      "text/plain": "      BILL_AMT6  PAY_AMT6  PAY_6  BILL_AMT5  PAY_AMT5  PAY_5\n4523     4533.0       0.0     -1     2202.0    5131.0      0\n865      3019.0    4302.0     -1     3608.0    3103.0     -1\n2960     2318.0    3311.0     -1     2048.0    2318.0     -1\n5485     5824.0   48366.0     -1     9279.0    5849.0      0\n9939     4298.0   12330.0     -1    11560.0    4298.0     -1\n3032    11960.0   65157.0     -1    12234.0    1200.0     -1\n7518     4320.0    1650.0     -1      702.0    4320.0     -1\n7410      735.0     735.0     -1      735.0     735.0     -1\n3885     5110.0    9028.0     -1     3343.0    5124.0     -1\n4620     1312.0       0.0     -1     1073.0    1500.0     -1\n100     23657.0   32948.0     -1    65691.0   23776.0     -1\n720       430.0    1166.0     -1      860.0     430.0     -1\n2907    56264.0     953.0     -1     3445.0   56264.0     -1\n1122      110.0       0.0     -1    32836.0     110.0      0\n7809      630.0    1030.0     -1      630.0     630.0      0\n9667     1854.0    1688.0     -1     2821.0    1854.0     -1\n2073      540.0   17120.0     -1     3617.0     540.0     -2\n1144      247.0   12000.0     -1    17249.0     247.0      0\n256       890.0   14441.0     -1    14240.0     890.0      0\n837     20791.0     540.0     -1     1352.0   20794.0     -1",
      "text/html": "<div>\n<style scoped>\n    .dataframe tbody tr th:only-of-type {\n        vertical-align: middle;\n    }\n\n    .dataframe tbody tr th {\n        vertical-align: top;\n    }\n\n    .dataframe thead th {\n        text-align: right;\n    }\n</style>\n<table border=\"1\" class=\"dataframe\">\n  <thead>\n    <tr style=\"text-align: right;\">\n      <th></th>\n      <th>BILL_AMT6</th>\n      <th>PAY_AMT6</th>\n      <th>PAY_6</th>\n      <th>BILL_AMT5</th>\n      <th>PAY_AMT5</th>\n      <th>PAY_5</th>\n    </tr>\n  </thead>\n  <tbody>\n    <tr>\n      <th>4523</th>\n      <td>4533.0</td>\n      <td>0.0</td>\n      <td>-1</td>\n      <td>2202.0</td>\n      <td>5131.0</td>\n      <td>0</td>\n    </tr>\n    <tr>\n      <th>865</th>\n      <td>3019.0</td>\n      <td>4302.0</td>\n      <td>-1</td>\n      <td>3608.0</td>\n      <td>3103.0</td>\n      <td>-1</td>\n    </tr>\n    <tr>\n      <th>2960</th>\n      <td>2318.0</td>\n      <td>3311.0</td>\n      <td>-1</td>\n      <td>2048.0</td>\n      <td>2318.0</td>\n      <td>-1</td>\n    </tr>\n    <tr>\n      <th>5485</th>\n      <td>5824.0</td>\n      <td>48366.0</td>\n      <td>-1</td>\n      <td>9279.0</td>\n      <td>5849.0</td>\n      <td>0</td>\n    </tr>\n    <tr>\n      <th>9939</th>\n      <td>4298.0</td>\n      <td>12330.0</td>\n      <td>-1</td>\n      <td>11560.0</td>\n      <td>4298.0</td>\n      <td>-1</td>\n    </tr>\n    <tr>\n      <th>3032</th>\n      <td>11960.0</td>\n      <td>65157.0</td>\n      <td>-1</td>\n      <td>12234.0</td>\n      <td>1200.0</td>\n      <td>-1</td>\n    </tr>\n    <tr>\n      <th>7518</th>\n      <td>4320.0</td>\n      <td>1650.0</td>\n      <td>-1</td>\n      <td>702.0</td>\n      <td>4320.0</td>\n      <td>-1</td>\n    </tr>\n    <tr>\n      <th>7410</th>\n      <td>735.0</td>\n      <td>735.0</td>\n      <td>-1</td>\n      <td>735.0</td>\n      <td>735.0</td>\n      <td>-1</td>\n    </tr>\n    <tr>\n      <th>3885</th>\n      <td>5110.0</td>\n      <td>9028.0</td>\n      <td>-1</td>\n      <td>3343.0</td>\n      <td>5124.0</td>\n      <td>-1</td>\n    </tr>\n    <tr>\n      <th>4620</th>\n      <td>1312.0</td>\n      <td>0.0</td>\n      <td>-1</td>\n      <td>1073.0</td>\n      <td>1500.0</td>\n      <td>-1</td>\n    </tr>\n    <tr>\n      <th>100</th>\n      <td>23657.0</td>\n      <td>32948.0</td>\n      <td>-1</td>\n      <td>65691.0</td>\n      <td>23776.0</td>\n      <td>-1</td>\n    </tr>\n    <tr>\n      <th>720</th>\n      <td>430.0</td>\n      <td>1166.0</td>\n      <td>-1</td>\n      <td>860.0</td>\n      <td>430.0</td>\n      <td>-1</td>\n    </tr>\n    <tr>\n      <th>2907</th>\n      <td>56264.0</td>\n      <td>953.0</td>\n      <td>-1</td>\n      <td>3445.0</td>\n      <td>56264.0</td>\n      <td>-1</td>\n    </tr>\n    <tr>\n      <th>1122</th>\n      <td>110.0</td>\n      <td>0.0</td>\n      <td>-1</td>\n      <td>32836.0</td>\n      <td>110.0</td>\n      <td>0</td>\n    </tr>\n    <tr>\n      <th>7809</th>\n      <td>630.0</td>\n      <td>1030.0</td>\n      <td>-1</td>\n      <td>630.0</td>\n      <td>630.0</td>\n      <td>0</td>\n    </tr>\n    <tr>\n      <th>9667</th>\n      <td>1854.0</td>\n      <td>1688.0</td>\n      <td>-1</td>\n      <td>2821.0</td>\n      <td>1854.0</td>\n      <td>-1</td>\n    </tr>\n    <tr>\n      <th>2073</th>\n      <td>540.0</td>\n      <td>17120.0</td>\n      <td>-1</td>\n      <td>3617.0</td>\n      <td>540.0</td>\n      <td>-2</td>\n    </tr>\n    <tr>\n      <th>1144</th>\n      <td>247.0</td>\n      <td>12000.0</td>\n      <td>-1</td>\n      <td>17249.0</td>\n      <td>247.0</td>\n      <td>0</td>\n    </tr>\n    <tr>\n      <th>256</th>\n      <td>890.0</td>\n      <td>14441.0</td>\n      <td>-1</td>\n      <td>14240.0</td>\n      <td>890.0</td>\n      <td>0</td>\n    </tr>\n    <tr>\n      <th>837</th>\n      <td>20791.0</td>\n      <td>540.0</td>\n      <td>-1</td>\n      <td>1352.0</td>\n      <td>20794.0</td>\n      <td>-1</td>\n    </tr>\n  </tbody>\n</table>\n</div>"
     },
     "metadata": {},
     "output_type": "execute_result",
     "execution_count": 75
    }
   ],
   "source": [
    "sel_filter = ((df.PAY_6 == -1) & (df.BILL_AMT6 > 0))\n",
    "df_explore[sel_filter][['BILL_AMT6', 'PAY_AMT6', 'PAY_6', 'BILL_AMT5', 'PAY_AMT5', 'PAY_5']].sample(20)"
   ],
   "metadata": {
    "collapsed": false,
    "pycharm": {
     "name": "#%%\n",
     "is_executing": false
    }
   }
  },
  {
   "cell_type": "code",
   "execution_count": 90,
   "outputs": [
    {
     "data": {
      "text/plain": "         ID\nFalse    41\nTrue   1670",
      "text/html": "<div>\n<style scoped>\n    .dataframe tbody tr th:only-of-type {\n        vertical-align: middle;\n    }\n\n    .dataframe tbody tr th {\n        vertical-align: top;\n    }\n\n    .dataframe thead th {\n        text-align: right;\n    }\n</style>\n<table border=\"1\" class=\"dataframe\">\n  <thead>\n    <tr style=\"text-align: right;\">\n      <th></th>\n      <th>ID</th>\n    </tr>\n  </thead>\n  <tbody>\n    <tr>\n      <th>False</th>\n      <td>41</td>\n    </tr>\n    <tr>\n      <th>True</th>\n      <td>1670</td>\n    </tr>\n  </tbody>\n</table>\n</div>"
     },
     "metadata": {},
     "output_type": "execute_result",
     "execution_count": 90
    }
   ],
   "source": [
    "df_explore[sel_filter].groupby(df_explore.BILL_AMT6<=df_explore.PAY_AMT5).agg({'ID':'count'})\n"
   ],
   "metadata": {
    "collapsed": false,
    "pycharm": {
     "name": "#%%\n",
     "is_executing": false
    }
   }
  },
  {
   "cell_type": "code",
   "execution_count": 93,
   "outputs": [
    {
     "data": {
      "text/plain": "      BILL_AMT5  PAY_AMT5  PAY_5  BILL_AMT4  PAY_AMT4  PAY_4\n724    166251.0    5506.0     -1     6288.0  178460.0     -1\n1099     6261.0    6261.0     -1     6261.0    6261.0     -1\n8476      318.0       0.0     -1        0.0     318.0     -2\n1731     2497.0    2830.0     -1     2779.0    2497.0      0\n1638      662.0    3295.0     -1      303.0     662.0     -1\n7504     1567.0    1707.0     -1     3365.0    1567.0     -1\n7555     1230.0    1054.0     -1     1054.0    1230.0     -1\n8283     7247.0   13959.0     -1    15181.0    7283.0     -1\n749      2500.0   10000.0     -1      180.0    2500.0     -1\n4920     1150.0       0.0     -1    10400.0    1150.0      0\n9469    15655.0       0.0     -1        0.0   15655.0      0\n6523      299.0       0.0     -1     1875.0     299.0      0\n145       268.0       0.0     -1        0.0     268.0     -2\n4011     9815.0   40063.0     -1      668.0    9852.0     -1\n7392    28743.0    8210.0     -1        0.0   28743.0     -1\n7271     8814.0   17000.0     -1     8568.0    9000.0     -1\n1158     2338.0       0.0     -1     7880.0    2338.0      0\n3345     1439.0    9000.0     -1    14029.0    1509.0      0\n7031     2601.0    2987.0     -1     6803.0    2608.0     -1\n1915     7241.0    5000.0     -1        0.0    7241.0     -2",
      "text/html": "<div>\n<style scoped>\n    .dataframe tbody tr th:only-of-type {\n        vertical-align: middle;\n    }\n\n    .dataframe tbody tr th {\n        vertical-align: top;\n    }\n\n    .dataframe thead th {\n        text-align: right;\n    }\n</style>\n<table border=\"1\" class=\"dataframe\">\n  <thead>\n    <tr style=\"text-align: right;\">\n      <th></th>\n      <th>BILL_AMT5</th>\n      <th>PAY_AMT5</th>\n      <th>PAY_5</th>\n      <th>BILL_AMT4</th>\n      <th>PAY_AMT4</th>\n      <th>PAY_4</th>\n    </tr>\n  </thead>\n  <tbody>\n    <tr>\n      <th>724</th>\n      <td>166251.0</td>\n      <td>5506.0</td>\n      <td>-1</td>\n      <td>6288.0</td>\n      <td>178460.0</td>\n      <td>-1</td>\n    </tr>\n    <tr>\n      <th>1099</th>\n      <td>6261.0</td>\n      <td>6261.0</td>\n      <td>-1</td>\n      <td>6261.0</td>\n      <td>6261.0</td>\n      <td>-1</td>\n    </tr>\n    <tr>\n      <th>8476</th>\n      <td>318.0</td>\n      <td>0.0</td>\n      <td>-1</td>\n      <td>0.0</td>\n      <td>318.0</td>\n      <td>-2</td>\n    </tr>\n    <tr>\n      <th>1731</th>\n      <td>2497.0</td>\n      <td>2830.0</td>\n      <td>-1</td>\n      <td>2779.0</td>\n      <td>2497.0</td>\n      <td>0</td>\n    </tr>\n    <tr>\n      <th>1638</th>\n      <td>662.0</td>\n      <td>3295.0</td>\n      <td>-1</td>\n      <td>303.0</td>\n      <td>662.0</td>\n      <td>-1</td>\n    </tr>\n    <tr>\n      <th>7504</th>\n      <td>1567.0</td>\n      <td>1707.0</td>\n      <td>-1</td>\n      <td>3365.0</td>\n      <td>1567.0</td>\n      <td>-1</td>\n    </tr>\n    <tr>\n      <th>7555</th>\n      <td>1230.0</td>\n      <td>1054.0</td>\n      <td>-1</td>\n      <td>1054.0</td>\n      <td>1230.0</td>\n      <td>-1</td>\n    </tr>\n    <tr>\n      <th>8283</th>\n      <td>7247.0</td>\n      <td>13959.0</td>\n      <td>-1</td>\n      <td>15181.0</td>\n      <td>7283.0</td>\n      <td>-1</td>\n    </tr>\n    <tr>\n      <th>749</th>\n      <td>2500.0</td>\n      <td>10000.0</td>\n      <td>-1</td>\n      <td>180.0</td>\n      <td>2500.0</td>\n      <td>-1</td>\n    </tr>\n    <tr>\n      <th>4920</th>\n      <td>1150.0</td>\n      <td>0.0</td>\n      <td>-1</td>\n      <td>10400.0</td>\n      <td>1150.0</td>\n      <td>0</td>\n    </tr>\n    <tr>\n      <th>9469</th>\n      <td>15655.0</td>\n      <td>0.0</td>\n      <td>-1</td>\n      <td>0.0</td>\n      <td>15655.0</td>\n      <td>0</td>\n    </tr>\n    <tr>\n      <th>6523</th>\n      <td>299.0</td>\n      <td>0.0</td>\n      <td>-1</td>\n      <td>1875.0</td>\n      <td>299.0</td>\n      <td>0</td>\n    </tr>\n    <tr>\n      <th>145</th>\n      <td>268.0</td>\n      <td>0.0</td>\n      <td>-1</td>\n      <td>0.0</td>\n      <td>268.0</td>\n      <td>-2</td>\n    </tr>\n    <tr>\n      <th>4011</th>\n      <td>9815.0</td>\n      <td>40063.0</td>\n      <td>-1</td>\n      <td>668.0</td>\n      <td>9852.0</td>\n      <td>-1</td>\n    </tr>\n    <tr>\n      <th>7392</th>\n      <td>28743.0</td>\n      <td>8210.0</td>\n      <td>-1</td>\n      <td>0.0</td>\n      <td>28743.0</td>\n      <td>-1</td>\n    </tr>\n    <tr>\n      <th>7271</th>\n      <td>8814.0</td>\n      <td>17000.0</td>\n      <td>-1</td>\n      <td>8568.0</td>\n      <td>9000.0</td>\n      <td>-1</td>\n    </tr>\n    <tr>\n      <th>1158</th>\n      <td>2338.0</td>\n      <td>0.0</td>\n      <td>-1</td>\n      <td>7880.0</td>\n      <td>2338.0</td>\n      <td>0</td>\n    </tr>\n    <tr>\n      <th>3345</th>\n      <td>1439.0</td>\n      <td>9000.0</td>\n      <td>-1</td>\n      <td>14029.0</td>\n      <td>1509.0</td>\n      <td>0</td>\n    </tr>\n    <tr>\n      <th>7031</th>\n      <td>2601.0</td>\n      <td>2987.0</td>\n      <td>-1</td>\n      <td>6803.0</td>\n      <td>2608.0</td>\n      <td>-1</td>\n    </tr>\n    <tr>\n      <th>1915</th>\n      <td>7241.0</td>\n      <td>5000.0</td>\n      <td>-1</td>\n      <td>0.0</td>\n      <td>7241.0</td>\n      <td>-2</td>\n    </tr>\n  </tbody>\n</table>\n</div>"
     },
     "metadata": {},
     "output_type": "execute_result",
     "execution_count": 93
    }
   ],
   "source": [
    "sel_filter = ((df.PAY_5 == -1) & (df.BILL_AMT5 > 0))\n",
    "df_explore[sel_filter][['BILL_AMT5', 'PAY_AMT5', 'PAY_5', 'BILL_AMT4', 'PAY_AMT4', 'PAY_4']].sample(20)"
   ],
   "metadata": {
    "collapsed": false,
    "pycharm": {
     "name": "#%%\n",
     "is_executing": false
    }
   }
  },
  {
   "cell_type": "code",
   "execution_count": 92,
   "outputs": [
    {
     "data": {
      "text/plain": "         ID\nFalse   382\nTrue   1329",
      "text/html": "<div>\n<style scoped>\n    .dataframe tbody tr th:only-of-type {\n        vertical-align: middle;\n    }\n\n    .dataframe tbody tr th {\n        vertical-align: top;\n    }\n\n    .dataframe thead th {\n        text-align: right;\n    }\n</style>\n<table border=\"1\" class=\"dataframe\">\n  <thead>\n    <tr style=\"text-align: right;\">\n      <th></th>\n      <th>ID</th>\n    </tr>\n  </thead>\n  <tbody>\n    <tr>\n      <th>False</th>\n      <td>382</td>\n    </tr>\n    <tr>\n      <th>True</th>\n      <td>1329</td>\n    </tr>\n  </tbody>\n</table>\n</div>"
     },
     "metadata": {},
     "output_type": "execute_result",
     "execution_count": 92
    }
   ],
   "source": [
    "df_explore[sel_filter].groupby(df_explore.BILL_AMT5<=df_explore.PAY_AMT4).agg({'ID':'count'})"
   ],
   "metadata": {
    "collapsed": false,
    "pycharm": {
     "name": "#%%\n",
     "is_executing": false
    }
   }
  },
  {
   "cell_type": "code",
   "execution_count": 60,
   "outputs": [
    {
     "name": "stdout",
     "text": [
      "2324\n"
     ],
     "output_type": "stream"
    },
    {
     "data": {
      "text/plain": "         ID\nPAY_1      \n-2      556\n-1     1300\n 0      191\n 1      225\n 2       52",
      "text/html": "<div>\n<style scoped>\n    .dataframe tbody tr th:only-of-type {\n        vertical-align: middle;\n    }\n\n    .dataframe tbody tr th {\n        vertical-align: top;\n    }\n\n    .dataframe thead th {\n        text-align: right;\n    }\n</style>\n<table border=\"1\" class=\"dataframe\">\n  <thead>\n    <tr style=\"text-align: right;\">\n      <th></th>\n      <th>ID</th>\n    </tr>\n    <tr>\n      <th>PAY_1</th>\n      <th></th>\n    </tr>\n  </thead>\n  <tbody>\n    <tr>\n      <th>-2</th>\n      <td>556</td>\n    </tr>\n    <tr>\n      <th>-1</th>\n      <td>1300</td>\n    </tr>\n    <tr>\n      <th>0</th>\n      <td>191</td>\n    </tr>\n    <tr>\n      <th>1</th>\n      <td>225</td>\n    </tr>\n    <tr>\n      <th>2</th>\n      <td>52</td>\n    </tr>\n  </tbody>\n</table>\n</div>"
     },
     "metadata": {},
     "output_type": "execute_result",
     "execution_count": 60
    }
   ],
   "source": [
    "sel_filter = (\n",
    "        (df_explore.PAY_AMT1 >= df_explore.BILL_AMT2)\\\n",
    "        &(df_explore.PAY_AMT1!=0)\\\n",
    "        &(df_explore.BILL_AMT2!=0))\n",
    "\n",
    "print(df_explore[sel_filter]['ID'].count())\n",
    "#df_explore[sel_filter][np.array(col_names)].sample(10)\n",
    "df_explore[sel_filter].groupby('PAY_1').agg({'ID':'count'})"
   ],
   "metadata": {
    "collapsed": false,
    "pycharm": {
     "name": "#%%\n",
     "is_executing": false
    }
   }
  },
  {
   "cell_type": "code",
   "execution_count": 45,
   "outputs": [
    {
     "data": {
      "text/plain": "198"
     },
     "metadata": {},
     "output_type": "execute_result",
     "execution_count": 45
    }
   ],
   "source": [
    "sel_filter = (\n",
    "        (df_explore.PAY_AMT2 == df_explore.BILL_AMT2)\\\n",
    "        &(df_explore.PAY_AMT2!=0)\\\n",
    "        &(df_explore.BILL_AMT2!=0))\n",
    "\n",
    "df_explore[sel_filter]['ID'].count()"
   ],
   "metadata": {
    "collapsed": false,
    "pycharm": {
     "name": "#%%\n",
     "is_executing": false
    }
   }
  },
  {
   "cell_type": "code",
   "execution_count": 66,
   "outputs": [
    {
     "name": "stdout",
     "text": [
      "7656\n",
      "1563\n"
     ],
     "output_type": "stream"
    }
   ],
   "source": [
    "sel_filter = \\\n",
    "        ((df_explore.PAY_AMT5!=0)\\\n",
    "        &(df_explore.BILL_AMT6!=0))\n",
    "\n",
    "print(df_explore[sel_filter]['ID'].count())\n",
    "\n",
    "sel_filter = \\\n",
    "        ((df_explore.PAY_AMT5 == df_explore.BILL_AMT6)\\\n",
    "        &(df_explore.PAY_AMT5!=0)\\\n",
    "        &(df_explore.BILL_AMT6!=0))\n",
    "\n",
    "print(df_explore[sel_filter]['ID'].count())\n",
    "\n",
    "\n",
    "\n",
    "\n"
   ],
   "metadata": {
    "collapsed": false,
    "pycharm": {
     "name": "#%%\n",
     "is_executing": false
    }
   }
  },
  {
   "cell_type": "code",
   "execution_count": null,
   "outputs": [],
   "source": [
    "\n"
   ],
   "metadata": {
    "collapsed": false,
    "pycharm": {
     "name": "#%%\n"
    }
   }
  }
 ],
 "metadata": {
  "kernelspec": {
   "display_name": "Python 3",
   "language": "python",
   "name": "python3"
  },
  "language_info": {
   "codemirror_mode": {
    "name": "ipython",
    "version": 2
   },
   "file_extension": ".py",
   "mimetype": "text/x-python",
   "name": "python",
   "nbconvert_exporter": "python",
   "pygments_lexer": "ipython2",
   "version": "2.7.6"
  },
  "pycharm": {
   "stem_cell": {
    "cell_type": "raw",
    "source": [],
    "metadata": {
     "collapsed": false
    }
   }
  }
 },
 "nbformat": 4,
 "nbformat_minor": 0
}