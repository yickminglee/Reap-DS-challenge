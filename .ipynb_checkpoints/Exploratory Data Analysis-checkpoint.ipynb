{
 "cells": [
  {
   "cell_type": "code",
   "execution_count": 294,
   "metadata": {
    "pycharm": {
     "name": "#%%\n"
    }
   },
   "outputs": [],
   "source": [
    "# Import\n",
    "\n",
    "# Basic\n",
    "from time import time\n",
    "import numpy as np # linear algebra\n",
    "import pandas as pd # data processing, CSV file I/O (e.g. pd.read_csv)\n",
    "\n",
    "# Viz\n",
    "import matplotlib.pyplot as plt\n",
    "%matplotlib inline\n",
    "import seaborn as sns\n"
   ]
  },
  {
   "cell_type": "markdown",
   "metadata": {},
   "source": [
    "---\n",
    "# My Plan\n",
    "\n",
    "My ultimate objective is to predict the probability of credit card defaults. My plan is to develop a classification algorithm, to predict if a user is going to default. Then, I can predict the probability of default based on the number of predicted default users.\n",
    "\n",
    "1. Load data and check columns\n",
    "2. Calculate the percentage of credit card defaults out of all the users\n",
    "3. Explore the whole dataset and find any interesting insights. At the same time, \n",
    "    - evaluate the data quality \n",
    "    - figure out whether outliers exist\n",
    "    - Clean Data\n",
    "4. Perform feature engineering\n",
    "5. Quick fit and Select the strongest predictors\n",
    "\n"
   ]
  },
  {
   "cell_type": "markdown",
   "metadata": {},
   "source": [
    "---\n",
    "# 1. Loading Credit Card User Data"
   ]
  },
  {
   "cell_type": "code",
   "execution_count": 295,
   "metadata": {
    "pycharm": {
     "name": "#%%\n"
    }
   },
   "outputs": [
    {
     "data": {
      "text/plain": [
       "ID                              int64\n",
       "LIMIT_BAL                     float64\n",
       "SEX                             int64\n",
       "EDUCATION                       int64\n",
       "MARRIAGE                        int64\n",
       "AGE                             int64\n",
       "PAY_0                           int64\n",
       "PAY_2                           int64\n",
       "PAY_3                           int64\n",
       "PAY_4                           int64\n",
       "PAY_5                           int64\n",
       "PAY_6                           int64\n",
       "BILL_AMT1                     float64\n",
       "BILL_AMT2                     float64\n",
       "BILL_AMT3                     float64\n",
       "BILL_AMT4                     float64\n",
       "BILL_AMT5                     float64\n",
       "BILL_AMT6                     float64\n",
       "PAY_AMT1                      float64\n",
       "PAY_AMT2                      float64\n",
       "PAY_AMT3                      float64\n",
       "PAY_AMT4                      float64\n",
       "PAY_AMT5                      float64\n",
       "PAY_AMT6                      float64\n",
       "default.payment.next.month      int64\n",
       "PAY_1                         float64\n",
       "dtype: object"
      ]
     },
     "execution_count": 295,
     "metadata": {},
     "output_type": "execute_result"
    }
   ],
   "source": [
    "# Load the data\n",
    "df = pd.read_csv('dataset/data.csv') \n",
    "df.dtypes\n"
   ]
  },
  {
   "cell_type": "markdown",
   "metadata": {},
   "source": [
    "---\n",
    "\n",
    "PAY_1 is not in the data dictionary. Let's see whats in it."
   ]
  },
  {
   "cell_type": "code",
   "execution_count": 296,
   "metadata": {
    "pycharm": {
     "name": "#%%\n"
    }
   },
   "outputs": [
    {
     "data": {
      "text/plain": [
       "0      NaN\n",
       "1      NaN\n",
       "2      NaN\n",
       "3      NaN\n",
       "4      NaN\n",
       "        ..\n",
       "9995   NaN\n",
       "9996   NaN\n",
       "9997   NaN\n",
       "9998   NaN\n",
       "9999   NaN\n",
       "Name: PAY_1, Length: 10000, dtype: float64"
      ]
     },
     "execution_count": 296,
     "metadata": {},
     "output_type": "execute_result"
    }
   ],
   "source": [
    "df.PAY_1"
   ]
  },
  {
   "cell_type": "markdown",
   "metadata": {},
   "source": [
    "Looks like its all missing values. Let's do a quick check."
   ]
  },
  {
   "cell_type": "code",
   "execution_count": 297,
   "metadata": {
    "pycharm": {
     "name": "#%%\n"
    }
   },
   "outputs": [
    {
     "data": {
      "text/html": [
       "<div>\n",
       "<style scoped>\n",
       "    .dataframe tbody tr th:only-of-type {\n",
       "        vertical-align: middle;\n",
       "    }\n",
       "\n",
       "    .dataframe tbody tr th {\n",
       "        vertical-align: top;\n",
       "    }\n",
       "\n",
       "    .dataframe thead th {\n",
       "        text-align: right;\n",
       "    }\n",
       "</style>\n",
       "<table border=\"1\" class=\"dataframe\">\n",
       "  <thead>\n",
       "    <tr style=\"text-align: right;\">\n",
       "      <th></th>\n",
       "      <th>ID</th>\n",
       "    </tr>\n",
       "    <tr>\n",
       "      <th>PAY_1</th>\n",
       "      <th></th>\n",
       "    </tr>\n",
       "  </thead>\n",
       "  <tbody>\n",
       "    <tr>\n",
       "      <th>0.0</th>\n",
       "      <td>100</td>\n",
       "    </tr>\n",
       "    <tr>\n",
       "      <th>nan</th>\n",
       "      <td>9900</td>\n",
       "    </tr>\n",
       "  </tbody>\n",
       "</table>\n",
       "</div>"
      ],
      "text/plain": [
       "         ID\n",
       "PAY_1      \n",
       "0.0     100\n",
       "nan    9900"
      ]
     },
     "execution_count": 297,
     "metadata": {},
     "output_type": "execute_result"
    }
   ],
   "source": [
    "df.groupby(df.PAY_1.astype(str)).agg({'ID':'count'})"
   ]
  },
  {
   "cell_type": "markdown",
   "metadata": {},
   "source": [
    "Yes, almost all of it are missing values. 100 of them are labelled as 0 but 0 has not be defined in the data dictionary. So, there is no meaningful data in this column.\n",
    "\n",
    "Therefore, I have decided to remove PAY_1.\n",
    "\n"
   ]
  },
  {
   "cell_type": "code",
   "execution_count": 298,
   "metadata": {
    "pycharm": {
     "name": "#%%\n"
    }
   },
   "outputs": [
    {
     "data": {
      "text/plain": [
       "ID                              int64\n",
       "LIMIT_BAL                     float64\n",
       "SEX                             int64\n",
       "EDUCATION                       int64\n",
       "MARRIAGE                        int64\n",
       "AGE                             int64\n",
       "PAY_0                           int64\n",
       "PAY_2                           int64\n",
       "PAY_3                           int64\n",
       "PAY_4                           int64\n",
       "PAY_5                           int64\n",
       "PAY_6                           int64\n",
       "BILL_AMT1                     float64\n",
       "BILL_AMT2                     float64\n",
       "BILL_AMT3                     float64\n",
       "BILL_AMT4                     float64\n",
       "BILL_AMT5                     float64\n",
       "BILL_AMT6                     float64\n",
       "PAY_AMT1                      float64\n",
       "PAY_AMT2                      float64\n",
       "PAY_AMT3                      float64\n",
       "PAY_AMT4                      float64\n",
       "PAY_AMT5                      float64\n",
       "PAY_AMT6                      float64\n",
       "default.payment.next.month      int64\n",
       "dtype: object"
      ]
     },
     "execution_count": 298,
     "metadata": {},
     "output_type": "execute_result"
    }
   ],
   "source": [
    "df.drop(columns=['PAY_1'], inplace=True)\n",
    "df.dtypes\n"
   ]
  },
  {
   "cell_type": "markdown",
   "metadata": {},
   "source": [
    "---\n",
    "On the other hand, according to the dictionary, PAY_0 is the Repayment status in September, which is inconsistent with the labelling of BILL_AMT1 (September) and PAY_AMT1 (September). Therefore, I believe 'PAY_0' was a mislabelled. I will rename it as PAY_1."
   ]
  },
  {
   "cell_type": "code",
   "execution_count": 299,
   "metadata": {
    "pycharm": {
     "name": "#%%\n"
    }
   },
   "outputs": [
    {
     "data": {
      "text/plain": [
       "ID                              int64\n",
       "LIMIT_BAL                     float64\n",
       "SEX                             int64\n",
       "EDUCATION                       int64\n",
       "MARRIAGE                        int64\n",
       "AGE                             int64\n",
       "PAY_1                           int64\n",
       "PAY_2                           int64\n",
       "PAY_3                           int64\n",
       "PAY_4                           int64\n",
       "PAY_5                           int64\n",
       "PAY_6                           int64\n",
       "BILL_AMT1                     float64\n",
       "BILL_AMT2                     float64\n",
       "BILL_AMT3                     float64\n",
       "BILL_AMT4                     float64\n",
       "BILL_AMT5                     float64\n",
       "BILL_AMT6                     float64\n",
       "PAY_AMT1                      float64\n",
       "PAY_AMT2                      float64\n",
       "PAY_AMT3                      float64\n",
       "PAY_AMT4                      float64\n",
       "PAY_AMT5                      float64\n",
       "PAY_AMT6                      float64\n",
       "default.payment.next.month      int64\n",
       "dtype: object"
      ]
     },
     "execution_count": 299,
     "metadata": {},
     "output_type": "execute_result"
    }
   ],
   "source": [
    "# fixing the names\n",
    "df = df.rename(columns={'PAY_0': 'PAY_1'})\n",
    "df.dtypes\n",
    "\n"
   ]
  },
  {
   "cell_type": "markdown",
   "metadata": {},
   "source": [
    "---\n",
    "I found the field name 'default.payment.next.month' not easy to use. Therefore, I am going to rename it as 'DEFAULT_PAY'.\n"
   ]
  },
  {
   "cell_type": "code",
   "execution_count": 300,
   "metadata": {
    "pycharm": {
     "name": "#%%\n"
    }
   },
   "outputs": [
    {
     "data": {
      "text/plain": [
       "ID               int64\n",
       "LIMIT_BAL      float64\n",
       "SEX              int64\n",
       "EDUCATION        int64\n",
       "MARRIAGE         int64\n",
       "AGE              int64\n",
       "PAY_1            int64\n",
       "PAY_2            int64\n",
       "PAY_3            int64\n",
       "PAY_4            int64\n",
       "PAY_5            int64\n",
       "PAY_6            int64\n",
       "BILL_AMT1      float64\n",
       "BILL_AMT2      float64\n",
       "BILL_AMT3      float64\n",
       "BILL_AMT4      float64\n",
       "BILL_AMT5      float64\n",
       "BILL_AMT6      float64\n",
       "PAY_AMT1       float64\n",
       "PAY_AMT2       float64\n",
       "PAY_AMT3       float64\n",
       "PAY_AMT4       float64\n",
       "PAY_AMT5       float64\n",
       "PAY_AMT6       float64\n",
       "DEFAULT_PAY      int64\n",
       "dtype: object"
      ]
     },
     "execution_count": 300,
     "metadata": {},
     "output_type": "execute_result"
    }
   ],
   "source": [
    "# fixing the names\n",
    "df = df.rename(columns={'default.payment.next.month': 'DEFAULT_PAY'})\n",
    "df.dtypes\n"
   ]
  },
  {
   "cell_type": "markdown",
   "metadata": {},
   "source": [
    "---\n",
    "# 2. Calculate the percentage of credit card defaults out of all the users\n"
   ]
  },
  {
   "cell_type": "code",
   "execution_count": 301,
   "metadata": {
    "pycharm": {
     "name": "#%%\n"
    }
   },
   "outputs": [
    {
     "data": {
      "text/plain": [
       "0.2238"
      ]
     },
     "execution_count": 301,
     "metadata": {},
     "output_type": "execute_result"
    }
   ],
   "source": [
    "df.DEFAULT_PAY.sum() / len(df.DEFAULT_PAY)\n"
   ]
  },
  {
   "cell_type": "markdown",
   "metadata": {},
   "source": [
    "22% of credit card user have defaulted. \n",
    "\n",
    "In mentioned earlier, I have to develop a classification algorithm. However, given this uneven class distribution (78% vs 22%), we have to be careful when choosing our evaluation metric. F1 is, in my knowledge, the best candidate.\n",
    "\n"
   ]
  },
  {
   "cell_type": "markdown",
   "metadata": {},
   "source": [
    "---\n",
    "# 3. Explore the whole dataset and find any interesting insights\n"
   ]
  },
  {
   "cell_type": "code",
   "execution_count": 302,
   "metadata": {
    "pycharm": {
     "name": "#%%\n"
    }
   },
   "outputs": [],
   "source": [
    "# create a copy of df so that I could improve the labelling of categories. \n",
    "df_explore = df.copy()"
   ]
  },
  {
   "cell_type": "markdown",
   "metadata": {},
   "source": [
    "---\n",
    "## 3.1. Categorical data\n",
    "There are Sex, Education and Marriage.\n"
   ]
  },
  {
   "cell_type": "markdown",
   "metadata": {},
   "source": [
    "---\n",
    "### Sex\n",
    "Key: 1=male, 2=female\n"
   ]
  },
  {
   "cell_type": "code",
   "execution_count": 303,
   "metadata": {
    "pycharm": {
     "name": "#%%\n"
    }
   },
   "outputs": [],
   "source": [
    "# relabel\n",
    "df_explore['SEX'] = df_explore['SEX'].replace([1,2],['male','female'])\n"
   ]
  },
  {
   "cell_type": "code",
   "execution_count": 304,
   "metadata": {
    "pycharm": {
     "name": "#%%\n"
    }
   },
   "outputs": [
    {
     "data": {
      "image/png": "[encoded data removed]",
      "text/plain": [
       "<Figure size 432x288 with 1 Axes>"
      ]
     },
     "metadata": {
      "needs_background": "light"
     },
     "output_type": "display_data"
    }
   ],
   "source": [
    "def bar_chart(df, col):\n",
    "    ax = sns.countplot(x=col, data=df)\n",
    "    \n",
    "    for p in ax.patches:\n",
    "        ax.annotate(\\\n",
    "            format(p.get_height(), '.2f'), \\\n",
    "            (p.get_x() + p.get_width() / 2., p.get_height()), \\\n",
    "            ha = 'center', va = 'center', \\\n",
    "            xytext = (0, 10), \\\n",
    "            textcoords = 'offset points')\n",
    "\n",
    "bar_chart(df_explore, 'SEX')\n",
    "\n",
    "    "
   ]
  },
  {
   "cell_type": "code",
   "execution_count": 305,
   "metadata": {
    "pycharm": {
     "name": "#%%\n"
    }
   },
   "outputs": [
    {
     "data": {
      "text/html": [
       "<div>\n",
       "<style scoped>\n",
       "    .dataframe tbody tr th:only-of-type {\n",
       "        vertical-align: middle;\n",
       "    }\n",
       "\n",
       "    .dataframe tbody tr th {\n",
       "        vertical-align: top;\n",
       "    }\n",
       "\n",
       "    .dataframe thead th {\n",
       "        text-align: right;\n",
       "    }\n",
       "</style>\n",
       "<table border=\"1\" class=\"dataframe\">\n",
       "  <thead>\n",
       "    <tr style=\"text-align: right;\">\n",
       "      <th>DEFAULT_PAY</th>\n",
       "      <th>0</th>\n",
       "      <th>1</th>\n",
       "      <th>perc</th>\n",
       "    </tr>\n",
       "    <tr>\n",
       "      <th>SEX</th>\n",
       "      <th></th>\n",
       "      <th></th>\n",
       "      <th></th>\n",
       "    </tr>\n",
       "  </thead>\n",
       "  <tbody>\n",
       "    <tr>\n",
       "      <th>female</th>\n",
       "      <td>4723</td>\n",
       "      <td>1300</td>\n",
       "      <td>0.215839</td>\n",
       "    </tr>\n",
       "    <tr>\n",
       "      <th>male</th>\n",
       "      <td>3039</td>\n",
       "      <td>938</td>\n",
       "      <td>0.235856</td>\n",
       "    </tr>\n",
       "  </tbody>\n",
       "</table>\n",
       "</div>"
      ],
      "text/plain": [
       "DEFAULT_PAY     0     1      perc\n",
       "SEX                              \n",
       "female       4723  1300  0.215839\n",
       "male         3039   938  0.235856"
      ]
     },
     "execution_count": 305,
     "metadata": {},
     "output_type": "execute_result"
    }
   ],
   "source": [
    "def d_rate_by_col(df, col):\n",
    "    d_rate = df.groupby([col, 'DEFAULT_PAY']).size().unstack()\n",
    "    d_rate['perc'] = \\\n",
    "        (d_rate[d_rate.columns[1]]/(d_rate[d_rate.columns[0]] + d_rate[d_rate.columns[1]]))\n",
    "    return d_rate\n",
    "\n",
    "d_rate_by_col(df_explore, 'SEX')"
   ]
  },
  {
   "cell_type": "markdown",
   "metadata": {},
   "source": [
    "There are more female than male.\n",
    "\n",
    "Male are more likely to default than Female. \n"
   ]
  },
  {
   "cell_type": "markdown",
   "metadata": {},
   "source": [
    "---\n",
    "### Education\n",
    "Key: 1=graduate school, 2=university, 3=high school, 4=others, 5=unknown, 6=unknown\n"
   ]
  },
  {
   "cell_type": "code",
   "execution_count": 306,
   "metadata": {
    "pycharm": {
     "name": "#%%\n"
    }
   },
   "outputs": [
    {
     "data": {
      "text/html": [
       "<div>\n",
       "<style scoped>\n",
       "    .dataframe tbody tr th:only-of-type {\n",
       "        vertical-align: middle;\n",
       "    }\n",
       "\n",
       "    .dataframe tbody tr th {\n",
       "        vertical-align: top;\n",
       "    }\n",
       "\n",
       "    .dataframe thead th {\n",
       "        text-align: right;\n",
       "    }\n",
       "</style>\n",
       "<table border=\"1\" class=\"dataframe\">\n",
       "  <thead>\n",
       "    <tr style=\"text-align: right;\">\n",
       "      <th></th>\n",
       "      <th>ID</th>\n",
       "    </tr>\n",
       "    <tr>\n",
       "      <th>EDUCATION</th>\n",
       "      <th></th>\n",
       "    </tr>\n",
       "  </thead>\n",
       "  <tbody>\n",
       "    <tr>\n",
       "      <th>0</th>\n",
       "      <td>8</td>\n",
       "    </tr>\n",
       "    <tr>\n",
       "      <th>1</th>\n",
       "      <td>3514</td>\n",
       "    </tr>\n",
       "    <tr>\n",
       "      <th>2</th>\n",
       "      <td>4585</td>\n",
       "    </tr>\n",
       "    <tr>\n",
       "      <th>3</th>\n",
       "      <td>1633</td>\n",
       "    </tr>\n",
       "    <tr>\n",
       "      <th>4</th>\n",
       "      <td>46</td>\n",
       "    </tr>\n",
       "    <tr>\n",
       "      <th>5</th>\n",
       "      <td>90</td>\n",
       "    </tr>\n",
       "    <tr>\n",
       "      <th>6</th>\n",
       "      <td>124</td>\n",
       "    </tr>\n",
       "  </tbody>\n",
       "</table>\n",
       "</div>"
      ],
      "text/plain": [
       "             ID\n",
       "EDUCATION      \n",
       "0             8\n",
       "1          3514\n",
       "2          4585\n",
       "3          1633\n",
       "4            46\n",
       "5            90\n",
       "6           124"
      ]
     },
     "execution_count": 306,
     "metadata": {},
     "output_type": "execute_result"
    }
   ],
   "source": [
    "df_explore.groupby(df_explore.EDUCATION.astype(str)).agg({'ID':'count'})\n",
    "\n"
   ]
  },
  {
   "cell_type": "markdown",
   "metadata": {},
   "source": [
    "0 has not been defined in the data dictionary. So, I am going to group it together with 5 and 6 (both unknown).\n",
    "\n",
    "In addition, 4 only has 46 samples. It is not going to be a strong predictor anyway so I am going to merge it with the unknown group."
   ]
  },
  {
   "cell_type": "code",
   "execution_count": 307,
   "metadata": {
    "pycharm": {
     "name": "#%%\n"
    }
   },
   "outputs": [],
   "source": [
    "# relabel and re-group\n",
    "df_explore['EDUCATION'] = \\\n",
    "    df_explore['EDUCATION'].replace([0,4,5,6],'unknown_and_others')\n",
    "df_explore['EDUCATION'] = df_explore['EDUCATION'].replace([1,2,3],['graduate_school','university','high_school'])\n"
   ]
  },
  {
   "cell_type": "code",
   "execution_count": 308,
   "metadata": {
    "pycharm": {
     "name": "#%%\n"
    }
   },
   "outputs": [
    {
     "data": {
      "image/png": "[encoded data removed]",
      "text/plain": [
       "<Figure size 432x288 with 1 Axes>"
      ]
     },
     "metadata": {
      "needs_background": "light"
     },
     "output_type": "display_data"
    }
   ],
   "source": [
    "bar_chart(df_explore, 'EDUCATION')"
   ]
  },
  {
   "cell_type": "code",
   "execution_count": 309,
   "metadata": {
    "pycharm": {
     "name": "#%%\n"
    }
   },
   "outputs": [
    {
     "data": {
      "text/html": [
       "<div>\n",
       "<style scoped>\n",
       "    .dataframe tbody tr th:only-of-type {\n",
       "        vertical-align: middle;\n",
       "    }\n",
       "\n",
       "    .dataframe tbody tr th {\n",
       "        vertical-align: top;\n",
       "    }\n",
       "\n",
       "    .dataframe thead th {\n",
       "        text-align: right;\n",
       "    }\n",
       "</style>\n",
       "<table border=\"1\" class=\"dataframe\">\n",
       "  <thead>\n",
       "    <tr style=\"text-align: right;\">\n",
       "      <th>DEFAULT_PAY</th>\n",
       "      <th>0</th>\n",
       "      <th>1</th>\n",
       "      <th>perc</th>\n",
       "    </tr>\n",
       "    <tr>\n",
       "      <th>EDUCATION</th>\n",
       "      <th></th>\n",
       "      <th></th>\n",
       "      <th></th>\n",
       "    </tr>\n",
       "  </thead>\n",
       "  <tbody>\n",
       "    <tr>\n",
       "      <th>graduate_school</th>\n",
       "      <td>2819</td>\n",
       "      <td>695</td>\n",
       "      <td>0.197780</td>\n",
       "    </tr>\n",
       "    <tr>\n",
       "      <th>high_school</th>\n",
       "      <td>1223</td>\n",
       "      <td>410</td>\n",
       "      <td>0.251072</td>\n",
       "    </tr>\n",
       "    <tr>\n",
       "      <th>university</th>\n",
       "      <td>3465</td>\n",
       "      <td>1120</td>\n",
       "      <td>0.244275</td>\n",
       "    </tr>\n",
       "    <tr>\n",
       "      <th>unknown_and_others</th>\n",
       "      <td>255</td>\n",
       "      <td>13</td>\n",
       "      <td>0.048507</td>\n",
       "    </tr>\n",
       "  </tbody>\n",
       "</table>\n",
       "</div>"
      ],
      "text/plain": [
       "DEFAULT_PAY            0     1      perc\n",
       "EDUCATION                               \n",
       "graduate_school     2819   695  0.197780\n",
       "high_school         1223   410  0.251072\n",
       "university          3465  1120  0.244275\n",
       "unknown_and_others   255    13  0.048507"
      ]
     },
     "execution_count": 309,
     "metadata": {},
     "output_type": "execute_result"
    }
   ],
   "source": [
    "d_rate_by_col(df_explore, 'EDUCATION')"
   ]
  },
  {
   "cell_type": "markdown",
   "metadata": {},
   "source": [
    "Most users are university students. The second biggest group is graduate students.\n",
    "\n",
    "It seems like the higher the education level (high school < university < graduate school) the lower the default rate.  \n"
   ]
  },
  {
   "cell_type": "markdown",
   "metadata": {},
   "source": [
    "---\n",
    "\n",
    "### Marriage\n",
    "Key: 1=married, 2=single, 3=others"
   ]
  },
  {
   "cell_type": "code",
   "execution_count": 310,
   "metadata": {
    "pycharm": {
     "name": "#%%\n"
    }
   },
   "outputs": [
    {
     "data": {
      "text/html": [
       "<div>\n",
       "<style scoped>\n",
       "    .dataframe tbody tr th:only-of-type {\n",
       "        vertical-align: middle;\n",
       "    }\n",
       "\n",
       "    .dataframe tbody tr th {\n",
       "        vertical-align: top;\n",
       "    }\n",
       "\n",
       "    .dataframe thead th {\n",
       "        text-align: right;\n",
       "    }\n",
       "</style>\n",
       "<table border=\"1\" class=\"dataframe\">\n",
       "  <thead>\n",
       "    <tr style=\"text-align: right;\">\n",
       "      <th></th>\n",
       "      <th>ID</th>\n",
       "    </tr>\n",
       "    <tr>\n",
       "      <th>MARRIAGE</th>\n",
       "      <th></th>\n",
       "    </tr>\n",
       "  </thead>\n",
       "  <tbody>\n",
       "    <tr>\n",
       "      <th>0</th>\n",
       "      <td>13</td>\n",
       "    </tr>\n",
       "    <tr>\n",
       "      <th>1</th>\n",
       "      <td>4476</td>\n",
       "    </tr>\n",
       "    <tr>\n",
       "      <th>2</th>\n",
       "      <td>5287</td>\n",
       "    </tr>\n",
       "    <tr>\n",
       "      <th>3</th>\n",
       "      <td>224</td>\n",
       "    </tr>\n",
       "  </tbody>\n",
       "</table>\n",
       "</div>"
      ],
      "text/plain": [
       "            ID\n",
       "MARRIAGE      \n",
       "0           13\n",
       "1         4476\n",
       "2         5287\n",
       "3          224"
      ]
     },
     "execution_count": 310,
     "metadata": {},
     "output_type": "execute_result"
    }
   ],
   "source": [
    "df_explore.groupby(df_explore.MARRIAGE.astype(str)).agg({'ID':'count'})\n"
   ]
  },
  {
   "cell_type": "markdown",
   "metadata": {},
   "source": [
    "0 has not been defined in the data dictionary. It only has 13 samples. So, I am going to group it with 3 (others).\n"
   ]
  },
  {
   "cell_type": "code",
   "execution_count": 311,
   "metadata": {
    "pycharm": {
     "name": "#%%\n"
    }
   },
   "outputs": [],
   "source": [
    "# relabel and re-group\n",
    "df_explore['MARRIAGE'] = \\\n",
    "    df_explore['MARRIAGE'].replace([0,3],'unknown_and_others')\n",
    "df_explore['MARRIAGE'] = df_explore['MARRIAGE'].replace([1,2],['married','single'])\n"
   ]
  },
  {
   "cell_type": "code",
   "execution_count": 312,
   "metadata": {
    "pycharm": {
     "name": "#%%\n"
    }
   },
   "outputs": [
    {
     "data": {
      "image/png": "[encoded data removed]",
      "text/plain": [
       "<Figure size 432x288 with 1 Axes>"
      ]
     },
     "metadata": {
      "needs_background": "light"
     },
     "output_type": "display_data"
    }
   ],
   "source": [
    "bar_chart(df_explore, 'MARRIAGE')"
   ]
  },
  {
   "cell_type": "code",
   "execution_count": 313,
   "metadata": {
    "pycharm": {
     "name": "#%%\n"
    }
   },
   "outputs": [
    {
     "data": {
      "text/html": [
       "<div>\n",
       "<style scoped>\n",
       "    .dataframe tbody tr th:only-of-type {\n",
       "        vertical-align: middle;\n",
       "    }\n",
       "\n",
       "    .dataframe tbody tr th {\n",
       "        vertical-align: top;\n",
       "    }\n",
       "\n",
       "    .dataframe thead th {\n",
       "        text-align: right;\n",
       "    }\n",
       "</style>\n",
       "<table border=\"1\" class=\"dataframe\">\n",
       "  <thead>\n",
       "    <tr style=\"text-align: right;\">\n",
       "      <th>DEFAULT_PAY</th>\n",
       "      <th>0</th>\n",
       "      <th>1</th>\n",
       "      <th>perc</th>\n",
       "    </tr>\n",
       "    <tr>\n",
       "      <th>MARRIAGE</th>\n",
       "      <th></th>\n",
       "      <th></th>\n",
       "      <th></th>\n",
       "    </tr>\n",
       "  </thead>\n",
       "  <tbody>\n",
       "    <tr>\n",
       "      <th>married</th>\n",
       "      <td>3393</td>\n",
       "      <td>1083</td>\n",
       "      <td>0.241957</td>\n",
       "    </tr>\n",
       "    <tr>\n",
       "      <th>single</th>\n",
       "      <td>4175</td>\n",
       "      <td>1112</td>\n",
       "      <td>0.210327</td>\n",
       "    </tr>\n",
       "    <tr>\n",
       "      <th>unknown_and_others</th>\n",
       "      <td>194</td>\n",
       "      <td>43</td>\n",
       "      <td>0.181435</td>\n",
       "    </tr>\n",
       "  </tbody>\n",
       "</table>\n",
       "</div>"
      ],
      "text/plain": [
       "DEFAULT_PAY            0     1      perc\n",
       "MARRIAGE                                \n",
       "married             3393  1083  0.241957\n",
       "single              4175  1112  0.210327\n",
       "unknown_and_others   194    43  0.181435"
      ]
     },
     "execution_count": 313,
     "metadata": {},
     "output_type": "execute_result"
    }
   ],
   "source": [
    "d_rate_by_col(df_explore, 'MARRIAGE')"
   ]
  },
  {
   "cell_type": "markdown",
   "metadata": {},
   "source": [
    "Most users are single. \n",
    "\n",
    "Married users have higher default rate.\n"
   ]
  },
  {
   "cell_type": "markdown",
   "metadata": {},
   "source": [
    "---\n",
    "\n",
    "## 3.1. Continuous data\n",
    "There are \n",
    "- Credit, \n",
    "- Age, \n",
    "- Repayment status in month X, \n",
    "- Amount of bill statement in month X,\n",
    "- Amount of previous payment in month X."
   ]
  },
  {
   "cell_type": "markdown",
   "metadata": {},
   "source": [
    "---\n",
    "\n",
    "### Credit\n"
   ]
  },
  {
   "cell_type": "code",
   "execution_count": 314,
   "metadata": {
    "pycharm": {
     "name": "#%%\n"
    }
   },
   "outputs": [
    {
     "data": {
      "text/plain": [
       "<matplotlib.axes._subplots.AxesSubplot at 0x1295c46a0>"
      ]
     },
     "execution_count": 314,
     "metadata": {},
     "output_type": "execute_result"
    },
    {
     "data": {
      "image/png": "[encoded data removed]",
      "text/plain": [
       "<Figure size 432x288 with 1 Axes>"
      ]
     },
     "metadata": {
      "needs_background": "light"
     },
     "output_type": "display_data"
    }
   ],
   "source": [
    "sns.distplot( df_explore['LIMIT_BAL'], bins=20)\n"
   ]
  },
  {
   "cell_type": "code",
   "execution_count": 315,
   "metadata": {
    "pycharm": {
     "name": "#%%\n"
    }
   },
   "outputs": [
    {
     "data": {
      "image/png": "[encoded data removed]",
      "text/plain": [
       "<Figure size 864x432 with 2 Axes>"
      ]
     },
     "metadata": {
      "needs_background": "light"
     },
     "output_type": "display_data"
    }
   ],
   "source": [
    "def def_dist(df, col, bins):\n",
    "    g = sns.FacetGrid(df, row='DEFAULT_PAY',\n",
    "                  height=3, aspect=4,)\n",
    "    g.map(sns.distplot, col, bins=bins);\n",
    "\n",
    "def_dist(df_explore, 'LIMIT_BAL', 20)\n",
    "\n"
   ]
  },
  {
   "cell_type": "markdown",
   "metadata": {},
   "source": [
    "The distribution of credit is skewed, with a long tail of high credit users.\n",
    "\n",
    "As expected, the most defaulted users have lower credits.\n",
    "\n",
    "---\n",
    "\n",
    "### Age\n"
   ]
  },
  {
   "cell_type": "code",
   "execution_count": 316,
   "metadata": {
    "pycharm": {
     "name": "#%%\n"
    }
   },
   "outputs": [
    {
     "data": {
      "text/plain": [
       "<matplotlib.axes._subplots.AxesSubplot at 0x12c06d9e8>"
      ]
     },
     "execution_count": 316,
     "metadata": {},
     "output_type": "execute_result"
    },
    {
     "data": {
      "image/png": "[encoded data removed]",
      "text/plain": [
       "<Figure size 432x288 with 1 Axes>"
      ]
     },
     "metadata": {
      "needs_background": "light"
     },
     "output_type": "display_data"
    }
   ],
   "source": [
    "sns.distplot( df_explore['AGE'], bins=55)\n"
   ]
  },
  {
   "cell_type": "code",
   "execution_count": 317,
   "metadata": {
    "pycharm": {
     "name": "#%%\n"
    }
   },
   "outputs": [
    {
     "data": {
      "image/png": "[encoded data removed]",
      "text/plain": [
       "<Figure size 864x432 with 2 Axes>"
      ]
     },
     "metadata": {
      "needs_background": "light"
     },
     "output_type": "display_data"
    }
   ],
   "source": [
    "def_dist(df_explore, 'AGE', 60)\n"
   ]
  },
  {
   "cell_type": "markdown",
   "metadata": {},
   "source": [
    "The distribution of age is skewed, with a long tail of older users.\n",
    "\n",
    "The difference is not that obvious.\n"
   ]
  },
  {
   "cell_type": "markdown",
   "metadata": {},
   "source": [
    "---\n",
    "\n",
    "### Understanding the relationship among Bill, Payment and Repayment Status\n",
    "- BILL_AMT: Amount of bill statement in XXXX\n",
    "- PAY_AMT: Amount of previous payment in XXXX\n",
    "- PAY: Repayment status in XXXX, (-1=pay duly, 1=payment delay for one month, 2=payment delay for two months, … 8=payment delay for eight months, 9=payment delay for nine months and above)\n",
    "\n",
    "To understand the relationship among the factors, I have selected the items with repayment status = pay duly (i.e. -1).  \n"
   ]
  },
  {
   "cell_type": "code",
   "execution_count": 318,
   "metadata": {
    "pycharm": {
     "name": "#%%\n"
    }
   },
   "outputs": [
    {
     "data": {
      "text/html": [
       "<div>\n",
       "<style scoped>\n",
       "    .dataframe tbody tr th:only-of-type {\n",
       "        vertical-align: middle;\n",
       "    }\n",
       "\n",
       "    .dataframe tbody tr th {\n",
       "        vertical-align: top;\n",
       "    }\n",
       "\n",
       "    .dataframe thead th {\n",
       "        text-align: right;\n",
       "    }\n",
       "</style>\n",
       "<table border=\"1\" class=\"dataframe\">\n",
       "  <thead>\n",
       "    <tr style=\"text-align: right;\">\n",
       "      <th></th>\n",
       "      <th>BILL_AMT6</th>\n",
       "      <th>PAY_AMT6</th>\n",
       "      <th>PAY_6</th>\n",
       "      <th>BILL_AMT5</th>\n",
       "      <th>PAY_AMT5</th>\n",
       "      <th>PAY_5</th>\n",
       "    </tr>\n",
       "  </thead>\n",
       "  <tbody>\n",
       "    <tr>\n",
       "      <th>1215</th>\n",
       "      <td>1650.0</td>\n",
       "      <td>0.0</td>\n",
       "      <td>-1</td>\n",
       "      <td>750.0</td>\n",
       "      <td>1650.0</td>\n",
       "      <td>0</td>\n",
       "    </tr>\n",
       "    <tr>\n",
       "      <th>9191</th>\n",
       "      <td>9368.0</td>\n",
       "      <td>6000.0</td>\n",
       "      <td>-1</td>\n",
       "      <td>15450.0</td>\n",
       "      <td>9368.0</td>\n",
       "      <td>0</td>\n",
       "    </tr>\n",
       "    <tr>\n",
       "      <th>7279</th>\n",
       "      <td>48944.0</td>\n",
       "      <td>1804.0</td>\n",
       "      <td>-1</td>\n",
       "      <td>11855.0</td>\n",
       "      <td>52964.0</td>\n",
       "      <td>0</td>\n",
       "    </tr>\n",
       "    <tr>\n",
       "      <th>6991</th>\n",
       "      <td>2712.0</td>\n",
       "      <td>0.0</td>\n",
       "      <td>-1</td>\n",
       "      <td>2599.0</td>\n",
       "      <td>2712.0</td>\n",
       "      <td>0</td>\n",
       "    </tr>\n",
       "    <tr>\n",
       "      <th>6724</th>\n",
       "      <td>1443.0</td>\n",
       "      <td>0.0</td>\n",
       "      <td>-1</td>\n",
       "      <td>3787.0</td>\n",
       "      <td>1443.0</td>\n",
       "      <td>-1</td>\n",
       "    </tr>\n",
       "    <tr>\n",
       "      <th>5330</th>\n",
       "      <td>3899.0</td>\n",
       "      <td>2346.0</td>\n",
       "      <td>-1</td>\n",
       "      <td>0.0</td>\n",
       "      <td>3899.0</td>\n",
       "      <td>0</td>\n",
       "    </tr>\n",
       "    <tr>\n",
       "      <th>2715</th>\n",
       "      <td>315.0</td>\n",
       "      <td>165.0</td>\n",
       "      <td>-1</td>\n",
       "      <td>0.0</td>\n",
       "      <td>315.0</td>\n",
       "      <td>-2</td>\n",
       "    </tr>\n",
       "    <tr>\n",
       "      <th>1416</th>\n",
       "      <td>124542.0</td>\n",
       "      <td>14770.0</td>\n",
       "      <td>-1</td>\n",
       "      <td>632.0</td>\n",
       "      <td>124542.0</td>\n",
       "      <td>-2</td>\n",
       "    </tr>\n",
       "    <tr>\n",
       "      <th>3289</th>\n",
       "      <td>10614.0</td>\n",
       "      <td>0.0</td>\n",
       "      <td>-1</td>\n",
       "      <td>0.0</td>\n",
       "      <td>10614.0</td>\n",
       "      <td>-2</td>\n",
       "    </tr>\n",
       "    <tr>\n",
       "      <th>7179</th>\n",
       "      <td>930.0</td>\n",
       "      <td>0.0</td>\n",
       "      <td>-1</td>\n",
       "      <td>390.0</td>\n",
       "      <td>930.0</td>\n",
       "      <td>0</td>\n",
       "    </tr>\n",
       "  </tbody>\n",
       "</table>\n",
       "</div>"
      ],
      "text/plain": [
       "      BILL_AMT6  PAY_AMT6  PAY_6  BILL_AMT5  PAY_AMT5  PAY_5\n",
       "1215     1650.0       0.0     -1      750.0    1650.0      0\n",
       "9191     9368.0    6000.0     -1    15450.0    9368.0      0\n",
       "7279    48944.0    1804.0     -1    11855.0   52964.0      0\n",
       "6991     2712.0       0.0     -1     2599.0    2712.0      0\n",
       "6724     1443.0       0.0     -1     3787.0    1443.0     -1\n",
       "5330     3899.0    2346.0     -1        0.0    3899.0      0\n",
       "2715      315.0     165.0     -1        0.0     315.0     -2\n",
       "1416   124542.0   14770.0     -1      632.0  124542.0     -2\n",
       "3289    10614.0       0.0     -1        0.0   10614.0     -2\n",
       "7179      930.0       0.0     -1      390.0     930.0      0"
      ]
     },
     "execution_count": 318,
     "metadata": {},
     "output_type": "execute_result"
    }
   ],
   "source": [
    "sel_filter = ((df.PAY_6 == -1) & (df.BILL_AMT6 > 0))\n",
    "df_explore[sel_filter][['BILL_AMT6', 'PAY_AMT6', 'PAY_6', 'BILL_AMT5', 'PAY_AMT5', 'PAY_5']].sample(10)"
   ]
  },
  {
   "cell_type": "code",
   "execution_count": 319,
   "metadata": {
    "pycharm": {
     "name": "#%%\n"
    }
   },
   "outputs": [
    {
     "data": {
      "text/html": [
       "<div>\n",
       "<style scoped>\n",
       "    .dataframe tbody tr th:only-of-type {\n",
       "        vertical-align: middle;\n",
       "    }\n",
       "\n",
       "    .dataframe tbody tr th {\n",
       "        vertical-align: top;\n",
       "    }\n",
       "\n",
       "    .dataframe thead th {\n",
       "        text-align: right;\n",
       "    }\n",
       "</style>\n",
       "<table border=\"1\" class=\"dataframe\">\n",
       "  <thead>\n",
       "    <tr style=\"text-align: right;\">\n",
       "      <th></th>\n",
       "      <th>ID</th>\n",
       "    </tr>\n",
       "  </thead>\n",
       "  <tbody>\n",
       "    <tr>\n",
       "      <th>False</th>\n",
       "      <td>41</td>\n",
       "    </tr>\n",
       "    <tr>\n",
       "      <th>True</th>\n",
       "      <td>1670</td>\n",
       "    </tr>\n",
       "  </tbody>\n",
       "</table>\n",
       "</div>"
      ],
      "text/plain": [
       "         ID\n",
       "False    41\n",
       "True   1670"
      ]
     },
     "execution_count": 319,
     "metadata": {},
     "output_type": "execute_result"
    }
   ],
   "source": [
    "df_explore[sel_filter].groupby(df_explore.BILL_AMT6<=df_explore.PAY_AMT5).agg({'ID':'count'})\n"
   ]
  },
  {
   "cell_type": "code",
   "execution_count": 320,
   "metadata": {
    "pycharm": {
     "name": "#%%\n"
    }
   },
   "outputs": [
    {
     "data": {
      "text/html": [
       "<div>\n",
       "<style scoped>\n",
       "    .dataframe tbody tr th:only-of-type {\n",
       "        vertical-align: middle;\n",
       "    }\n",
       "\n",
       "    .dataframe tbody tr th {\n",
       "        vertical-align: top;\n",
       "    }\n",
       "\n",
       "    .dataframe thead th {\n",
       "        text-align: right;\n",
       "    }\n",
       "</style>\n",
       "<table border=\"1\" class=\"dataframe\">\n",
       "  <thead>\n",
       "    <tr style=\"text-align: right;\">\n",
       "      <th></th>\n",
       "      <th>BILL_AMT5</th>\n",
       "      <th>PAY_AMT5</th>\n",
       "      <th>PAY_5</th>\n",
       "      <th>BILL_AMT4</th>\n",
       "      <th>PAY_AMT4</th>\n",
       "      <th>PAY_4</th>\n",
       "    </tr>\n",
       "  </thead>\n",
       "  <tbody>\n",
       "    <tr>\n",
       "      <th>9930</th>\n",
       "      <td>425.0</td>\n",
       "      <td>1000.0</td>\n",
       "      <td>-1</td>\n",
       "      <td>380.0</td>\n",
       "      <td>425.0</td>\n",
       "      <td>-1</td>\n",
       "    </tr>\n",
       "    <tr>\n",
       "      <th>8411</th>\n",
       "      <td>14107.0</td>\n",
       "      <td>0.0</td>\n",
       "      <td>-1</td>\n",
       "      <td>-1203.0</td>\n",
       "      <td>20000.0</td>\n",
       "      <td>-1</td>\n",
       "    </tr>\n",
       "    <tr>\n",
       "      <th>1516</th>\n",
       "      <td>6082.0</td>\n",
       "      <td>2293.0</td>\n",
       "      <td>-1</td>\n",
       "      <td>893.0</td>\n",
       "      <td>6082.0</td>\n",
       "      <td>-2</td>\n",
       "    </tr>\n",
       "    <tr>\n",
       "      <th>215</th>\n",
       "      <td>5000.0</td>\n",
       "      <td>10327.0</td>\n",
       "      <td>-1</td>\n",
       "      <td>4000.0</td>\n",
       "      <td>6000.0</td>\n",
       "      <td>-1</td>\n",
       "    </tr>\n",
       "    <tr>\n",
       "      <th>3838</th>\n",
       "      <td>1473.0</td>\n",
       "      <td>1473.0</td>\n",
       "      <td>-1</td>\n",
       "      <td>1473.0</td>\n",
       "      <td>1473.0</td>\n",
       "      <td>0</td>\n",
       "    </tr>\n",
       "    <tr>\n",
       "      <th>761</th>\n",
       "      <td>10400.0</td>\n",
       "      <td>0.0</td>\n",
       "      <td>-1</td>\n",
       "      <td>0.0</td>\n",
       "      <td>10400.0</td>\n",
       "      <td>0</td>\n",
       "    </tr>\n",
       "    <tr>\n",
       "      <th>850</th>\n",
       "      <td>791.0</td>\n",
       "      <td>46983.0</td>\n",
       "      <td>-1</td>\n",
       "      <td>5351.0</td>\n",
       "      <td>791.0</td>\n",
       "      <td>-1</td>\n",
       "    </tr>\n",
       "    <tr>\n",
       "      <th>1841</th>\n",
       "      <td>4897.0</td>\n",
       "      <td>3723.0</td>\n",
       "      <td>-1</td>\n",
       "      <td>11642.0</td>\n",
       "      <td>4901.0</td>\n",
       "      <td>-1</td>\n",
       "    </tr>\n",
       "    <tr>\n",
       "      <th>141</th>\n",
       "      <td>4374.0</td>\n",
       "      <td>1025.0</td>\n",
       "      <td>-1</td>\n",
       "      <td>1299.0</td>\n",
       "      <td>4375.0</td>\n",
       "      <td>-1</td>\n",
       "    </tr>\n",
       "    <tr>\n",
       "      <th>6806</th>\n",
       "      <td>4166.0</td>\n",
       "      <td>4166.0</td>\n",
       "      <td>-1</td>\n",
       "      <td>4166.0</td>\n",
       "      <td>4166.0</td>\n",
       "      <td>0</td>\n",
       "    </tr>\n",
       "  </tbody>\n",
       "</table>\n",
       "</div>"
      ],
      "text/plain": [
       "      BILL_AMT5  PAY_AMT5  PAY_5  BILL_AMT4  PAY_AMT4  PAY_4\n",
       "9930      425.0    1000.0     -1      380.0     425.0     -1\n",
       "8411    14107.0       0.0     -1    -1203.0   20000.0     -1\n",
       "1516     6082.0    2293.0     -1      893.0    6082.0     -2\n",
       "215      5000.0   10327.0     -1     4000.0    6000.0     -1\n",
       "3838     1473.0    1473.0     -1     1473.0    1473.0      0\n",
       "761     10400.0       0.0     -1        0.0   10400.0      0\n",
       "850       791.0   46983.0     -1     5351.0     791.0     -1\n",
       "1841     4897.0    3723.0     -1    11642.0    4901.0     -1\n",
       "141      4374.0    1025.0     -1     1299.0    4375.0     -1\n",
       "6806     4166.0    4166.0     -1     4166.0    4166.0      0"
      ]
     },
     "execution_count": 320,
     "metadata": {},
     "output_type": "execute_result"
    }
   ],
   "source": [
    "sel_filter = ((df.PAY_5 == -1) & (df.BILL_AMT5 > 0))\n",
    "df_explore[sel_filter][['BILL_AMT5', 'PAY_AMT5', 'PAY_5', 'BILL_AMT4', 'PAY_AMT4', 'PAY_4']].sample(10)"
   ]
  },
  {
   "cell_type": "code",
   "execution_count": 321,
   "metadata": {
    "pycharm": {
     "name": "#%%\n"
    }
   },
   "outputs": [
    {
     "data": {
      "text/html": [
       "<div>\n",
       "<style scoped>\n",
       "    .dataframe tbody tr th:only-of-type {\n",
       "        vertical-align: middle;\n",
       "    }\n",
       "\n",
       "    .dataframe tbody tr th {\n",
       "        vertical-align: top;\n",
       "    }\n",
       "\n",
       "    .dataframe thead th {\n",
       "        text-align: right;\n",
       "    }\n",
       "</style>\n",
       "<table border=\"1\" class=\"dataframe\">\n",
       "  <thead>\n",
       "    <tr style=\"text-align: right;\">\n",
       "      <th></th>\n",
       "      <th>ID</th>\n",
       "    </tr>\n",
       "  </thead>\n",
       "  <tbody>\n",
       "    <tr>\n",
       "      <th>False</th>\n",
       "      <td>33</td>\n",
       "    </tr>\n",
       "    <tr>\n",
       "      <th>True</th>\n",
       "      <td>1635</td>\n",
       "    </tr>\n",
       "  </tbody>\n",
       "</table>\n",
       "</div>"
      ],
      "text/plain": [
       "         ID\n",
       "False    33\n",
       "True   1635"
      ]
     },
     "execution_count": 321,
     "metadata": {},
     "output_type": "execute_result"
    }
   ],
   "source": [
    "df_explore[sel_filter].groupby(df_explore.BILL_AMT5<=df_explore.PAY_AMT4).agg({'ID':'count'})\n"
   ]
  },
  {
   "cell_type": "markdown",
   "metadata": {},
   "source": [
    "I can see that PAY_AMT(n) is related to BILL_AMT(n+1).\n",
    "\n"
   ]
  },
  {
   "cell_type": "markdown",
   "metadata": {},
   "source": [
    "---\n",
    "###  Repayment status: PAY_(n) \n",
    "\n",
    "Key: -1=pay duly, 1=payment delay for one month, 2=payment delay for two months, … 8=payment delay for eight months, 9=payment delay for nine months and above"
   ]
  },
  {
   "cell_type": "code",
   "execution_count": 322,
   "metadata": {
    "pycharm": {
     "name": "#%%\n"
    }
   },
   "outputs": [
    {
     "data": {
      "image/png": "[encoded data removed]",
      "text/plain": [
       "<Figure size 1080x576 with 6 Axes>"
      ]
     },
     "metadata": {
      "needs_background": "light"
     },
     "output_type": "display_data"
    }
   ],
   "source": [
    "# plot the histogram of the payment\n",
    "fig, axes = plt.subplots(2,3,figsize=(15,8))\n",
    "axes = axes.flatten()\n",
    "\n",
    "for i, ax in enumerate(axes):\n",
    "    plt.subplot(ax)\n",
    "    sns.distplot(df_explore['PAY_'+str(i+1)], bins=np.arange(-2,6), kde=False, ax=ax)\n",
    "    ax.set(xlabel='PAY_'+str(i+1))\n",
    "\n",
    "plt.tight_layout()\n",
    "\n"
   ]
  },
  {
   "cell_type": "markdown",
   "metadata": {},
   "source": [
    "- Unknown: -2 and 0 are not documented in the data dictionary. Therefore, I am going to group them into 'unknown'.\n",
    "\n",
    "- Delayed: There isn't much variation in the number of delay months, most of the months has 2 months delays. Therefore, I am going to group all 1+ month delays as 'delay'.\n",
    "\n",
    "- Pay duly: -1 (no change).\n"
   ]
  },
  {
   "cell_type": "code",
   "execution_count": 323,
   "metadata": {
    "pycharm": {
     "name": "#%%\n"
    }
   },
   "outputs": [],
   "source": [
    "select_cols = ['PAY_'+str(i) for i in range(1,7)]\n",
    "df_explore[select_cols] = df_explore[select_cols].replace([-2,0],'unknown')\n",
    "df_explore[select_cols] = df_explore[select_cols].replace(np.arange(1,10),'delayed')\n",
    "df_explore[select_cols] = df_explore[select_cols].replace(-1,'pay_duly')\n",
    "\n"
   ]
  },
  {
   "cell_type": "code",
   "execution_count": 324,
   "metadata": {
    "pycharm": {
     "name": "#%%\n"
    }
   },
   "outputs": [
    {
     "data": {
      "text/html": [
       "<div>\n",
       "<style scoped>\n",
       "    .dataframe tbody tr th:only-of-type {\n",
       "        vertical-align: middle;\n",
       "    }\n",
       "\n",
       "    .dataframe tbody tr th {\n",
       "        vertical-align: top;\n",
       "    }\n",
       "\n",
       "    .dataframe thead th {\n",
       "        text-align: right;\n",
       "    }\n",
       "</style>\n",
       "<table border=\"1\" class=\"dataframe\">\n",
       "  <thead>\n",
       "    <tr style=\"text-align: right;\">\n",
       "      <th>DEFAULT_PAY</th>\n",
       "      <th>0</th>\n",
       "      <th>1</th>\n",
       "      <th>perc</th>\n",
       "    </tr>\n",
       "    <tr>\n",
       "      <th>PAY_1</th>\n",
       "      <th></th>\n",
       "      <th></th>\n",
       "      <th></th>\n",
       "    </tr>\n",
       "  </thead>\n",
       "  <tbody>\n",
       "    <tr>\n",
       "      <th>delayed</th>\n",
       "      <td>1126</td>\n",
       "      <td>1152</td>\n",
       "      <td>0.505707</td>\n",
       "    </tr>\n",
       "    <tr>\n",
       "      <th>pay_duly</th>\n",
       "      <td>1596</td>\n",
       "      <td>302</td>\n",
       "      <td>0.159115</td>\n",
       "    </tr>\n",
       "    <tr>\n",
       "      <th>unknown</th>\n",
       "      <td>5040</td>\n",
       "      <td>784</td>\n",
       "      <td>0.134615</td>\n",
       "    </tr>\n",
       "  </tbody>\n",
       "</table>\n",
       "</div>"
      ],
      "text/plain": [
       "DEFAULT_PAY     0     1      perc\n",
       "PAY_1                            \n",
       "delayed      1126  1152  0.505707\n",
       "pay_duly     1596   302  0.159115\n",
       "unknown      5040   784  0.134615"
      ]
     },
     "execution_count": 324,
     "metadata": {},
     "output_type": "execute_result"
    }
   ],
   "source": [
    "d_rate_by_col(df_explore, 'PAY_1')\n"
   ]
  },
  {
   "cell_type": "code",
   "execution_count": 326,
   "metadata": {
    "pycharm": {
     "name": "#%%\n"
    }
   },
   "outputs": [
    {
     "data": {
      "text/html": [
       "<div>\n",
       "<style scoped>\n",
       "    .dataframe tbody tr th:only-of-type {\n",
       "        vertical-align: middle;\n",
       "    }\n",
       "\n",
       "    .dataframe tbody tr th {\n",
       "        vertical-align: top;\n",
       "    }\n",
       "\n",
       "    .dataframe thead th {\n",
       "        text-align: right;\n",
       "    }\n",
       "</style>\n",
       "<table border=\"1\" class=\"dataframe\">\n",
       "  <thead>\n",
       "    <tr style=\"text-align: right;\">\n",
       "      <th>DEFAULT_PAY</th>\n",
       "      <th>0</th>\n",
       "      <th>1</th>\n",
       "      <th>perc</th>\n",
       "    </tr>\n",
       "    <tr>\n",
       "      <th>PAY_2</th>\n",
       "      <th></th>\n",
       "      <th></th>\n",
       "      <th></th>\n",
       "    </tr>\n",
       "  </thead>\n",
       "  <tbody>\n",
       "    <tr>\n",
       "      <th>delayed</th>\n",
       "      <td>644</td>\n",
       "      <td>790</td>\n",
       "      <td>0.550907</td>\n",
       "    </tr>\n",
       "    <tr>\n",
       "      <th>pay_duly</th>\n",
       "      <td>1715</td>\n",
       "      <td>318</td>\n",
       "      <td>0.156419</td>\n",
       "    </tr>\n",
       "    <tr>\n",
       "      <th>unknown</th>\n",
       "      <td>5403</td>\n",
       "      <td>1130</td>\n",
       "      <td>0.172968</td>\n",
       "    </tr>\n",
       "  </tbody>\n",
       "</table>\n",
       "</div>"
      ],
      "text/plain": [
       "DEFAULT_PAY     0     1      perc\n",
       "PAY_2                            \n",
       "delayed       644   790  0.550907\n",
       "pay_duly     1715   318  0.156419\n",
       "unknown      5403  1130  0.172968"
      ]
     },
     "execution_count": 326,
     "metadata": {},
     "output_type": "execute_result"
    }
   ],
   "source": [
    "d_rate_by_col(df_explore, 'PAY_2')\n"
   ]
  },
  {
   "cell_type": "markdown",
   "metadata": {},
   "source": [
    "As expected, the users with delayed payments are more likely to default.\n"
   ]
  },
  {
   "cell_type": "markdown",
   "metadata": {},
   "source": [
    "---\n",
    "### Amount of bill statement: BILL_AMT(n)\n"
   ]
  },
  {
   "cell_type": "code",
   "execution_count": 327,
   "metadata": {
    "pycharm": {
     "name": "#%%\n"
    }
   },
   "outputs": [
    {
     "data": {
      "image/png": "[encoded data removed]",
      "text/plain": [
       "<Figure size 1080x576 with 6 Axes>"
      ]
     },
     "metadata": {
      "needs_background": "light"
     },
     "output_type": "display_data"
    }
   ],
   "source": [
    "def monthly_plot(df, element):\n",
    "    fig,axes = plt.subplots(2,3,figsize=(15,8))\n",
    "    axes = axes.flatten()\n",
    "    \n",
    "    for i, ax in enumerate(axes):\n",
    "        plt.subplot(ax)\n",
    "        sns.distplot(df[element+str(i+1)], kde=False, ax=ax)\n",
    "        ax.set(xlabel=element+str(i+1))\n",
    "    \n",
    "    plt.tight_layout()\n",
    "\n",
    "monthly_plot(df_explore, 'BILL_AMT')\n",
    "\n"
   ]
  },
  {
   "cell_type": "code",
   "execution_count": 328,
   "metadata": {},
   "outputs": [
    {
     "data": {
      "text/html": [
       "<div>\n",
       "<style scoped>\n",
       "    .dataframe tbody tr th:only-of-type {\n",
       "        vertical-align: middle;\n",
       "    }\n",
       "\n",
       "    .dataframe tbody tr th {\n",
       "        vertical-align: top;\n",
       "    }\n",
       "\n",
       "    .dataframe thead th {\n",
       "        text-align: right;\n",
       "    }\n",
       "</style>\n",
       "<table border=\"1\" class=\"dataframe\">\n",
       "  <thead>\n",
       "    <tr style=\"text-align: right;\">\n",
       "      <th>DEFAULT_PAY</th>\n",
       "      <th>0</th>\n",
       "      <th>1</th>\n",
       "      <th>perc</th>\n",
       "    </tr>\n",
       "    <tr>\n",
       "      <th>BILL_AMT1_SIGN</th>\n",
       "      <th></th>\n",
       "      <th></th>\n",
       "      <th></th>\n",
       "    </tr>\n",
       "  </thead>\n",
       "  <tbody>\n",
       "    <tr>\n",
       "      <th>negative</th>\n",
       "      <td>149</td>\n",
       "      <td>41</td>\n",
       "      <td>0.215789</td>\n",
       "    </tr>\n",
       "    <tr>\n",
       "      <th>positive</th>\n",
       "      <td>7124</td>\n",
       "      <td>2018</td>\n",
       "      <td>0.220739</td>\n",
       "    </tr>\n",
       "    <tr>\n",
       "      <th>zero</th>\n",
       "      <td>489</td>\n",
       "      <td>179</td>\n",
       "      <td>0.267964</td>\n",
       "    </tr>\n",
       "  </tbody>\n",
       "</table>\n",
       "</div>"
      ],
      "text/plain": [
       "DEFAULT_PAY        0     1      perc\n",
       "BILL_AMT1_SIGN                      \n",
       "negative         149    41  0.215789\n",
       "positive        7124  2018  0.220739\n",
       "zero             489   179  0.267964"
      ]
     },
     "execution_count": 328,
     "metadata": {},
     "output_type": "execute_result"
    }
   ],
   "source": [
    "def sign(x):\n",
    "    if x < 0:\n",
    "        return 'negative'\n",
    "    elif x == 0:\n",
    "        return 'zero'\n",
    "    else:\n",
    "        return 'positive'\n",
    "\n",
    "BILL_AMT1_SIGN = df_explore['BILL_AMT1'].apply(lambda x: sign(x))\n",
    "\n",
    "df_temp = pd.DataFrame({'BILL_AMT1_SIGN': BILL_AMT1_SIGN,'DEFAULT_PAY':df_explore['DEFAULT_PAY']})\n",
    "\n",
    "d_rate_by_col(df_temp, 'BILL_AMT1_SIGN')"
   ]
  },
  {
   "cell_type": "markdown",
   "metadata": {},
   "source": [
    "I found out that there are some negative billing payments, which shouldn't exist. I am going to group them into 0."
   ]
  },
  {
   "cell_type": "code",
   "execution_count": 329,
   "metadata": {
    "pycharm": {
     "name": "#%%\n"
    }
   },
   "outputs": [
    {
     "data": {
      "image/png": "[encoded data removed]",
      "text/plain": [
       "<Figure size 1080x576 with 6 Axes>"
      ]
     },
     "metadata": {
      "needs_background": "light"
     },
     "output_type": "display_data"
    }
   ],
   "source": [
    "select_cols = ['BILL_AMT'+str(i) for i in range(1,7)]\n",
    "df_explore[select_cols] = df_explore[select_cols].clip(lower=0)\n",
    "\n",
    "monthly_plot(df_explore, 'BILL_AMT')\n"
   ]
  },
  {
   "cell_type": "code",
   "execution_count": 330,
   "metadata": {},
   "outputs": [
    {
     "data": {
      "image/png": "[encoded data removed]",
      "text/plain": [
       "<Figure size 432x288 with 1 Axes>"
      ]
     },
     "metadata": {
      "needs_background": "light"
     },
     "output_type": "display_data"
    }
   ],
   "source": [
    "ax = sns.boxplot(x=\"DEFAULT_PAY\", y=\"BILL_AMT1\", data=df_explore)\n",
    "ax.set_yscale(\"log\")"
   ]
  },
  {
   "cell_type": "code",
   "execution_count": 331,
   "metadata": {},
   "outputs": [
    {
     "data": {
      "text/html": [
       "<div>\n",
       "<style scoped>\n",
       "    .dataframe tbody tr th:only-of-type {\n",
       "        vertical-align: middle;\n",
       "    }\n",
       "\n",
       "    .dataframe tbody tr th {\n",
       "        vertical-align: top;\n",
       "    }\n",
       "\n",
       "    .dataframe thead th {\n",
       "        text-align: right;\n",
       "    }\n",
       "</style>\n",
       "<table border=\"1\" class=\"dataframe\">\n",
       "  <thead>\n",
       "    <tr style=\"text-align: right;\">\n",
       "      <th>DEFAULT_PAY</th>\n",
       "      <th>0</th>\n",
       "      <th>1</th>\n",
       "      <th>perc</th>\n",
       "    </tr>\n",
       "    <tr>\n",
       "      <th>BILL_AMT1_BUCK</th>\n",
       "      <th></th>\n",
       "      <th></th>\n",
       "      <th></th>\n",
       "    </tr>\n",
       "  </thead>\n",
       "  <tbody>\n",
       "    <tr>\n",
       "      <th>(-0.001, 1696.2]</th>\n",
       "      <td>1551</td>\n",
       "      <td>449</td>\n",
       "      <td>0.2245</td>\n",
       "    </tr>\n",
       "    <tr>\n",
       "      <th>(1696.2, 12590.8]</th>\n",
       "      <td>1575</td>\n",
       "      <td>425</td>\n",
       "      <td>0.2125</td>\n",
       "    </tr>\n",
       "    <tr>\n",
       "      <th>(12590.8, 35648.6]</th>\n",
       "      <td>1478</td>\n",
       "      <td>522</td>\n",
       "      <td>0.2610</td>\n",
       "    </tr>\n",
       "    <tr>\n",
       "      <th>(35648.6, 83010.0]</th>\n",
       "      <td>1570</td>\n",
       "      <td>430</td>\n",
       "      <td>0.2150</td>\n",
       "    </tr>\n",
       "    <tr>\n",
       "      <th>(83010.0, 653062.0]</th>\n",
       "      <td>1588</td>\n",
       "      <td>412</td>\n",
       "      <td>0.2060</td>\n",
       "    </tr>\n",
       "  </tbody>\n",
       "</table>\n",
       "</div>"
      ],
      "text/plain": [
       "DEFAULT_PAY             0    1    perc\n",
       "BILL_AMT1_BUCK                        \n",
       "(-0.001, 1696.2]     1551  449  0.2245\n",
       "(1696.2, 12590.8]    1575  425  0.2125\n",
       "(12590.8, 35648.6]   1478  522  0.2610\n",
       "(35648.6, 83010.0]   1570  430  0.2150\n",
       "(83010.0, 653062.0]  1588  412  0.2060"
      ]
     },
     "execution_count": 331,
     "metadata": {},
     "output_type": "execute_result"
    }
   ],
   "source": [
    "BILL_AMT1_BUCK = pd.qcut(df_explore['BILL_AMT1'], 5)\n",
    "\n",
    "df_temp = pd.DataFrame({'BILL_AMT1_BUCK': BILL_AMT1_BUCK,'DEFAULT_PAY':df_explore['DEFAULT_PAY']})\n",
    "\n",
    "d_rate_by_col(df_temp, 'BILL_AMT1_BUCK')\n"
   ]
  },
  {
   "cell_type": "markdown",
   "metadata": {},
   "source": [
    "Users with billing statement between 12590.8 and 35648.6 has the highest default rate."
   ]
  },
  {
   "cell_type": "markdown",
   "metadata": {},
   "source": [
    "---\n",
    "### Amount of previous payment: PAY_AMT(n)"
   ]
  },
  {
   "cell_type": "code",
   "execution_count": 332,
   "metadata": {
    "pycharm": {
     "name": "#%%\n"
    }
   },
   "outputs": [
    {
     "data": {
      "image/png": "[encoded data removed]",
      "text/plain": [
       "<Figure size 1080x576 with 6 Axes>"
      ]
     },
     "metadata": {
      "needs_background": "light"
     },
     "output_type": "display_data"
    }
   ],
   "source": [
    "monthly_plot(df_explore, 'PAY_AMT')\n"
   ]
  },
  {
   "cell_type": "code",
   "execution_count": 333,
   "metadata": {},
   "outputs": [
    {
     "data": {
      "image/png": "[encoded data removed]",
      "text/plain": [
       "<Figure size 432x288 with 1 Axes>"
      ]
     },
     "metadata": {
      "needs_background": "light"
     },
     "output_type": "display_data"
    }
   ],
   "source": [
    "ax = sns.boxplot(x=\"DEFAULT_PAY\", y=\"PAY_AMT1\", data=df_explore)\n",
    "ax.set_yscale(\"log\")"
   ]
  },
  {
   "cell_type": "markdown",
   "metadata": {},
   "source": [
    "Default users pay a lot less than the other users."
   ]
  },
  {
   "cell_type": "code",
   "execution_count": 334,
   "metadata": {},
   "outputs": [
    {
     "data": {
      "image/png": "[encoded data removed]",
      "text/plain": [
       "<Figure size 432x288 with 1 Axes>"
      ]
     },
     "metadata": {
      "needs_background": "light"
     },
     "output_type": "display_data"
    }
   ],
   "source": [
    "select_cols = ['PAY_AMT'+str(i) for i in range(1,7)]\n",
    "TOTAL_PAY_AMT = df_explore[select_cols].sum(axis=1)\n",
    "\n",
    "df_temp = pd.DataFrame({'TOTAL_PAY_AMT': TOTAL_PAY_AMT,'DEFAULT_PAY':df_explore['DEFAULT_PAY']})\n",
    "\n",
    "ax = sns.boxplot(x=\"DEFAULT_PAY\", y=\"TOTAL_PAY_AMT\", data=df_temp)\n",
    "ax.set_yscale(\"log\")"
   ]
  },
  {
   "cell_type": "markdown",
   "metadata": {},
   "source": [
    "---\n",
    "# 4. Baseline Model\n"
   ]
  },
  {
   "cell_type": "markdown",
   "metadata": {},
   "source": [
    "---\n",
    "\n",
    "## One-hot Encoding for categorical data\n",
    "Transforming Categorical Data\n"
   ]
  },
  {
   "cell_type": "code",
   "execution_count": 335,
   "metadata": {
    "pycharm": {
     "name": "#%%\n"
    }
   },
   "outputs": [
    {
     "data": {
      "text/plain": [
       "['SEX',\n",
       " 'EDUCATION',\n",
       " 'MARRIAGE',\n",
       " 'PAY_1',\n",
       " 'PAY_2',\n",
       " 'PAY_3',\n",
       " 'PAY_4',\n",
       " 'PAY_5',\n",
       " 'PAY_6']"
      ]
     },
     "execution_count": 335,
     "metadata": {},
     "output_type": "execute_result"
    }
   ],
   "source": [
    "onehot_names = ['SEX','EDUCATION','MARRIAGE']+['PAY_'+str(i) for i in range(1,7)]\n",
    "onehot_names"
   ]
  },
  {
   "cell_type": "code",
   "execution_count": 336,
   "metadata": {
    "pycharm": {
     "name": "#%%\n"
    }
   },
   "outputs": [
    {
     "data": {
      "text/html": [
       "<div>\n",
       "<style scoped>\n",
       "    .dataframe tbody tr th:only-of-type {\n",
       "        vertical-align: middle;\n",
       "    }\n",
       "\n",
       "    .dataframe tbody tr th {\n",
       "        vertical-align: top;\n",
       "    }\n",
       "\n",
       "    .dataframe thead th {\n",
       "        text-align: right;\n",
       "    }\n",
       "</style>\n",
       "<table border=\"1\" class=\"dataframe\">\n",
       "  <thead>\n",
       "    <tr style=\"text-align: right;\">\n",
       "      <th></th>\n",
       "      <th>ID</th>\n",
       "      <th>LIMIT_BAL</th>\n",
       "      <th>AGE</th>\n",
       "      <th>BILL_AMT1</th>\n",
       "      <th>BILL_AMT2</th>\n",
       "      <th>BILL_AMT3</th>\n",
       "      <th>BILL_AMT4</th>\n",
       "      <th>BILL_AMT5</th>\n",
       "      <th>BILL_AMT6</th>\n",
       "      <th>PAY_AMT1</th>\n",
       "      <th>...</th>\n",
       "      <th>PAY_3_unknown</th>\n",
       "      <th>PAY_4_delayed</th>\n",
       "      <th>PAY_4_pay_duly</th>\n",
       "      <th>PAY_4_unknown</th>\n",
       "      <th>PAY_5_delayed</th>\n",
       "      <th>PAY_5_pay_duly</th>\n",
       "      <th>PAY_5_unknown</th>\n",
       "      <th>PAY_6_delayed</th>\n",
       "      <th>PAY_6_pay_duly</th>\n",
       "      <th>PAY_6_unknown</th>\n",
       "    </tr>\n",
       "  </thead>\n",
       "  <tbody>\n",
       "    <tr>\n",
       "      <th>0</th>\n",
       "      <td>1</td>\n",
       "      <td>50000.0</td>\n",
       "      <td>23</td>\n",
       "      <td>50653.0</td>\n",
       "      <td>49348.0</td>\n",
       "      <td>47995.0</td>\n",
       "      <td>40226.0</td>\n",
       "      <td>27828.0</td>\n",
       "      <td>28411.0</td>\n",
       "      <td>2190.0</td>\n",
       "      <td>...</td>\n",
       "      <td>1</td>\n",
       "      <td>0</td>\n",
       "      <td>0</td>\n",
       "      <td>1</td>\n",
       "      <td>0</td>\n",
       "      <td>0</td>\n",
       "      <td>1</td>\n",
       "      <td>0</td>\n",
       "      <td>0</td>\n",
       "      <td>1</td>\n",
       "    </tr>\n",
       "    <tr>\n",
       "      <th>1</th>\n",
       "      <td>2</td>\n",
       "      <td>10000.0</td>\n",
       "      <td>25</td>\n",
       "      <td>8525.0</td>\n",
       "      <td>5141.0</td>\n",
       "      <td>5239.0</td>\n",
       "      <td>7911.0</td>\n",
       "      <td>17890.0</td>\n",
       "      <td>10000.0</td>\n",
       "      <td>1500.0</td>\n",
       "      <td>...</td>\n",
       "      <td>1</td>\n",
       "      <td>0</td>\n",
       "      <td>0</td>\n",
       "      <td>1</td>\n",
       "      <td>0</td>\n",
       "      <td>0</td>\n",
       "      <td>1</td>\n",
       "      <td>0</td>\n",
       "      <td>1</td>\n",
       "      <td>0</td>\n",
       "    </tr>\n",
       "    <tr>\n",
       "      <th>2</th>\n",
       "      <td>3</td>\n",
       "      <td>150000.0</td>\n",
       "      <td>52</td>\n",
       "      <td>88812.0</td>\n",
       "      <td>90649.0</td>\n",
       "      <td>92499.0</td>\n",
       "      <td>94364.0</td>\n",
       "      <td>97589.0</td>\n",
       "      <td>99921.0</td>\n",
       "      <td>2564.0</td>\n",
       "      <td>...</td>\n",
       "      <td>1</td>\n",
       "      <td>0</td>\n",
       "      <td>0</td>\n",
       "      <td>1</td>\n",
       "      <td>0</td>\n",
       "      <td>0</td>\n",
       "      <td>1</td>\n",
       "      <td>0</td>\n",
       "      <td>0</td>\n",
       "      <td>1</td>\n",
       "    </tr>\n",
       "    <tr>\n",
       "      <th>3</th>\n",
       "      <td>4</td>\n",
       "      <td>280000.0</td>\n",
       "      <td>26</td>\n",
       "      <td>25989.0</td>\n",
       "      <td>27052.0</td>\n",
       "      <td>28111.0</td>\n",
       "      <td>29138.0</td>\n",
       "      <td>29852.0</td>\n",
       "      <td>30717.0</td>\n",
       "      <td>1800.0</td>\n",
       "      <td>...</td>\n",
       "      <td>1</td>\n",
       "      <td>0</td>\n",
       "      <td>0</td>\n",
       "      <td>1</td>\n",
       "      <td>0</td>\n",
       "      <td>0</td>\n",
       "      <td>1</td>\n",
       "      <td>0</td>\n",
       "      <td>0</td>\n",
       "      <td>1</td>\n",
       "    </tr>\n",
       "    <tr>\n",
       "      <th>4</th>\n",
       "      <td>5</td>\n",
       "      <td>360000.0</td>\n",
       "      <td>41</td>\n",
       "      <td>0.0</td>\n",
       "      <td>0.0</td>\n",
       "      <td>0.0</td>\n",
       "      <td>0.0</td>\n",
       "      <td>0.0</td>\n",
       "      <td>0.0</td>\n",
       "      <td>0.0</td>\n",
       "      <td>...</td>\n",
       "      <td>1</td>\n",
       "      <td>0</td>\n",
       "      <td>0</td>\n",
       "      <td>1</td>\n",
       "      <td>0</td>\n",
       "      <td>0</td>\n",
       "      <td>1</td>\n",
       "      <td>0</td>\n",
       "      <td>0</td>\n",
       "      <td>1</td>\n",
       "    </tr>\n",
       "    <tr>\n",
       "      <th>...</th>\n",
       "      <td>...</td>\n",
       "      <td>...</td>\n",
       "      <td>...</td>\n",
       "      <td>...</td>\n",
       "      <td>...</td>\n",
       "      <td>...</td>\n",
       "      <td>...</td>\n",
       "      <td>...</td>\n",
       "      <td>...</td>\n",
       "      <td>...</td>\n",
       "      <td>...</td>\n",
       "      <td>...</td>\n",
       "      <td>...</td>\n",
       "      <td>...</td>\n",
       "      <td>...</td>\n",
       "      <td>...</td>\n",
       "      <td>...</td>\n",
       "      <td>...</td>\n",
       "      <td>...</td>\n",
       "      <td>...</td>\n",
       "      <td>...</td>\n",
       "    </tr>\n",
       "    <tr>\n",
       "      <th>9995</th>\n",
       "      <td>9996</td>\n",
       "      <td>130000.0</td>\n",
       "      <td>34</td>\n",
       "      <td>23292.0</td>\n",
       "      <td>14077.0</td>\n",
       "      <td>15546.0</td>\n",
       "      <td>108047.0</td>\n",
       "      <td>93708.0</td>\n",
       "      <td>97353.0</td>\n",
       "      <td>3000.0</td>\n",
       "      <td>...</td>\n",
       "      <td>1</td>\n",
       "      <td>0</td>\n",
       "      <td>0</td>\n",
       "      <td>1</td>\n",
       "      <td>0</td>\n",
       "      <td>0</td>\n",
       "      <td>1</td>\n",
       "      <td>0</td>\n",
       "      <td>0</td>\n",
       "      <td>1</td>\n",
       "    </tr>\n",
       "    <tr>\n",
       "      <th>9996</th>\n",
       "      <td>9997</td>\n",
       "      <td>100000.0</td>\n",
       "      <td>35</td>\n",
       "      <td>3515.0</td>\n",
       "      <td>2975.0</td>\n",
       "      <td>2342.0</td>\n",
       "      <td>12016.0</td>\n",
       "      <td>10203.0</td>\n",
       "      <td>5323.0</td>\n",
       "      <td>10.0</td>\n",
       "      <td>...</td>\n",
       "      <td>0</td>\n",
       "      <td>0</td>\n",
       "      <td>1</td>\n",
       "      <td>0</td>\n",
       "      <td>0</td>\n",
       "      <td>0</td>\n",
       "      <td>1</td>\n",
       "      <td>0</td>\n",
       "      <td>0</td>\n",
       "      <td>1</td>\n",
       "    </tr>\n",
       "    <tr>\n",
       "      <th>9997</th>\n",
       "      <td>9998</td>\n",
       "      <td>280000.0</td>\n",
       "      <td>30</td>\n",
       "      <td>166037.0</td>\n",
       "      <td>166291.0</td>\n",
       "      <td>162992.0</td>\n",
       "      <td>134154.0</td>\n",
       "      <td>161057.0</td>\n",
       "      <td>167490.0</td>\n",
       "      <td>12126.0</td>\n",
       "      <td>...</td>\n",
       "      <td>1</td>\n",
       "      <td>0</td>\n",
       "      <td>0</td>\n",
       "      <td>1</td>\n",
       "      <td>0</td>\n",
       "      <td>0</td>\n",
       "      <td>1</td>\n",
       "      <td>0</td>\n",
       "      <td>0</td>\n",
       "      <td>1</td>\n",
       "    </tr>\n",
       "    <tr>\n",
       "      <th>9998</th>\n",
       "      <td>9999</td>\n",
       "      <td>170000.0</td>\n",
       "      <td>27</td>\n",
       "      <td>173577.0</td>\n",
       "      <td>171480.0</td>\n",
       "      <td>171794.0</td>\n",
       "      <td>166637.0</td>\n",
       "      <td>169021.0</td>\n",
       "      <td>164531.0</td>\n",
       "      <td>6500.0</td>\n",
       "      <td>...</td>\n",
       "      <td>1</td>\n",
       "      <td>0</td>\n",
       "      <td>0</td>\n",
       "      <td>1</td>\n",
       "      <td>0</td>\n",
       "      <td>0</td>\n",
       "      <td>1</td>\n",
       "      <td>0</td>\n",
       "      <td>0</td>\n",
       "      <td>1</td>\n",
       "    </tr>\n",
       "    <tr>\n",
       "      <th>9999</th>\n",
       "      <td>10000</td>\n",
       "      <td>150000.0</td>\n",
       "      <td>27</td>\n",
       "      <td>15475.0</td>\n",
       "      <td>18212.0</td>\n",
       "      <td>18617.0</td>\n",
       "      <td>18020.0</td>\n",
       "      <td>18726.0</td>\n",
       "      <td>19414.0</td>\n",
       "      <td>3000.0</td>\n",
       "      <td>...</td>\n",
       "      <td>0</td>\n",
       "      <td>1</td>\n",
       "      <td>0</td>\n",
       "      <td>0</td>\n",
       "      <td>0</td>\n",
       "      <td>0</td>\n",
       "      <td>1</td>\n",
       "      <td>0</td>\n",
       "      <td>0</td>\n",
       "      <td>1</td>\n",
       "    </tr>\n",
       "  </tbody>\n",
       "</table>\n",
       "<p>10000 rows × 43 columns</p>\n",
       "</div>"
      ],
      "text/plain": [
       "         ID  LIMIT_BAL  AGE  BILL_AMT1  BILL_AMT2  BILL_AMT3  BILL_AMT4  \\\n",
       "0         1    50000.0   23    50653.0    49348.0    47995.0    40226.0   \n",
       "1         2    10000.0   25     8525.0     5141.0     5239.0     7911.0   \n",
       "2         3   150000.0   52    88812.0    90649.0    92499.0    94364.0   \n",
       "3         4   280000.0   26    25989.0    27052.0    28111.0    29138.0   \n",
       "4         5   360000.0   41        0.0        0.0        0.0        0.0   \n",
       "...     ...        ...  ...        ...        ...        ...        ...   \n",
       "9995   9996   130000.0   34    23292.0    14077.0    15546.0   108047.0   \n",
       "9996   9997   100000.0   35     3515.0     2975.0     2342.0    12016.0   \n",
       "9997   9998   280000.0   30   166037.0   166291.0   162992.0   134154.0   \n",
       "9998   9999   170000.0   27   173577.0   171480.0   171794.0   166637.0   \n",
       "9999  10000   150000.0   27    15475.0    18212.0    18617.0    18020.0   \n",
       "\n",
       "      BILL_AMT5  BILL_AMT6  PAY_AMT1  ...  PAY_3_unknown  PAY_4_delayed  \\\n",
       "0       27828.0    28411.0    2190.0  ...              1              0   \n",
       "1       17890.0    10000.0    1500.0  ...              1              0   \n",
       "2       97589.0    99921.0    2564.0  ...              1              0   \n",
       "3       29852.0    30717.0    1800.0  ...              1              0   \n",
       "4           0.0        0.0       0.0  ...              1              0   \n",
       "...         ...        ...       ...  ...            ...            ...   \n",
       "9995    93708.0    97353.0    3000.0  ...              1              0   \n",
       "9996    10203.0     5323.0      10.0  ...              0              0   \n",
       "9997   161057.0   167490.0   12126.0  ...              1              0   \n",
       "9998   169021.0   164531.0    6500.0  ...              1              0   \n",
       "9999    18726.0    19414.0    3000.0  ...              0              1   \n",
       "\n",
       "      PAY_4_pay_duly  PAY_4_unknown  PAY_5_delayed  PAY_5_pay_duly  \\\n",
       "0                  0              1              0               0   \n",
       "1                  0              1              0               0   \n",
       "2                  0              1              0               0   \n",
       "3                  0              1              0               0   \n",
       "4                  0              1              0               0   \n",
       "...              ...            ...            ...             ...   \n",
       "9995               0              1              0               0   \n",
       "9996               1              0              0               0   \n",
       "9997               0              1              0               0   \n",
       "9998               0              1              0               0   \n",
       "9999               0              0              0               0   \n",
       "\n",
       "      PAY_5_unknown  PAY_6_delayed  PAY_6_pay_duly  PAY_6_unknown  \n",
       "0                 1              0               0              1  \n",
       "1                 1              0               1              0  \n",
       "2                 1              0               0              1  \n",
       "3                 1              0               0              1  \n",
       "4                 1              0               0              1  \n",
       "...             ...            ...             ...            ...  \n",
       "9995              1              0               0              1  \n",
       "9996              1              0               0              1  \n",
       "9997              1              0               0              1  \n",
       "9998              1              0               0              1  \n",
       "9999              1              0               0              1  \n",
       "\n",
       "[10000 rows x 43 columns]"
      ]
     },
     "execution_count": 336,
     "metadata": {},
     "output_type": "execute_result"
    }
   ],
   "source": [
    "df_trans0 = pd.get_dummies(df_explore,columns=onehot_names)\n",
    "df_trans0"
   ]
  },
  {
   "cell_type": "code",
   "execution_count": 337,
   "metadata": {
    "pycharm": {
     "name": "#%%\n"
    }
   },
   "outputs": [
    {
     "data": {
      "text/plain": [
       "array(['ID', 'LIMIT_BAL', 'AGE', 'BILL_AMT1', 'BILL_AMT2', 'BILL_AMT3',\n",
       "       'BILL_AMT4', 'BILL_AMT5', 'BILL_AMT6', 'PAY_AMT1', 'PAY_AMT2',\n",
       "       'PAY_AMT3', 'PAY_AMT4', 'PAY_AMT5', 'PAY_AMT6', 'DEFAULT_PAY',\n",
       "       'SEX_female', 'SEX_male', 'EDUCATION_graduate_school',\n",
       "       'EDUCATION_high_school', 'EDUCATION_university',\n",
       "       'EDUCATION_unknown_and_others', 'MARRIAGE_married',\n",
       "       'MARRIAGE_single', 'MARRIAGE_unknown_and_others', 'PAY_1_delayed',\n",
       "       'PAY_1_pay_duly', 'PAY_1_unknown', 'PAY_2_delayed',\n",
       "       'PAY_2_pay_duly', 'PAY_2_unknown', 'PAY_3_delayed',\n",
       "       'PAY_3_pay_duly', 'PAY_3_unknown', 'PAY_4_delayed',\n",
       "       'PAY_4_pay_duly', 'PAY_4_unknown', 'PAY_5_delayed',\n",
       "       'PAY_5_pay_duly', 'PAY_5_unknown', 'PAY_6_delayed',\n",
       "       'PAY_6_pay_duly', 'PAY_6_unknown'], dtype=object)"
      ]
     },
     "execution_count": 337,
     "metadata": {},
     "output_type": "execute_result"
    }
   ],
   "source": [
    "df_trans0.columns.values"
   ]
  },
  {
   "cell_type": "markdown",
   "metadata": {},
   "source": [
    "---\n",
    "\n",
    "## Further transformation\n",
    "may consider scaling continuous variables"
   ]
  },
  {
   "cell_type": "code",
   "execution_count": 338,
   "metadata": {
    "pycharm": {
     "name": "#%%\n"
    }
   },
   "outputs": [
    {
     "data": {
      "text/plain": [
       "array(['LIMIT_BAL', 'AGE', 'BILL_AMT1', 'BILL_AMT2', 'BILL_AMT3',\n",
       "       'BILL_AMT4', 'BILL_AMT5', 'BILL_AMT6', 'PAY_AMT1', 'PAY_AMT2',\n",
       "       'PAY_AMT3', 'PAY_AMT4', 'PAY_AMT5', 'PAY_AMT6', 'SEX_female',\n",
       "       'SEX_male', 'EDUCATION_graduate_school', 'EDUCATION_high_school',\n",
       "       'EDUCATION_university', 'EDUCATION_unknown_and_others',\n",
       "       'MARRIAGE_married', 'MARRIAGE_single',\n",
       "       'MARRIAGE_unknown_and_others', 'PAY_1_delayed', 'PAY_1_pay_duly',\n",
       "       'PAY_1_unknown', 'PAY_2_delayed', 'PAY_2_pay_duly',\n",
       "       'PAY_2_unknown', 'PAY_3_delayed', 'PAY_3_pay_duly',\n",
       "       'PAY_3_unknown', 'PAY_4_delayed', 'PAY_4_pay_duly',\n",
       "       'PAY_4_unknown', 'PAY_5_delayed', 'PAY_5_pay_duly',\n",
       "       'PAY_5_unknown', 'PAY_6_delayed', 'PAY_6_pay_duly',\n",
       "       'PAY_6_unknown'], dtype=object)"
      ]
     },
     "execution_count": 338,
     "metadata": {},
     "output_type": "execute_result"
    }
   ],
   "source": [
    "feature_names_raw = df_trans0.columns.values\n",
    "feature_names_raw = np.delete(feature_names_raw,np.argwhere(feature_names_raw=='ID'))\n",
    "feature_names_raw = np.delete(feature_names_raw,np.argwhere(feature_names_raw=='DEFAULT_PAY'))\n",
    "feature_names_raw"
   ]
  },
  {
   "cell_type": "code",
   "execution_count": 339,
   "metadata": {
    "pycharm": {
     "name": "#%%\n"
    }
   },
   "outputs": [
    {
     "data": {
      "text/plain": [
       "array(['LIMIT_BAL', 'AGE', 'BILL_AMT1', 'BILL_AMT2', 'BILL_AMT3',\n",
       "       'BILL_AMT4', 'BILL_AMT5', 'BILL_AMT6', 'PAY_AMT1', 'PAY_AMT2',\n",
       "       'PAY_AMT3', 'PAY_AMT4', 'PAY_AMT5', 'PAY_AMT6'], dtype=object)"
      ]
     },
     "execution_count": 339,
     "metadata": {},
     "output_type": "execute_result"
    }
   ],
   "source": [
    "continuous_names_raw = feature_names_raw[:14]\n",
    "continuous_names_raw"
   ]
  },
  {
   "cell_type": "code",
   "execution_count": null,
   "metadata": {},
   "outputs": [],
   "source": [
    "from sklearn.preprocessing import StandardScaler\n",
    "\n",
    "# scaling all continuous variables\n",
    "scaler = StandardScaler()\n",
    "\n",
    "df_trans_sc = df_trans.copy()\n",
    "df_trans_sc[continuous_names] = scaler.fit_transform(df_trans_sc[continuous_names])\n",
    "\n",
    "df_trans_sc\n"
   ]
  },
  {
   "cell_type": "code",
   "execution_count": 340,
   "metadata": {
    "pycharm": {
     "name": "#%%\n"
    }
   },
   "outputs": [
    {
     "data": {
      "text/plain": [
       "array(['SEX_female', 'SEX_male', 'EDUCATION_graduate_school',\n",
       "       'EDUCATION_high_school', 'EDUCATION_university',\n",
       "       'EDUCATION_unknown_and_others', 'MARRIAGE_married',\n",
       "       'MARRIAGE_single', 'MARRIAGE_unknown_and_others', 'PAY_1_delayed',\n",
       "       'PAY_1_pay_duly', 'PAY_1_unknown', 'PAY_2_delayed',\n",
       "       'PAY_2_pay_duly', 'PAY_2_unknown', 'PAY_3_delayed',\n",
       "       'PAY_3_pay_duly', 'PAY_3_unknown', 'PAY_4_delayed',\n",
       "       'PAY_4_pay_duly', 'PAY_4_unknown', 'PAY_5_delayed',\n",
       "       'PAY_5_pay_duly', 'PAY_5_unknown', 'PAY_6_delayed',\n",
       "       'PAY_6_pay_duly', 'PAY_6_unknown'], dtype=object)"
      ]
     },
     "execution_count": 340,
     "metadata": {},
     "output_type": "execute_result"
    }
   ],
   "source": [
    "categorical_names_raw = feature_names_raw[14:]\n",
    "categorical_names_raw"
   ]
  },
  {
   "cell_type": "code",
   "execution_count": 341,
   "metadata": {
    "pycharm": {
     "name": "#%%\n"
    }
   },
   "outputs": [
    {
     "data": {
      "text/plain": [
       "array(['LIMIT_BAL', 'AGE', 'BILL_AMT1', 'BILL_AMT2', 'BILL_AMT3',\n",
       "       'BILL_AMT4', 'BILL_AMT5', 'BILL_AMT6', 'PAY_AMT1', 'PAY_AMT2',\n",
       "       'PAY_AMT3', 'PAY_AMT4', 'PAY_AMT5', 'PAY_AMT6', 'SEX_female',\n",
       "       'SEX_male', 'EDUCATION_graduate_school', 'EDUCATION_high_school',\n",
       "       'EDUCATION_university', 'EDUCATION_unknown_and_others',\n",
       "       'MARRIAGE_married', 'MARRIAGE_single',\n",
       "       'MARRIAGE_unknown_and_others', 'PAY_1_delayed', 'PAY_1_pay_duly',\n",
       "       'PAY_1_unknown', 'PAY_2_delayed', 'PAY_2_pay_duly',\n",
       "       'PAY_2_unknown', 'PAY_3_delayed', 'PAY_3_pay_duly',\n",
       "       'PAY_3_unknown', 'PAY_4_delayed', 'PAY_4_pay_duly',\n",
       "       'PAY_4_unknown', 'PAY_5_delayed', 'PAY_5_pay_duly',\n",
       "       'PAY_5_unknown', 'PAY_6_delayed', 'PAY_6_pay_duly',\n",
       "       'PAY_6_unknown'], dtype=object)"
      ]
     },
     "execution_count": 341,
     "metadata": {},
     "output_type": "execute_result"
    }
   ],
   "source": [
    "# if I were to try SVM, remember to scale continuous variables before proceeding\n",
    "feature_names_raw = np.concatenate((continuous_names_raw, categorical_names_raw))\n",
    "feature_names_raw"
   ]
  },
  {
   "cell_type": "markdown",
   "metadata": {},
   "source": [
    "---\n",
    "## Split into training and testing set"
   ]
  },
  {
   "cell_type": "code",
   "execution_count": 342,
   "metadata": {
    "pycharm": {
     "name": "#%%\n"
    }
   },
   "outputs": [],
   "source": [
    "from sklearn.model_selection import train_test_split\n",
    "\n",
    "# split the data\n",
    "df_train,df_test = train_test_split(df_trans0,test_size=0.2,random_state=2020)"
   ]
  },
  {
   "cell_type": "code",
   "execution_count": 343,
   "metadata": {
    "pycharm": {
     "name": "#%%\n"
    }
   },
   "outputs": [
    {
     "data": {
      "text/html": [
       "<div>\n",
       "<style scoped>\n",
       "    .dataframe tbody tr th:only-of-type {\n",
       "        vertical-align: middle;\n",
       "    }\n",
       "\n",
       "    .dataframe tbody tr th {\n",
       "        vertical-align: top;\n",
       "    }\n",
       "\n",
       "    .dataframe thead th {\n",
       "        text-align: right;\n",
       "    }\n",
       "</style>\n",
       "<table border=\"1\" class=\"dataframe\">\n",
       "  <thead>\n",
       "    <tr style=\"text-align: right;\">\n",
       "      <th></th>\n",
       "      <th>DEFAULT_PAY</th>\n",
       "      <th>N_USERS</th>\n",
       "      <th>PTG</th>\n",
       "    </tr>\n",
       "  </thead>\n",
       "  <tbody>\n",
       "    <tr>\n",
       "      <th>0</th>\n",
       "      <td>0</td>\n",
       "      <td>6211</td>\n",
       "      <td>0.776375</td>\n",
       "    </tr>\n",
       "    <tr>\n",
       "      <th>1</th>\n",
       "      <td>1</td>\n",
       "      <td>1789</td>\n",
       "      <td>0.223625</td>\n",
       "    </tr>\n",
       "  </tbody>\n",
       "</table>\n",
       "</div>"
      ],
      "text/plain": [
       "   DEFAULT_PAY  N_USERS       PTG\n",
       "0            0     6211  0.776375\n",
       "1            1     1789  0.223625"
      ]
     },
     "execution_count": 343,
     "metadata": {},
     "output_type": "execute_result"
    }
   ],
   "source": [
    "# Check training data\n",
    "d_rate = df_train.groupby(['DEFAULT_PAY']).size().reset_index(name='N_USERS')\n",
    "d_rate['PTG'] = d_rate['N_USERS']/sum(d_rate['N_USERS'])\n",
    "d_rate"
   ]
  },
  {
   "cell_type": "code",
   "execution_count": 344,
   "metadata": {
    "pycharm": {
     "name": "#%%\n"
    }
   },
   "outputs": [
    {
     "data": {
      "text/html": [
       "<div>\n",
       "<style scoped>\n",
       "    .dataframe tbody tr th:only-of-type {\n",
       "        vertical-align: middle;\n",
       "    }\n",
       "\n",
       "    .dataframe tbody tr th {\n",
       "        vertical-align: top;\n",
       "    }\n",
       "\n",
       "    .dataframe thead th {\n",
       "        text-align: right;\n",
       "    }\n",
       "</style>\n",
       "<table border=\"1\" class=\"dataframe\">\n",
       "  <thead>\n",
       "    <tr style=\"text-align: right;\">\n",
       "      <th></th>\n",
       "      <th>DEFAULT_PAY</th>\n",
       "      <th>N_USERS</th>\n",
       "      <th>PTG</th>\n",
       "    </tr>\n",
       "  </thead>\n",
       "  <tbody>\n",
       "    <tr>\n",
       "      <th>0</th>\n",
       "      <td>0</td>\n",
       "      <td>1551</td>\n",
       "      <td>0.7755</td>\n",
       "    </tr>\n",
       "    <tr>\n",
       "      <th>1</th>\n",
       "      <td>1</td>\n",
       "      <td>449</td>\n",
       "      <td>0.2245</td>\n",
       "    </tr>\n",
       "  </tbody>\n",
       "</table>\n",
       "</div>"
      ],
      "text/plain": [
       "   DEFAULT_PAY  N_USERS     PTG\n",
       "0            0     1551  0.7755\n",
       "1            1      449  0.2245"
      ]
     },
     "execution_count": 344,
     "metadata": {},
     "output_type": "execute_result"
    }
   ],
   "source": [
    "# Check testing data\n",
    "d_rate = df_test.groupby(['DEFAULT_PAY']).size().reset_index(name='N_USERS')\n",
    "d_rate['PTG'] = d_rate['N_USERS']/sum(d_rate['N_USERS'])\n",
    "d_rate"
   ]
  },
  {
   "cell_type": "markdown",
   "metadata": {},
   "source": [
    "---\n",
    "## Baseline Model: Random Forest"
   ]
  },
  {
   "cell_type": "code",
   "execution_count": 345,
   "metadata": {
    "pycharm": {
     "name": "#%%\n"
    }
   },
   "outputs": [],
   "source": [
    "feature_names = feature_names_raw"
   ]
  },
  {
   "cell_type": "code",
   "execution_count": 346,
   "metadata": {
    "pycharm": {
     "name": "#%%\n"
    }
   },
   "outputs": [],
   "source": [
    "# get feature and labels\n",
    "features_train, features_test = \\\n",
    "    df_train[feature_names].values, df_test[feature_names].values\n",
    "labels_train, labels_test = \\\n",
    "    df_train['DEFAULT_PAY'].values,df_test['DEFAULT_PAY'].values"
   ]
  },
  {
   "cell_type": "code",
   "execution_count": 348,
   "metadata": {
    "pycharm": {
     "name": "#%%\n"
    }
   },
   "outputs": [
    {
     "name": "stdout",
     "output_type": "stream",
     "text": [
      "F1 training score: 0.0033351862145636463\n",
      "F1 testing score: 0.0\n",
      "Training time: 0.11 s\n",
      "Prediction time: 0.0 s\n",
      "Accuracy training score: 0.775875\n",
      "Accuracy testing score: 0.7755\n"
     ]
    },
    {
     "name": "stderr",
     "output_type": "stream",
     "text": [
      "/Users/yickminglee/.virtualenvs/ming-ds/lib/python3.6/site-packages/sklearn/linear_model/_logistic.py:940: ConvergenceWarning: lbfgs failed to converge (status=1):\n",
      "STOP: TOTAL NO. of ITERATIONS REACHED LIMIT.\n",
      "\n",
      "Increase the number of iterations (max_iter) or scale the data as shown in:\n",
      "    https://scikit-learn.org/stable/modules/preprocessing.html\n",
      "Please also refer to the documentation for alternative solver options:\n",
      "    https://scikit-learn.org/stable/modules/linear_model.html#logistic-regression\n",
      "  extra_warning_msg=_LOGISTIC_SOLVER_CONVERGENCE_MSG)\n"
     ]
    }
   ],
   "source": [
    "from sklearn.linear_model import LogisticRegression\n",
    "from sklearn.metrics import f1_score, make_scorer\n",
    "from sklearn import metrics\n",
    "\n",
    "clf = LogisticRegression(random_state=0)\n",
    "\n",
    "# Train the model using the training sets\n",
    "t0 = time()\n",
    "clf.fit(features_train, labels_train)\n",
    "training_time = round(time() - t0, 3)\n",
    "\n",
    "# Predict the response for test dataset\n",
    "t0 = time()\n",
    "predictions = clf.predict(features_test)\n",
    "prediction_time = round(time() - t0, 3)\n",
    "\n",
    "# evaluate result\n",
    "training_score = f1_score(y_true = labels_train, y_pred = clf.predict(features_train))\n",
    "score = f1_score(y_true = labels_test, y_pred = predictions)\n",
    "\n",
    "# Print results\n",
    "print (\"F1 training score:\", training_score)\n",
    "print (\"F1 testing score:\", score)\n",
    "print (\"Training time:\", training_time, \"s\")\n",
    "print (\"Prediction time:\", prediction_time, \"s\")\n",
    "\n",
    "\n",
    "# quickly check the accuracy score as well\n",
    "print (\"Accuracy training score:\", metrics.accuracy_score(labels_train, clf.predict(features_train)))\n",
    "print (\"Accuracy testing score:\", metrics.accuracy_score(labels_test, predictions))"
   ]
  },
  {
   "cell_type": "markdown",
   "metadata": {},
   "source": [
    "Over fitting!!! Training score is really well but testing score is bad."
   ]
  },
  {
   "cell_type": "code",
   "execution_count": 93,
   "metadata": {
    "pycharm": {
     "name": "#%%\n"
    }
   },
   "outputs": [
    {
     "name": "stdout",
     "output_type": "stream",
     "text": [
      "CPU times: user 5min 58s, sys: 1.13 s, total: 5min 59s\n",
      "Wall time: 6min\n",
      "RandomForestClassifier(bootstrap=True, ccp_alpha=0.0, class_weight=None,\n",
      "                       criterion='gini', max_depth=15, max_features='auto',\n",
      "                       max_leaf_nodes=None, max_samples=None,\n",
      "                       min_impurity_decrease=0.0, min_impurity_split=None,\n",
      "                       min_samples_leaf=1, min_samples_split=60,\n",
      "                       min_weight_fraction_leaf=0.0, n_estimators=100,\n",
      "                       n_jobs=None, oob_score=False, random_state=None,\n",
      "                       verbose=0, warm_start=False)\n",
      "0.4729852894817593\n"
     ]
    }
   ],
   "source": [
    "from sklearn.model_selection import GridSearchCV\n",
    "\n",
    "param_grid = {'n_estimators': [50,100],\n",
    "              'max_depth':[5,10,15], \n",
    "              'min_samples_split':[2,30,60], \n",
    "              'min_samples_leaf':[1,5,10,20],\n",
    "              'criterion': ['entropy', 'gini']} \n",
    "acc_scorer = make_scorer(f1_score)\n",
    "grid_clf = GridSearchCV(RandomForestClassifier(), param_grid, scoring = acc_scorer, cv=5)\n",
    "%time grid_clf = grid_clf.fit(features_train, labels_train)\n",
    "best_clf = grid_clf.best_estimator_\n",
    "print(grid_clf.best_estimator_)\n",
    "print(grid_clf.best_score_)"
   ]
  },
  {
   "cell_type": "markdown",
   "metadata": {},
   "source": [
    "\n",
    "Results (copied from above so that we don't have to re-run GridSearchCV):\n",
    "\n",
    "- CPU times: user 5min 58s, sys: 1.13 s, total: 5min 59s\n",
    "- Wall time: 6min\n",
    "- RandomForestClassifier(bootstrap=True, ccp_alpha=0.0, class_weight=None,\n",
    "                       criterion='gini', max_depth=15, max_features='auto',\n",
    "                       max_leaf_nodes=None, max_samples=None,\n",
    "                       min_impurity_decrease=0.0, min_impurity_split=None,\n",
    "                       min_samples_leaf=1, min_samples_split=60,\n",
    "                       min_weight_fraction_leaf=0.0, n_estimators=100,\n",
    "                       n_jobs=None, oob_score=False, random_state=None,\n",
    "                       verbose=0, warm_start=False)"
   ]
  },
  {
   "cell_type": "code",
   "execution_count": 102,
   "metadata": {
    "pycharm": {
     "name": "#%%\n"
    }
   },
   "outputs": [
    {
     "name": "stdout",
     "output_type": "stream",
     "text": [
      "F1 training score: 0.528637495553184\n",
      "F1 testing score: 0.44101123595505615\n",
      "Training time: 1.052 s\n",
      "Prediction time: 0.031 s\n",
      "Accuracy training score: 0.834375\n",
      "Accuracy testing score: 0.801\n"
     ]
    }
   ],
   "source": [
    "from sklearn.ensemble import RandomForestClassifier\n",
    "from sklearn.metrics import f1_score\n",
    "from sklearn import metrics\n",
    "\n",
    "clf = RandomForestClassifier(n_estimators=100, criterion='gini', max_depth=15, min_samples_split=60, min_samples_leaf=1, random_state=0)\n",
    "\n",
    "\n",
    "# Train the model using the training sets\n",
    "t0 = time()\n",
    "clf.fit(features_train, labels_train)\n",
    "training_time = round(time() - t0, 3)\n",
    "\n",
    "# Predict the response for test dataset\n",
    "t0 = time()\n",
    "predictions = clf.predict(features_test)\n",
    "prediction_time = round(time() - t0, 3)\n",
    "\n",
    "# evaluate result\n",
    "training_score = f1_score(y_true = labels_train, y_pred = clf.predict(features_train))\n",
    "score = f1_score(y_true = labels_test, y_pred = predictions)\n",
    "\n",
    "# Print results\n",
    "print (\"F1 training score:\", training_score)\n",
    "print (\"F1 testing score:\", score)\n",
    "print (\"Training time:\", training_time, \"s\")\n",
    "print (\"Prediction time:\", prediction_time, \"s\")\n",
    "\n",
    "# quickly check the accuracy score as well\n",
    "print (\"Accuracy training score:\", metrics.accuracy_score(labels_train, clf.predict(features_train)))\n",
    "print (\"Accuracy testing score:\", metrics.accuracy_score(labels_test, predictions))"
   ]
  },
  {
   "cell_type": "markdown",
   "metadata": {},
   "source": [
    "After hyper-parameter tuning, the over-fitting issue has become less serious."
   ]
  },
  {
   "cell_type": "code",
   "execution_count": 103,
   "metadata": {
    "pycharm": {
     "name": "#%%\n"
    }
   },
   "outputs": [
    {
     "name": "stdout",
     "output_type": "stream",
     "text": [
      "Confusion matrix, without normalization\n",
      "[[1445  106]\n",
      " [ 292  157]]\n"
     ]
    },
    {
     "data": {
      "image/png": "[encoded data removed]",
      "text/plain": [
       "<Figure size 432x288 with 2 Axes>"
      ]
     },
     "metadata": {
      "needs_background": "light"
     },
     "output_type": "display_data"
    }
   ],
   "source": [
    "# Confusion matrix: where is the problem\n",
    "\n",
    "import matplotlib.pyplot as plt\n",
    "import itertools\n",
    "from sklearn.metrics import confusion_matrix\n",
    "\n",
    "def plot_confusion_matrix(cm, classes,\n",
    "                          normalize=False,\n",
    "                          title='Confusion matrix',\n",
    "                          cmap=plt.cm.Blues):\n",
    "    \"\"\"\n",
    "    This function prints and plots the confusion matrix.\n",
    "    Normalization can be applied by setting `normalize=True`.\n",
    "    \"\"\"\n",
    "    if normalize:\n",
    "        cm = cm.astype('float') / cm.sum(axis=1)[:, np.newaxis]\n",
    "        print(\"Normalized confusion matrix\")\n",
    "    else:\n",
    "        print('Confusion matrix, without normalization')\n",
    "\n",
    "    print(cm)\n",
    "\n",
    "    plt.imshow(cm, interpolation='nearest', cmap=cmap)\n",
    "    plt.title(title)\n",
    "    plt.colorbar()\n",
    "    tick_marks = np.arange(len(classes))\n",
    "    plt.xticks(tick_marks, classes, rotation=45)\n",
    "    plt.yticks(tick_marks, classes)\n",
    "\n",
    "    fmt = '.2f' if normalize else 'd'\n",
    "    thresh = cm.max() / 2.\n",
    "    for i, j in itertools.product(range(cm.shape[0]), range(cm.shape[1])):\n",
    "        plt.text(j, i, format(cm[i, j], fmt),\n",
    "                 horizontalalignment=\"center\",\n",
    "                 color=\"white\" if cm[i, j] > thresh else \"black\")\n",
    "\n",
    "    plt.ylabel('True label')\n",
    "    plt.xlabel('Predicted label')\n",
    "    plt.tight_layout()\n",
    "\n",
    "\n",
    "cnf_matrix = confusion_matrix(labels_test, predictions)\n",
    "plot_confusion_matrix(cnf_matrix,classes=[0,1])"
   ]
  },
  {
   "cell_type": "code",
   "execution_count": 92,
   "metadata": {
    "pycharm": {
     "name": "#%%\n"
    }
   },
   "outputs": [
    {
     "data": {
      "image/png": "[encoded data removed]",
      "text/plain": [
       "<Figure size 1080x1080 with 1 Axes>"
      ]
     },
     "metadata": {
      "needs_background": "light"
     },
     "output_type": "display_data"
    }
   ],
   "source": [
    "importances = clf.feature_importances_\n",
    "importances\n",
    "\n",
    "# visualize variable importance\n",
    "importances = clf.feature_importances_\n",
    "importances_sorted = np.argsort(importances) # sort in increasing order\n",
    "\n",
    "plt.figure(figsize=(15,15))\n",
    "plt.barh(range(importances.shape[0]), importances[importances_sorted], tick_label=np.array(feature_names)[importances_sorted.astype(int)], height=0.3)\n",
    "plt.show()"
   ]
  },
  {
   "cell_type": "markdown",
   "metadata": {
    "pycharm": {
     "name": "#%%\n"
    }
   },
   "source": [
    "### Demographic data:\n",
    "Most of the features are not that useful. Age has stand out out of all of them.\n",
    "\n",
    "### History of repayment status, payments and bill statements \n",
    "The more recent repayment status are more important than the older ones.\n",
    "Similar observation can be seen in billing statement.\n"
   ]
  },
  {
   "cell_type": "markdown",
   "metadata": {},
   "source": [
    "---\n",
    "# 5. Perform feature engineering\n",
    "\n"
   ]
  },
  {
   "cell_type": "code",
   "execution_count": 229,
   "metadata": {
    "pycharm": {
     "name": "#%%\n"
    }
   },
   "outputs": [],
   "source": [
    "df_fe = df_explore.copy()"
   ]
  },
  {
   "cell_type": "markdown",
   "metadata": {},
   "source": [
    "---\n",
    "### Repayment status frequency"
   ]
  },
  {
   "cell_type": "code",
   "execution_count": 230,
   "metadata": {
    "pycharm": {
     "name": "#%%\n"
    }
   },
   "outputs": [],
   "source": [
    "select_cols = ['PAY_'+str(i) for i in range(1,7)]\n",
    "df_fe['N_PAY_DULY'] = df_fe[df_fe[select_cols]=='pay_duly'].count(axis=1)\n",
    "df_fe['N_DELAYED'] = df_fe[df_fe[select_cols]=='delayed'].count(axis=1)\n",
    "df_fe['N_UNKNOWN'] = df_fe[df_fe[select_cols]=='unknown'].count(axis=1)\n"
   ]
  },
  {
   "cell_type": "code",
   "execution_count": 231,
   "metadata": {
    "pycharm": {
     "name": "#%%\n"
    }
   },
   "outputs": [
    {
     "data": {
      "text/html": [
       "<div>\n",
       "<style scoped>\n",
       "    .dataframe tbody tr th:only-of-type {\n",
       "        vertical-align: middle;\n",
       "    }\n",
       "\n",
       "    .dataframe tbody tr th {\n",
       "        vertical-align: top;\n",
       "    }\n",
       "\n",
       "    .dataframe thead th {\n",
       "        text-align: right;\n",
       "    }\n",
       "</style>\n",
       "<table border=\"1\" class=\"dataframe\">\n",
       "  <thead>\n",
       "    <tr style=\"text-align: right;\">\n",
       "      <th>DEFAULT_PAY</th>\n",
       "      <th>0</th>\n",
       "      <th>1</th>\n",
       "      <th>perc</th>\n",
       "    </tr>\n",
       "    <tr>\n",
       "      <th>N_PAY_DULY</th>\n",
       "      <th></th>\n",
       "      <th></th>\n",
       "      <th></th>\n",
       "    </tr>\n",
       "  </thead>\n",
       "  <tbody>\n",
       "    <tr>\n",
       "      <th>0</th>\n",
       "      <td>4911</td>\n",
       "      <td>1680</td>\n",
       "      <td>0.254893</td>\n",
       "    </tr>\n",
       "    <tr>\n",
       "      <th>1</th>\n",
       "      <td>607</td>\n",
       "      <td>128</td>\n",
       "      <td>0.174150</td>\n",
       "    </tr>\n",
       "    <tr>\n",
       "      <th>2</th>\n",
       "      <td>500</td>\n",
       "      <td>94</td>\n",
       "      <td>0.158249</td>\n",
       "    </tr>\n",
       "    <tr>\n",
       "      <th>3</th>\n",
       "      <td>354</td>\n",
       "      <td>79</td>\n",
       "      <td>0.182448</td>\n",
       "    </tr>\n",
       "    <tr>\n",
       "      <th>4</th>\n",
       "      <td>407</td>\n",
       "      <td>79</td>\n",
       "      <td>0.162551</td>\n",
       "    </tr>\n",
       "    <tr>\n",
       "      <th>5</th>\n",
       "      <td>395</td>\n",
       "      <td>84</td>\n",
       "      <td>0.175365</td>\n",
       "    </tr>\n",
       "    <tr>\n",
       "      <th>6</th>\n",
       "      <td>588</td>\n",
       "      <td>94</td>\n",
       "      <td>0.137830</td>\n",
       "    </tr>\n",
       "  </tbody>\n",
       "</table>\n",
       "</div>"
      ],
      "text/plain": [
       "DEFAULT_PAY     0     1      perc\n",
       "N_PAY_DULY                       \n",
       "0            4911  1680  0.254893\n",
       "1             607   128  0.174150\n",
       "2             500    94  0.158249\n",
       "3             354    79  0.182448\n",
       "4             407    79  0.162551\n",
       "5             395    84  0.175365\n",
       "6             588    94  0.137830"
      ]
     },
     "execution_count": 231,
     "metadata": {},
     "output_type": "execute_result"
    }
   ],
   "source": [
    "d_rate_by_col(df_fe, 'N_PAY_DULY')\n"
   ]
  },
  {
   "cell_type": "code",
   "execution_count": 232,
   "metadata": {
    "pycharm": {
     "name": "#%%\n"
    }
   },
   "outputs": [
    {
     "data": {
      "text/html": [
       "<div>\n",
       "<style scoped>\n",
       "    .dataframe tbody tr th:only-of-type {\n",
       "        vertical-align: middle;\n",
       "    }\n",
       "\n",
       "    .dataframe tbody tr th {\n",
       "        vertical-align: top;\n",
       "    }\n",
       "\n",
       "    .dataframe thead th {\n",
       "        text-align: right;\n",
       "    }\n",
       "</style>\n",
       "<table border=\"1\" class=\"dataframe\">\n",
       "  <thead>\n",
       "    <tr style=\"text-align: right;\">\n",
       "      <th>DEFAULT_PAY</th>\n",
       "      <th>0</th>\n",
       "      <th>1</th>\n",
       "      <th>perc</th>\n",
       "    </tr>\n",
       "    <tr>\n",
       "      <th>N_DELAYED</th>\n",
       "      <th></th>\n",
       "      <th></th>\n",
       "      <th></th>\n",
       "    </tr>\n",
       "  </thead>\n",
       "  <tbody>\n",
       "    <tr>\n",
       "      <th>0</th>\n",
       "      <td>5883</td>\n",
       "      <td>808</td>\n",
       "      <td>0.120759</td>\n",
       "    </tr>\n",
       "    <tr>\n",
       "      <th>1</th>\n",
       "      <td>1006</td>\n",
       "      <td>473</td>\n",
       "      <td>0.319811</td>\n",
       "    </tr>\n",
       "    <tr>\n",
       "      <th>2</th>\n",
       "      <td>378</td>\n",
       "      <td>253</td>\n",
       "      <td>0.400951</td>\n",
       "    </tr>\n",
       "    <tr>\n",
       "      <th>3</th>\n",
       "      <td>185</td>\n",
       "      <td>188</td>\n",
       "      <td>0.504021</td>\n",
       "    </tr>\n",
       "    <tr>\n",
       "      <th>4</th>\n",
       "      <td>138</td>\n",
       "      <td>165</td>\n",
       "      <td>0.544554</td>\n",
       "    </tr>\n",
       "    <tr>\n",
       "      <th>5</th>\n",
       "      <td>39</td>\n",
       "      <td>58</td>\n",
       "      <td>0.597938</td>\n",
       "    </tr>\n",
       "    <tr>\n",
       "      <th>6</th>\n",
       "      <td>133</td>\n",
       "      <td>293</td>\n",
       "      <td>0.687793</td>\n",
       "    </tr>\n",
       "  </tbody>\n",
       "</table>\n",
       "</div>"
      ],
      "text/plain": [
       "DEFAULT_PAY     0    1      perc\n",
       "N_DELAYED                       \n",
       "0            5883  808  0.120759\n",
       "1            1006  473  0.319811\n",
       "2             378  253  0.400951\n",
       "3             185  188  0.504021\n",
       "4             138  165  0.544554\n",
       "5              39   58  0.597938\n",
       "6             133  293  0.687793"
      ]
     },
     "execution_count": 232,
     "metadata": {},
     "output_type": "execute_result"
    }
   ],
   "source": [
    "d_rate_by_col(df_fe, 'N_DELAYED')\n"
   ]
  },
  {
   "cell_type": "code",
   "execution_count": 233,
   "metadata": {
    "pycharm": {
     "name": "#%%\n"
    }
   },
   "outputs": [
    {
     "data": {
      "text/html": [
       "<div>\n",
       "<style scoped>\n",
       "    .dataframe tbody tr th:only-of-type {\n",
       "        vertical-align: middle;\n",
       "    }\n",
       "\n",
       "    .dataframe tbody tr th {\n",
       "        vertical-align: top;\n",
       "    }\n",
       "\n",
       "    .dataframe thead th {\n",
       "        text-align: right;\n",
       "    }\n",
       "</style>\n",
       "<table border=\"1\" class=\"dataframe\">\n",
       "  <thead>\n",
       "    <tr style=\"text-align: right;\">\n",
       "      <th>DEFAULT_PAY</th>\n",
       "      <th>0</th>\n",
       "      <th>1</th>\n",
       "      <th>perc</th>\n",
       "    </tr>\n",
       "    <tr>\n",
       "      <th>N_UNKNOWN</th>\n",
       "      <th></th>\n",
       "      <th></th>\n",
       "      <th></th>\n",
       "    </tr>\n",
       "  </thead>\n",
       "  <tbody>\n",
       "    <tr>\n",
       "      <th>0</th>\n",
       "      <td>901</td>\n",
       "      <td>461</td>\n",
       "      <td>0.338473</td>\n",
       "    </tr>\n",
       "    <tr>\n",
       "      <th>1</th>\n",
       "      <td>457</td>\n",
       "      <td>139</td>\n",
       "      <td>0.233221</td>\n",
       "    </tr>\n",
       "    <tr>\n",
       "      <th>2</th>\n",
       "      <td>534</td>\n",
       "      <td>240</td>\n",
       "      <td>0.310078</td>\n",
       "    </tr>\n",
       "    <tr>\n",
       "      <th>3</th>\n",
       "      <td>520</td>\n",
       "      <td>253</td>\n",
       "      <td>0.327296</td>\n",
       "    </tr>\n",
       "    <tr>\n",
       "      <th>4</th>\n",
       "      <td>660</td>\n",
       "      <td>272</td>\n",
       "      <td>0.291845</td>\n",
       "    </tr>\n",
       "    <tr>\n",
       "      <th>5</th>\n",
       "      <td>955</td>\n",
       "      <td>380</td>\n",
       "      <td>0.284644</td>\n",
       "    </tr>\n",
       "    <tr>\n",
       "      <th>6</th>\n",
       "      <td>3735</td>\n",
       "      <td>493</td>\n",
       "      <td>0.116604</td>\n",
       "    </tr>\n",
       "  </tbody>\n",
       "</table>\n",
       "</div>"
      ],
      "text/plain": [
       "DEFAULT_PAY     0    1      perc\n",
       "N_UNKNOWN                       \n",
       "0             901  461  0.338473\n",
       "1             457  139  0.233221\n",
       "2             534  240  0.310078\n",
       "3             520  253  0.327296\n",
       "4             660  272  0.291845\n",
       "5             955  380  0.284644\n",
       "6            3735  493  0.116604"
      ]
     },
     "execution_count": 233,
     "metadata": {},
     "output_type": "execute_result"
    }
   ],
   "source": [
    "d_rate_by_col(df_fe, 'N_UNKNOWN')"
   ]
  },
  {
   "cell_type": "markdown",
   "metadata": {},
   "source": [
    "N_DELAYED seems to be quite good at flagging default user. The higher the number of months, the higher the default rate.\n"
   ]
  },
  {
   "cell_type": "markdown",
   "metadata": {},
   "source": [
    "---\n",
    "### Credit utilisation rate\n"
   ]
  },
  {
   "cell_type": "code",
   "execution_count": 234,
   "metadata": {
    "pycharm": {
     "name": "#%%\n"
    }
   },
   "outputs": [],
   "source": [
    "for i in range(1,7):\n",
    "    df_fe['UTILIZE_PTG'+str(i)] = df_fe['BILL_AMT'+str(i)] / df_fe['LIMIT_BAL']\n"
   ]
  },
  {
   "cell_type": "code",
   "execution_count": 235,
   "metadata": {
    "pycharm": {
     "name": "#%%\n"
    }
   },
   "outputs": [
    {
     "data": {
      "image/png": "[encoded data removed]",
      "text/plain": [
       "<Figure size 1080x576 with 6 Axes>"
      ]
     },
     "metadata": {
      "needs_background": "light"
     },
     "output_type": "display_data"
    }
   ],
   "source": [
    "monthly_plot(df_fe, 'UTILIZE_PTG')\n"
   ]
  },
  {
   "cell_type": "code",
   "execution_count": 236,
   "metadata": {},
   "outputs": [
    {
     "data": {
      "text/html": [
       "<div>\n",
       "<style scoped>\n",
       "    .dataframe tbody tr th:only-of-type {\n",
       "        vertical-align: middle;\n",
       "    }\n",
       "\n",
       "    .dataframe tbody tr th {\n",
       "        vertical-align: top;\n",
       "    }\n",
       "\n",
       "    .dataframe thead th {\n",
       "        text-align: right;\n",
       "    }\n",
       "</style>\n",
       "<table border=\"1\" class=\"dataframe\">\n",
       "  <thead>\n",
       "    <tr style=\"text-align: right;\">\n",
       "      <th>DEFAULT_PAY</th>\n",
       "      <th>0</th>\n",
       "      <th>1</th>\n",
       "      <th>perc</th>\n",
       "    </tr>\n",
       "    <tr>\n",
       "      <th>UTILIZE_PTG_BUCK1</th>\n",
       "      <th></th>\n",
       "      <th></th>\n",
       "      <th></th>\n",
       "    </tr>\n",
       "  </thead>\n",
       "  <tbody>\n",
       "    <tr>\n",
       "      <th>(-0.001, 0.0114]</th>\n",
       "      <td>1552</td>\n",
       "      <td>448</td>\n",
       "      <td>0.224</td>\n",
       "    </tr>\n",
       "    <tr>\n",
       "      <th>(0.0114, 0.119]</th>\n",
       "      <td>1714</td>\n",
       "      <td>286</td>\n",
       "      <td>0.143</td>\n",
       "    </tr>\n",
       "    <tr>\n",
       "      <th>(0.119, 0.512]</th>\n",
       "      <td>1594</td>\n",
       "      <td>406</td>\n",
       "      <td>0.203</td>\n",
       "    </tr>\n",
       "    <tr>\n",
       "      <th>(0.512, 0.894]</th>\n",
       "      <td>1444</td>\n",
       "      <td>556</td>\n",
       "      <td>0.278</td>\n",
       "    </tr>\n",
       "    <tr>\n",
       "      <th>(0.894, 6.455]</th>\n",
       "      <td>1458</td>\n",
       "      <td>542</td>\n",
       "      <td>0.271</td>\n",
       "    </tr>\n",
       "  </tbody>\n",
       "</table>\n",
       "</div>"
      ],
      "text/plain": [
       "DEFAULT_PAY           0    1   perc\n",
       "UTILIZE_PTG_BUCK1                  \n",
       "(-0.001, 0.0114]   1552  448  0.224\n",
       "(0.0114, 0.119]    1714  286  0.143\n",
       "(0.119, 0.512]     1594  406  0.203\n",
       "(0.512, 0.894]     1444  556  0.278\n",
       "(0.894, 6.455]     1458  542  0.271"
      ]
     },
     "execution_count": 236,
     "metadata": {},
     "output_type": "execute_result"
    }
   ],
   "source": [
    "UTILIZE_PTG_BUCK1 = pd.qcut(df_fe['UTILIZE_PTG1'], 5)\n",
    "\n",
    "df_temp = pd.DataFrame({'UTILIZE_PTG_BUCK1': UTILIZE_PTG_BUCK1,'DEFAULT_PAY':df_fe['DEFAULT_PAY']})\n",
    "\n",
    "d_rate_by_col(df_temp, 'UTILIZE_PTG_BUCK1')"
   ]
  },
  {
   "cell_type": "markdown",
   "metadata": {},
   "source": [
    "Users with utilisation rate above 50% are more likely to go default."
   ]
  },
  {
   "cell_type": "markdown",
   "metadata": {},
   "source": [
    "---\n",
    "\n",
    "### Payment rate\n",
    "Note that PAY_AMT(n) is related to BILL_AMT(n+1)."
   ]
  },
  {
   "cell_type": "code",
   "execution_count": 237,
   "metadata": {
    "pycharm": {
     "name": "#%%\n"
    }
   },
   "outputs": [],
   "source": [
    "for i in range(1,6):\n",
    "    df_fe['PAY_PTG'+str(i)] = ((df_fe['PAY_AMT'+str(i)]+0.01) / (df_fe['BILL_AMT'+str(i+1)]+0.01)).clip(upper=1)\n",
    "    "
   ]
  },
  {
   "cell_type": "code",
   "execution_count": 238,
   "metadata": {
    "pycharm": {
     "name": "#%%\n"
    }
   },
   "outputs": [
    {
     "data": {
      "image/png": "[encoded data removed]",
      "text/plain": [
       "<Figure size 1080x576 with 6 Axes>"
      ]
     },
     "metadata": {
      "needs_background": "light"
     },
     "output_type": "display_data"
    }
   ],
   "source": [
    "fig,axes = plt.subplots(2,3,figsize=(15,8))\n",
    "axes = axes.flatten()\n",
    "\n",
    "for i, ax in enumerate(axes):\n",
    "    if i in range(0,5):\n",
    "        plt.subplot(ax)\n",
    "        sns.distplot(df_fe['PAY_PTG'+str(i+1)], kde=False, ax=ax)\n",
    "        ax.set(xlabel='PAY_PTG'+str(i+1))\n",
    "\n",
    "plt.tight_layout()"
   ]
  },
  {
   "cell_type": "code",
   "execution_count": 251,
   "metadata": {},
   "outputs": [
    {
     "data": {
      "text/html": [
       "<div>\n",
       "<style scoped>\n",
       "    .dataframe tbody tr th:only-of-type {\n",
       "        vertical-align: middle;\n",
       "    }\n",
       "\n",
       "    .dataframe tbody tr th {\n",
       "        vertical-align: top;\n",
       "    }\n",
       "\n",
       "    .dataframe thead th {\n",
       "        text-align: right;\n",
       "    }\n",
       "</style>\n",
       "<table border=\"1\" class=\"dataframe\">\n",
       "  <thead>\n",
       "    <tr style=\"text-align: right;\">\n",
       "      <th>DEFAULT_PAY</th>\n",
       "      <th>0</th>\n",
       "      <th>1</th>\n",
       "      <th>perc</th>\n",
       "    </tr>\n",
       "    <tr>\n",
       "      <th>PAY_PTG_BUCK1</th>\n",
       "      <th></th>\n",
       "      <th></th>\n",
       "      <th></th>\n",
       "    </tr>\n",
       "  </thead>\n",
       "  <tbody>\n",
       "    <tr>\n",
       "      <th>(-0.001, 0.2]</th>\n",
       "      <td>4256</td>\n",
       "      <td>1518</td>\n",
       "      <td>0.262903</td>\n",
       "    </tr>\n",
       "    <tr>\n",
       "      <th>(0.2, 0.4]</th>\n",
       "      <td>352</td>\n",
       "      <td>87</td>\n",
       "      <td>0.198178</td>\n",
       "    </tr>\n",
       "    <tr>\n",
       "      <th>(0.4, 0.6]</th>\n",
       "      <td>129</td>\n",
       "      <td>27</td>\n",
       "      <td>0.173077</td>\n",
       "    </tr>\n",
       "    <tr>\n",
       "      <th>(0.6, 0.8]</th>\n",
       "      <td>69</td>\n",
       "      <td>10</td>\n",
       "      <td>0.126582</td>\n",
       "    </tr>\n",
       "    <tr>\n",
       "      <th>(0.8, 1.0]</th>\n",
       "      <td>2956</td>\n",
       "      <td>596</td>\n",
       "      <td>0.167793</td>\n",
       "    </tr>\n",
       "  </tbody>\n",
       "</table>\n",
       "</div>"
      ],
      "text/plain": [
       "DEFAULT_PAY       0     1      perc\n",
       "PAY_PTG_BUCK1                      \n",
       "(-0.001, 0.2]  4256  1518  0.262903\n",
       "(0.2, 0.4]      352    87  0.198178\n",
       "(0.4, 0.6]      129    27  0.173077\n",
       "(0.6, 0.8]       69    10  0.126582\n",
       "(0.8, 1.0]     2956   596  0.167793"
      ]
     },
     "execution_count": 251,
     "metadata": {},
     "output_type": "execute_result"
    }
   ],
   "source": [
    "PAY_PTG_BUCK1 = pd.cut(df_fe['PAY_PTG1'],5)\n",
    "\n",
    "df_temp = pd.DataFrame({'PAY_PTG_BUCK1': PAY_PTG_BUCK1,'DEFAULT_PAY':df_fe['DEFAULT_PAY']})\n",
    "\n",
    "d_rate_by_col(df_temp, 'PAY_PTG_BUCK1')"
   ]
  },
  {
   "cell_type": "markdown",
   "metadata": {},
   "source": [
    "Users with pay rate below 20% are more likely to go default."
   ]
  },
  {
   "cell_type": "markdown",
   "metadata": {},
   "source": [
    "---\n",
    "\n",
    "## One-hot Encoding for categorical data\n"
   ]
  },
  {
   "cell_type": "code",
   "execution_count": 265,
   "metadata": {
    "pycharm": {
     "name": "#%%\n"
    }
   },
   "outputs": [
    {
     "data": {
      "text/plain": [
       "['SEX',\n",
       " 'EDUCATION',\n",
       " 'MARRIAGE',\n",
       " 'PAY_1',\n",
       " 'PAY_2',\n",
       " 'PAY_3',\n",
       " 'PAY_4',\n",
       " 'PAY_5',\n",
       " 'PAY_6']"
      ]
     },
     "execution_count": 265,
     "metadata": {},
     "output_type": "execute_result"
    }
   ],
   "source": [
    "onehot_names = ['SEX','EDUCATION','MARRIAGE']+['PAY_'+str(i) for i in range(1,7)]\n",
    "onehot_names"
   ]
  },
  {
   "cell_type": "code",
   "execution_count": 268,
   "metadata": {
    "pycharm": {
     "name": "#%%\n"
    }
   },
   "outputs": [
    {
     "data": {
      "text/html": [
       "<div>\n",
       "<style scoped>\n",
       "    .dataframe tbody tr th:only-of-type {\n",
       "        vertical-align: middle;\n",
       "    }\n",
       "\n",
       "    .dataframe tbody tr th {\n",
       "        vertical-align: top;\n",
       "    }\n",
       "\n",
       "    .dataframe thead th {\n",
       "        text-align: right;\n",
       "    }\n",
       "</style>\n",
       "<table border=\"1\" class=\"dataframe\">\n",
       "  <thead>\n",
       "    <tr style=\"text-align: right;\">\n",
       "      <th></th>\n",
       "      <th>ID</th>\n",
       "      <th>LIMIT_BAL</th>\n",
       "      <th>AGE</th>\n",
       "      <th>BILL_AMT1</th>\n",
       "      <th>BILL_AMT2</th>\n",
       "      <th>BILL_AMT3</th>\n",
       "      <th>BILL_AMT4</th>\n",
       "      <th>BILL_AMT5</th>\n",
       "      <th>BILL_AMT6</th>\n",
       "      <th>PAY_AMT1</th>\n",
       "      <th>...</th>\n",
       "      <th>PAY_3_unknown</th>\n",
       "      <th>PAY_4_delayed</th>\n",
       "      <th>PAY_4_pay_duly</th>\n",
       "      <th>PAY_4_unknown</th>\n",
       "      <th>PAY_5_delayed</th>\n",
       "      <th>PAY_5_pay_duly</th>\n",
       "      <th>PAY_5_unknown</th>\n",
       "      <th>PAY_6_delayed</th>\n",
       "      <th>PAY_6_pay_duly</th>\n",
       "      <th>PAY_6_unknown</th>\n",
       "    </tr>\n",
       "  </thead>\n",
       "  <tbody>\n",
       "    <tr>\n",
       "      <th>0</th>\n",
       "      <td>1</td>\n",
       "      <td>50000.0</td>\n",
       "      <td>23</td>\n",
       "      <td>50653.0</td>\n",
       "      <td>49348.0</td>\n",
       "      <td>47995.0</td>\n",
       "      <td>40226.0</td>\n",
       "      <td>27828.0</td>\n",
       "      <td>28411.0</td>\n",
       "      <td>2190.0</td>\n",
       "      <td>...</td>\n",
       "      <td>1</td>\n",
       "      <td>0</td>\n",
       "      <td>0</td>\n",
       "      <td>1</td>\n",
       "      <td>0</td>\n",
       "      <td>0</td>\n",
       "      <td>1</td>\n",
       "      <td>0</td>\n",
       "      <td>0</td>\n",
       "      <td>1</td>\n",
       "    </tr>\n",
       "    <tr>\n",
       "      <th>1</th>\n",
       "      <td>2</td>\n",
       "      <td>10000.0</td>\n",
       "      <td>25</td>\n",
       "      <td>8525.0</td>\n",
       "      <td>5141.0</td>\n",
       "      <td>5239.0</td>\n",
       "      <td>7911.0</td>\n",
       "      <td>17890.0</td>\n",
       "      <td>10000.0</td>\n",
       "      <td>1500.0</td>\n",
       "      <td>...</td>\n",
       "      <td>1</td>\n",
       "      <td>0</td>\n",
       "      <td>0</td>\n",
       "      <td>1</td>\n",
       "      <td>0</td>\n",
       "      <td>0</td>\n",
       "      <td>1</td>\n",
       "      <td>0</td>\n",
       "      <td>1</td>\n",
       "      <td>0</td>\n",
       "    </tr>\n",
       "    <tr>\n",
       "      <th>2</th>\n",
       "      <td>3</td>\n",
       "      <td>150000.0</td>\n",
       "      <td>52</td>\n",
       "      <td>88812.0</td>\n",
       "      <td>90649.0</td>\n",
       "      <td>92499.0</td>\n",
       "      <td>94364.0</td>\n",
       "      <td>97589.0</td>\n",
       "      <td>99921.0</td>\n",
       "      <td>2564.0</td>\n",
       "      <td>...</td>\n",
       "      <td>1</td>\n",
       "      <td>0</td>\n",
       "      <td>0</td>\n",
       "      <td>1</td>\n",
       "      <td>0</td>\n",
       "      <td>0</td>\n",
       "      <td>1</td>\n",
       "      <td>0</td>\n",
       "      <td>0</td>\n",
       "      <td>1</td>\n",
       "    </tr>\n",
       "    <tr>\n",
       "      <th>3</th>\n",
       "      <td>4</td>\n",
       "      <td>280000.0</td>\n",
       "      <td>26</td>\n",
       "      <td>25989.0</td>\n",
       "      <td>27052.0</td>\n",
       "      <td>28111.0</td>\n",
       "      <td>29138.0</td>\n",
       "      <td>29852.0</td>\n",
       "      <td>30717.0</td>\n",
       "      <td>1800.0</td>\n",
       "      <td>...</td>\n",
       "      <td>1</td>\n",
       "      <td>0</td>\n",
       "      <td>0</td>\n",
       "      <td>1</td>\n",
       "      <td>0</td>\n",
       "      <td>0</td>\n",
       "      <td>1</td>\n",
       "      <td>0</td>\n",
       "      <td>0</td>\n",
       "      <td>1</td>\n",
       "    </tr>\n",
       "    <tr>\n",
       "      <th>4</th>\n",
       "      <td>5</td>\n",
       "      <td>360000.0</td>\n",
       "      <td>41</td>\n",
       "      <td>0.0</td>\n",
       "      <td>0.0</td>\n",
       "      <td>0.0</td>\n",
       "      <td>0.0</td>\n",
       "      <td>0.0</td>\n",
       "      <td>0.0</td>\n",
       "      <td>0.0</td>\n",
       "      <td>...</td>\n",
       "      <td>1</td>\n",
       "      <td>0</td>\n",
       "      <td>0</td>\n",
       "      <td>1</td>\n",
       "      <td>0</td>\n",
       "      <td>0</td>\n",
       "      <td>1</td>\n",
       "      <td>0</td>\n",
       "      <td>0</td>\n",
       "      <td>1</td>\n",
       "    </tr>\n",
       "    <tr>\n",
       "      <th>...</th>\n",
       "      <td>...</td>\n",
       "      <td>...</td>\n",
       "      <td>...</td>\n",
       "      <td>...</td>\n",
       "      <td>...</td>\n",
       "      <td>...</td>\n",
       "      <td>...</td>\n",
       "      <td>...</td>\n",
       "      <td>...</td>\n",
       "      <td>...</td>\n",
       "      <td>...</td>\n",
       "      <td>...</td>\n",
       "      <td>...</td>\n",
       "      <td>...</td>\n",
       "      <td>...</td>\n",
       "      <td>...</td>\n",
       "      <td>...</td>\n",
       "      <td>...</td>\n",
       "      <td>...</td>\n",
       "      <td>...</td>\n",
       "      <td>...</td>\n",
       "    </tr>\n",
       "    <tr>\n",
       "      <th>9995</th>\n",
       "      <td>9996</td>\n",
       "      <td>130000.0</td>\n",
       "      <td>34</td>\n",
       "      <td>23292.0</td>\n",
       "      <td>14077.0</td>\n",
       "      <td>15546.0</td>\n",
       "      <td>108047.0</td>\n",
       "      <td>93708.0</td>\n",
       "      <td>97353.0</td>\n",
       "      <td>3000.0</td>\n",
       "      <td>...</td>\n",
       "      <td>1</td>\n",
       "      <td>0</td>\n",
       "      <td>0</td>\n",
       "      <td>1</td>\n",
       "      <td>0</td>\n",
       "      <td>0</td>\n",
       "      <td>1</td>\n",
       "      <td>0</td>\n",
       "      <td>0</td>\n",
       "      <td>1</td>\n",
       "    </tr>\n",
       "    <tr>\n",
       "      <th>9996</th>\n",
       "      <td>9997</td>\n",
       "      <td>100000.0</td>\n",
       "      <td>35</td>\n",
       "      <td>3515.0</td>\n",
       "      <td>2975.0</td>\n",
       "      <td>2342.0</td>\n",
       "      <td>12016.0</td>\n",
       "      <td>10203.0</td>\n",
       "      <td>5323.0</td>\n",
       "      <td>10.0</td>\n",
       "      <td>...</td>\n",
       "      <td>0</td>\n",
       "      <td>0</td>\n",
       "      <td>1</td>\n",
       "      <td>0</td>\n",
       "      <td>0</td>\n",
       "      <td>0</td>\n",
       "      <td>1</td>\n",
       "      <td>0</td>\n",
       "      <td>0</td>\n",
       "      <td>1</td>\n",
       "    </tr>\n",
       "    <tr>\n",
       "      <th>9997</th>\n",
       "      <td>9998</td>\n",
       "      <td>280000.0</td>\n",
       "      <td>30</td>\n",
       "      <td>166037.0</td>\n",
       "      <td>166291.0</td>\n",
       "      <td>162992.0</td>\n",
       "      <td>134154.0</td>\n",
       "      <td>161057.0</td>\n",
       "      <td>167490.0</td>\n",
       "      <td>12126.0</td>\n",
       "      <td>...</td>\n",
       "      <td>1</td>\n",
       "      <td>0</td>\n",
       "      <td>0</td>\n",
       "      <td>1</td>\n",
       "      <td>0</td>\n",
       "      <td>0</td>\n",
       "      <td>1</td>\n",
       "      <td>0</td>\n",
       "      <td>0</td>\n",
       "      <td>1</td>\n",
       "    </tr>\n",
       "    <tr>\n",
       "      <th>9998</th>\n",
       "      <td>9999</td>\n",
       "      <td>170000.0</td>\n",
       "      <td>27</td>\n",
       "      <td>173577.0</td>\n",
       "      <td>171480.0</td>\n",
       "      <td>171794.0</td>\n",
       "      <td>166637.0</td>\n",
       "      <td>169021.0</td>\n",
       "      <td>164531.0</td>\n",
       "      <td>6500.0</td>\n",
       "      <td>...</td>\n",
       "      <td>1</td>\n",
       "      <td>0</td>\n",
       "      <td>0</td>\n",
       "      <td>1</td>\n",
       "      <td>0</td>\n",
       "      <td>0</td>\n",
       "      <td>1</td>\n",
       "      <td>0</td>\n",
       "      <td>0</td>\n",
       "      <td>1</td>\n",
       "    </tr>\n",
       "    <tr>\n",
       "      <th>9999</th>\n",
       "      <td>10000</td>\n",
       "      <td>150000.0</td>\n",
       "      <td>27</td>\n",
       "      <td>15475.0</td>\n",
       "      <td>18212.0</td>\n",
       "      <td>18617.0</td>\n",
       "      <td>18020.0</td>\n",
       "      <td>18726.0</td>\n",
       "      <td>19414.0</td>\n",
       "      <td>3000.0</td>\n",
       "      <td>...</td>\n",
       "      <td>0</td>\n",
       "      <td>1</td>\n",
       "      <td>0</td>\n",
       "      <td>0</td>\n",
       "      <td>0</td>\n",
       "      <td>0</td>\n",
       "      <td>1</td>\n",
       "      <td>0</td>\n",
       "      <td>0</td>\n",
       "      <td>1</td>\n",
       "    </tr>\n",
       "  </tbody>\n",
       "</table>\n",
       "<p>10000 rows × 57 columns</p>\n",
       "</div>"
      ],
      "text/plain": [
       "         ID  LIMIT_BAL  AGE  BILL_AMT1  BILL_AMT2  BILL_AMT3  BILL_AMT4  \\\n",
       "0         1    50000.0   23    50653.0    49348.0    47995.0    40226.0   \n",
       "1         2    10000.0   25     8525.0     5141.0     5239.0     7911.0   \n",
       "2         3   150000.0   52    88812.0    90649.0    92499.0    94364.0   \n",
       "3         4   280000.0   26    25989.0    27052.0    28111.0    29138.0   \n",
       "4         5   360000.0   41        0.0        0.0        0.0        0.0   \n",
       "...     ...        ...  ...        ...        ...        ...        ...   \n",
       "9995   9996   130000.0   34    23292.0    14077.0    15546.0   108047.0   \n",
       "9996   9997   100000.0   35     3515.0     2975.0     2342.0    12016.0   \n",
       "9997   9998   280000.0   30   166037.0   166291.0   162992.0   134154.0   \n",
       "9998   9999   170000.0   27   173577.0   171480.0   171794.0   166637.0   \n",
       "9999  10000   150000.0   27    15475.0    18212.0    18617.0    18020.0   \n",
       "\n",
       "      BILL_AMT5  BILL_AMT6  PAY_AMT1  ...  PAY_3_unknown  PAY_4_delayed  \\\n",
       "0       27828.0    28411.0    2190.0  ...              1              0   \n",
       "1       17890.0    10000.0    1500.0  ...              1              0   \n",
       "2       97589.0    99921.0    2564.0  ...              1              0   \n",
       "3       29852.0    30717.0    1800.0  ...              1              0   \n",
       "4           0.0        0.0       0.0  ...              1              0   \n",
       "...         ...        ...       ...  ...            ...            ...   \n",
       "9995    93708.0    97353.0    3000.0  ...              1              0   \n",
       "9996    10203.0     5323.0      10.0  ...              0              0   \n",
       "9997   161057.0   167490.0   12126.0  ...              1              0   \n",
       "9998   169021.0   164531.0    6500.0  ...              1              0   \n",
       "9999    18726.0    19414.0    3000.0  ...              0              1   \n",
       "\n",
       "      PAY_4_pay_duly  PAY_4_unknown  PAY_5_delayed  PAY_5_pay_duly  \\\n",
       "0                  0              1              0               0   \n",
       "1                  0              1              0               0   \n",
       "2                  0              1              0               0   \n",
       "3                  0              1              0               0   \n",
       "4                  0              1              0               0   \n",
       "...              ...            ...            ...             ...   \n",
       "9995               0              1              0               0   \n",
       "9996               1              0              0               0   \n",
       "9997               0              1              0               0   \n",
       "9998               0              1              0               0   \n",
       "9999               0              0              0               0   \n",
       "\n",
       "      PAY_5_unknown  PAY_6_delayed  PAY_6_pay_duly  PAY_6_unknown  \n",
       "0                 1              0               0              1  \n",
       "1                 1              0               1              0  \n",
       "2                 1              0               0              1  \n",
       "3                 1              0               0              1  \n",
       "4                 1              0               0              1  \n",
       "...             ...            ...             ...            ...  \n",
       "9995              1              0               0              1  \n",
       "9996              1              0               0              1  \n",
       "9997              1              0               0              1  \n",
       "9998              1              0               0              1  \n",
       "9999              1              0               0              1  \n",
       "\n",
       "[10000 rows x 57 columns]"
      ]
     },
     "execution_count": 268,
     "metadata": {},
     "output_type": "execute_result"
    }
   ],
   "source": [
    "df_trans = pd.get_dummies(df_fe,columns=onehot_names)\n",
    "df_trans"
   ]
  },
  {
   "cell_type": "code",
   "execution_count": 269,
   "metadata": {
    "pycharm": {
     "name": "#%%\n"
    }
   },
   "outputs": [
    {
     "data": {
      "text/plain": [
       "array(['ID', 'LIMIT_BAL', 'AGE', 'BILL_AMT1', 'BILL_AMT2', 'BILL_AMT3',\n",
       "       'BILL_AMT4', 'BILL_AMT5', 'BILL_AMT6', 'PAY_AMT1', 'PAY_AMT2',\n",
       "       'PAY_AMT3', 'PAY_AMT4', 'PAY_AMT5', 'PAY_AMT6', 'DEFAULT_PAY',\n",
       "       'N_PAY_DULY', 'N_DELAYED', 'N_UNKNOWN', 'UTILIZE_PTG1',\n",
       "       'UTILIZE_PTG2', 'UTILIZE_PTG3', 'UTILIZE_PTG4', 'UTILIZE_PTG5',\n",
       "       'UTILIZE_PTG6', 'PAY_PTG1', 'PAY_PTG2', 'PAY_PTG3', 'PAY_PTG4',\n",
       "       'PAY_PTG5', 'SEX_female', 'SEX_male', 'EDUCATION_graduate_school',\n",
       "       'EDUCATION_high_school', 'EDUCATION_university',\n",
       "       'EDUCATION_unknown_and_others', 'MARRIAGE_married',\n",
       "       'MARRIAGE_single', 'MARRIAGE_unknown_and_others', 'PAY_1_delayed',\n",
       "       'PAY_1_pay_duly', 'PAY_1_unknown', 'PAY_2_delayed',\n",
       "       'PAY_2_pay_duly', 'PAY_2_unknown', 'PAY_3_delayed',\n",
       "       'PAY_3_pay_duly', 'PAY_3_unknown', 'PAY_4_delayed',\n",
       "       'PAY_4_pay_duly', 'PAY_4_unknown', 'PAY_5_delayed',\n",
       "       'PAY_5_pay_duly', 'PAY_5_unknown', 'PAY_6_delayed',\n",
       "       'PAY_6_pay_duly', 'PAY_6_unknown'], dtype=object)"
      ]
     },
     "execution_count": 269,
     "metadata": {},
     "output_type": "execute_result"
    }
   ],
   "source": [
    "df_trans.columns.values"
   ]
  },
  {
   "cell_type": "markdown",
   "metadata": {},
   "source": [
    "---\n",
    "\n",
    "# 6. Select the strongest predictors"
   ]
  },
  {
   "cell_type": "markdown",
   "metadata": {},
   "source": [
    "---\n",
    "\n",
    "## Transformation"
   ]
  },
  {
   "cell_type": "code",
   "execution_count": 270,
   "metadata": {
    "pycharm": {
     "name": "#%%\n"
    }
   },
   "outputs": [
    {
     "data": {
      "text/plain": [
       "array(['LIMIT_BAL', 'AGE', 'BILL_AMT1', 'BILL_AMT2', 'BILL_AMT3',\n",
       "       'BILL_AMT4', 'BILL_AMT5', 'BILL_AMT6', 'PAY_AMT1', 'PAY_AMT2',\n",
       "       'PAY_AMT3', 'PAY_AMT4', 'PAY_AMT5', 'PAY_AMT6', 'N_PAY_DULY',\n",
       "       'N_DELAYED', 'N_UNKNOWN', 'UTILIZE_PTG1', 'UTILIZE_PTG2',\n",
       "       'UTILIZE_PTG3', 'UTILIZE_PTG4', 'UTILIZE_PTG5', 'UTILIZE_PTG6',\n",
       "       'PAY_PTG1', 'PAY_PTG2', 'PAY_PTG3', 'PAY_PTG4', 'PAY_PTG5',\n",
       "       'SEX_female', 'SEX_male', 'EDUCATION_graduate_school',\n",
       "       'EDUCATION_high_school', 'EDUCATION_university',\n",
       "       'EDUCATION_unknown_and_others', 'MARRIAGE_married',\n",
       "       'MARRIAGE_single', 'MARRIAGE_unknown_and_others', 'PAY_1_delayed',\n",
       "       'PAY_1_pay_duly', 'PAY_1_unknown', 'PAY_2_delayed',\n",
       "       'PAY_2_pay_duly', 'PAY_2_unknown', 'PAY_3_delayed',\n",
       "       'PAY_3_pay_duly', 'PAY_3_unknown', 'PAY_4_delayed',\n",
       "       'PAY_4_pay_duly', 'PAY_4_unknown', 'PAY_5_delayed',\n",
       "       'PAY_5_pay_duly', 'PAY_5_unknown', 'PAY_6_delayed',\n",
       "       'PAY_6_pay_duly', 'PAY_6_unknown'], dtype=object)"
      ]
     },
     "execution_count": 270,
     "metadata": {},
     "output_type": "execute_result"
    }
   ],
   "source": [
    "feature_names_raw = df_trans.columns.values\n",
    "feature_names_raw = np.delete(feature_names_raw,np.argwhere(feature_names_raw=='ID'))\n",
    "feature_names_raw = np.delete(feature_names_raw,np.argwhere(feature_names_raw=='DEFAULT_PAY'))\n",
    "feature_names_raw"
   ]
  },
  {
   "cell_type": "code",
   "execution_count": 271,
   "metadata": {
    "pycharm": {
     "name": "#%%\n"
    }
   },
   "outputs": [
    {
     "data": {
      "text/plain": [
       "array(['LIMIT_BAL', 'AGE', 'BILL_AMT1', 'BILL_AMT2', 'BILL_AMT3',\n",
       "       'BILL_AMT4', 'BILL_AMT5', 'BILL_AMT6', 'PAY_AMT1', 'PAY_AMT2',\n",
       "       'PAY_AMT3', 'PAY_AMT4', 'PAY_AMT5', 'PAY_AMT6', 'N_PAY_DULY',\n",
       "       'N_DELAYED', 'N_UNKNOWN', 'UTILIZE_PTG1', 'UTILIZE_PTG2',\n",
       "       'UTILIZE_PTG3', 'UTILIZE_PTG4', 'UTILIZE_PTG5', 'UTILIZE_PTG6',\n",
       "       'PAY_PTG1', 'PAY_PTG2', 'PAY_PTG3', 'PAY_PTG4'], dtype=object)"
      ]
     },
     "execution_count": 271,
     "metadata": {},
     "output_type": "execute_result"
    }
   ],
   "source": [
    "continuous_names_raw = feature_names_raw[:27]\n",
    "continuous_names_raw"
   ]
  },
  {
   "cell_type": "code",
   "execution_count": 272,
   "metadata": {
    "pycharm": {
     "name": "#%%\n"
    }
   },
   "outputs": [
    {
     "data": {
      "text/plain": [
       "array(['SEX_female', 'SEX_male', 'EDUCATION_graduate_school',\n",
       "       'EDUCATION_high_school', 'EDUCATION_university',\n",
       "       'EDUCATION_unknown_and_others', 'MARRIAGE_married',\n",
       "       'MARRIAGE_single', 'MARRIAGE_unknown_and_others', 'PAY_1_delayed',\n",
       "       'PAY_1_pay_duly', 'PAY_1_unknown', 'PAY_2_delayed',\n",
       "       'PAY_2_pay_duly', 'PAY_2_unknown', 'PAY_3_delayed',\n",
       "       'PAY_3_pay_duly', 'PAY_3_unknown', 'PAY_4_delayed',\n",
       "       'PAY_4_pay_duly', 'PAY_4_unknown', 'PAY_5_delayed',\n",
       "       'PAY_5_pay_duly', 'PAY_5_unknown', 'PAY_6_delayed',\n",
       "       'PAY_6_pay_duly', 'PAY_6_unknown'], dtype=object)"
      ]
     },
     "execution_count": 272,
     "metadata": {},
     "output_type": "execute_result"
    }
   ],
   "source": [
    "categorical_names_raw = feature_names_raw[28:]\n",
    "categorical_names_raw"
   ]
  },
  {
   "cell_type": "code",
   "execution_count": 273,
   "metadata": {
    "pycharm": {
     "name": "#%%\n"
    }
   },
   "outputs": [],
   "source": [
    "# if I were to try SVM, remember to scale continuous variables before proceeding\n",
    "feature_names_raw = np.concatenate((continuous_names_raw, categorical_names_raw))"
   ]
  },
  {
   "cell_type": "markdown",
   "metadata": {},
   "source": [
    "---\n",
    "### Split into training and testing set"
   ]
  },
  {
   "cell_type": "code",
   "execution_count": 274,
   "metadata": {
    "pycharm": {
     "name": "#%%\n"
    }
   },
   "outputs": [],
   "source": [
    "from sklearn.model_selection import train_test_split\n",
    "\n",
    "# split the data\n",
    "df_train,df_test = train_test_split(df_onehot,test_size=0.2,random_state=2020)"
   ]
  },
  {
   "cell_type": "code",
   "execution_count": 275,
   "metadata": {
    "pycharm": {
     "name": "#%%\n"
    }
   },
   "outputs": [
    {
     "data": {
      "text/html": [
       "<div>\n",
       "<style scoped>\n",
       "    .dataframe tbody tr th:only-of-type {\n",
       "        vertical-align: middle;\n",
       "    }\n",
       "\n",
       "    .dataframe tbody tr th {\n",
       "        vertical-align: top;\n",
       "    }\n",
       "\n",
       "    .dataframe thead th {\n",
       "        text-align: right;\n",
       "    }\n",
       "</style>\n",
       "<table border=\"1\" class=\"dataframe\">\n",
       "  <thead>\n",
       "    <tr style=\"text-align: right;\">\n",
       "      <th></th>\n",
       "      <th>DEFAULT_PAY</th>\n",
       "      <th>N_USERS</th>\n",
       "      <th>PTG</th>\n",
       "    </tr>\n",
       "  </thead>\n",
       "  <tbody>\n",
       "    <tr>\n",
       "      <th>0</th>\n",
       "      <td>0</td>\n",
       "      <td>6211</td>\n",
       "      <td>0.776375</td>\n",
       "    </tr>\n",
       "    <tr>\n",
       "      <th>1</th>\n",
       "      <td>1</td>\n",
       "      <td>1789</td>\n",
       "      <td>0.223625</td>\n",
       "    </tr>\n",
       "  </tbody>\n",
       "</table>\n",
       "</div>"
      ],
      "text/plain": [
       "   DEFAULT_PAY  N_USERS       PTG\n",
       "0            0     6211  0.776375\n",
       "1            1     1789  0.223625"
      ]
     },
     "execution_count": 275,
     "metadata": {},
     "output_type": "execute_result"
    }
   ],
   "source": [
    "# Check training data\n",
    "d_rate = df_train.groupby(['DEFAULT_PAY']).size().reset_index(name='N_USERS')\n",
    "d_rate['PTG'] = d_rate['N_USERS']/sum(d_rate['N_USERS'])\n",
    "d_rate"
   ]
  },
  {
   "cell_type": "code",
   "execution_count": 276,
   "metadata": {
    "pycharm": {
     "name": "#%%\n"
    }
   },
   "outputs": [
    {
     "data": {
      "text/html": [
       "<div>\n",
       "<style scoped>\n",
       "    .dataframe tbody tr th:only-of-type {\n",
       "        vertical-align: middle;\n",
       "    }\n",
       "\n",
       "    .dataframe tbody tr th {\n",
       "        vertical-align: top;\n",
       "    }\n",
       "\n",
       "    .dataframe thead th {\n",
       "        text-align: right;\n",
       "    }\n",
       "</style>\n",
       "<table border=\"1\" class=\"dataframe\">\n",
       "  <thead>\n",
       "    <tr style=\"text-align: right;\">\n",
       "      <th></th>\n",
       "      <th>DEFAULT_PAY</th>\n",
       "      <th>N_USERS</th>\n",
       "      <th>PTG</th>\n",
       "    </tr>\n",
       "  </thead>\n",
       "  <tbody>\n",
       "    <tr>\n",
       "      <th>0</th>\n",
       "      <td>0</td>\n",
       "      <td>1551</td>\n",
       "      <td>0.7755</td>\n",
       "    </tr>\n",
       "    <tr>\n",
       "      <th>1</th>\n",
       "      <td>1</td>\n",
       "      <td>449</td>\n",
       "      <td>0.2245</td>\n",
       "    </tr>\n",
       "  </tbody>\n",
       "</table>\n",
       "</div>"
      ],
      "text/plain": [
       "   DEFAULT_PAY  N_USERS     PTG\n",
       "0            0     1551  0.7755\n",
       "1            1      449  0.2245"
      ]
     },
     "execution_count": 276,
     "metadata": {},
     "output_type": "execute_result"
    }
   ],
   "source": [
    "# Check testing data\n",
    "d_rate = df_test.groupby(['DEFAULT_PAY']).size().reset_index(name='N_USERS')\n",
    "d_rate['PTG'] = d_rate['N_USERS']/sum(d_rate['N_USERS'])\n",
    "d_rate"
   ]
  },
  {
   "cell_type": "markdown",
   "metadata": {},
   "source": [
    "---\n",
    "### Fit them on Random Forest again"
   ]
  },
  {
   "cell_type": "code",
   "execution_count": 277,
   "metadata": {
    "pycharm": {
     "name": "#%%\n"
    }
   },
   "outputs": [],
   "source": [
    "feature_names = feature_names_raw"
   ]
  },
  {
   "cell_type": "code",
   "execution_count": 278,
   "metadata": {
    "pycharm": {
     "name": "#%%\n"
    }
   },
   "outputs": [],
   "source": [
    "# get feature and labels\n",
    "features_train, features_test = \\\n",
    "    df_train[feature_names].values, df_test[feature_names].values\n",
    "labels_train, labels_test = \\\n",
    "    df_train['DEFAULT_PAY'].values,df_test['DEFAULT_PAY'].values"
   ]
  },
  {
   "cell_type": "code",
   "execution_count": 279,
   "metadata": {
    "pycharm": {
     "name": "#%%\n"
    }
   },
   "outputs": [
    {
     "name": "stdout",
     "output_type": "stream",
     "text": [
      "CPU times: user 1min 28s, sys: 486 ms, total: 1min 29s\n",
      "Wall time: 1min 29s\n",
      "RandomForestClassifier(bootstrap=True, ccp_alpha=0.0, class_weight=None,\n",
      "                       criterion='gini', max_depth=10, max_features='auto',\n",
      "                       max_leaf_nodes=None, max_samples=None,\n",
      "                       min_impurity_decrease=0.0, min_impurity_split=None,\n",
      "                       min_samples_leaf=5, min_samples_split=60,\n",
      "                       min_weight_fraction_leaf=0.0, n_estimators=50,\n",
      "                       n_jobs=None, oob_score=False, random_state=None,\n",
      "                       verbose=0, warm_start=False)\n",
      "0.46580375744849734\n"
     ]
    }
   ],
   "source": [
    "from sklearn.model_selection import GridSearchCV\n",
    "\n",
    "param_grid = {'n_estimators': [50],\n",
    "              'max_depth':[5,10,15], \n",
    "              'min_samples_split':[30,60], \n",
    "              'min_samples_leaf':[5,10,20],\n",
    "              'criterion': ['entropy', 'gini']} \n",
    "acc_scorer = make_scorer(f1_score)\n",
    "grid_clf = GridSearchCV(RandomForestClassifier(), param_grid, scoring = acc_scorer, cv=5)\n",
    "%time grid_clf = grid_clf.fit(features_train, labels_train)\n",
    "best_clf = grid_clf.best_estimator_\n",
    "print(grid_clf.best_estimator_)\n",
    "print(grid_clf.best_score_)"
   ]
  },
  {
   "cell_type": "markdown",
   "metadata": {},
   "source": [
    "After hyper-parameter tuning, the score has only improved by about 5%.\n",
    "\n",
    "Results (copied from above so that we don't have to re-run GridSearchCV):\n",
    "\n",
    "- Wall time: 3min 58s\n",
    "- RandomForestClassifier(bootstrap=True, ccp_alpha=0.0, class_weight=None,\n",
    "                       criterion='entropy', max_depth=10, max_features='auto',\n",
    "                       max_leaf_nodes=None, max_samples=None,\n",
    "                       min_impurity_decrease=0.0, min_impurity_split=None,\n",
    "                       min_samples_leaf=5, min_samples_split=60,\n",
    "                       min_weight_fraction_leaf=0.0, n_estimators=100,\n",
    "                       n_jobs=None, oob_score=False, random_state=None,\n",
    "                       verbose=0, warm_start=False)\n",
    "- 0.4669538460307027"
   ]
  },
  {
   "cell_type": "code",
   "execution_count": 281,
   "metadata": {
    "pycharm": {
     "name": "#%%\n"
    }
   },
   "outputs": [
    {
     "name": "stdout",
     "output_type": "stream",
     "text": [
      "F1 training score: 0.5219251336898396\n",
      "F1 testing score: 0.4503496503496504\n",
      "Training time: 1.63 s\n",
      "Prediction time: 0.027 s\n",
      "Accuracy training score: 0.832375\n",
      "Accuracy testing score: 0.8035\n"
     ]
    }
   ],
   "source": [
    "from sklearn.ensemble import RandomForestClassifier\n",
    "from sklearn.metrics import f1_score\n",
    "from sklearn import metrics\n",
    "\n",
    "clf = RandomForestClassifier(n_estimators=100, criterion='entropy', max_depth=10, min_samples_split=60, min_samples_leaf=5, random_state=0)\n",
    "\n",
    "\n",
    "# Train the model using the training sets\n",
    "t0 = time()\n",
    "clf.fit(features_train, labels_train)\n",
    "training_time = round(time() - t0, 3)\n",
    "\n",
    "# Predict the response for test dataset\n",
    "t0 = time()\n",
    "predictions = clf.predict(features_test)\n",
    "prediction_time = round(time() - t0, 3)\n",
    "\n",
    "# evaluate result\n",
    "training_score = f1_score(y_true = labels_train, y_pred = clf.predict(features_train))\n",
    "score = f1_score(y_true = labels_test, y_pred = predictions)\n",
    "\n",
    "# Print results\n",
    "print (\"F1 training score:\", training_score)\n",
    "print (\"F1 testing score:\", score)\n",
    "print (\"Training time:\", training_time, \"s\")\n",
    "print (\"Prediction time:\", prediction_time, \"s\")\n",
    "\n",
    "# quickly check the accuracy score as well\n",
    "print (\"Accuracy training score:\", metrics.accuracy_score(labels_train, clf.predict(features_train)))\n",
    "print (\"Accuracy testing score:\", metrics.accuracy_score(labels_test, predictions))"
   ]
  },
  {
   "cell_type": "code",
   "execution_count": 282,
   "metadata": {
    "pycharm": {
     "name": "#%%\n"
    }
   },
   "outputs": [
    {
     "name": "stdout",
     "output_type": "stream",
     "text": [
      "Confusion matrix, without normalization\n",
      "[[1446  105]\n",
      " [ 288  161]]\n"
     ]
    },
    {
     "data": {
      "image/png": "[encoded data removed]",
      "text/plain": [
       "<Figure size 432x288 with 2 Axes>"
      ]
     },
     "metadata": {
      "needs_background": "light"
     },
     "output_type": "display_data"
    }
   ],
   "source": [
    "# Confusion matrix: where is the problem\n",
    "\n",
    "import matplotlib.pyplot as plt\n",
    "import itertools\n",
    "from sklearn.metrics import confusion_matrix\n",
    "\n",
    "def plot_confusion_matrix(cm, classes,\n",
    "                          normalize=False,\n",
    "                          title='Confusion matrix',\n",
    "                          cmap=plt.cm.Blues):\n",
    "    \"\"\"\n",
    "    This function prints and plots the confusion matrix.\n",
    "    Normalization can be applied by setting `normalize=True`.\n",
    "    \"\"\"\n",
    "    if normalize:\n",
    "        cm = cm.astype('float') / cm.sum(axis=1)[:, np.newaxis]\n",
    "        print(\"Normalized confusion matrix\")\n",
    "    else:\n",
    "        print('Confusion matrix, without normalization')\n",
    "\n",
    "    print(cm)\n",
    "\n",
    "    plt.imshow(cm, interpolation='nearest', cmap=cmap)\n",
    "    plt.title(title)\n",
    "    plt.colorbar()\n",
    "    tick_marks = np.arange(len(classes))\n",
    "    plt.xticks(tick_marks, classes, rotation=45)\n",
    "    plt.yticks(tick_marks, classes)\n",
    "\n",
    "    fmt = '.2f' if normalize else 'd'\n",
    "    thresh = cm.max() / 2.\n",
    "    for i, j in itertools.product(range(cm.shape[0]), range(cm.shape[1])):\n",
    "        plt.text(j, i, format(cm[i, j], fmt),\n",
    "                 horizontalalignment=\"center\",\n",
    "                 color=\"white\" if cm[i, j] > thresh else \"black\")\n",
    "\n",
    "    plt.ylabel('True label')\n",
    "    plt.xlabel('Predicted label')\n",
    "    plt.tight_layout()\n",
    "\n",
    "\n",
    "cnf_matrix = confusion_matrix(labels_test, predictions)\n",
    "plot_confusion_matrix(cnf_matrix,classes=[0,1])"
   ]
  },
  {
   "cell_type": "code",
   "execution_count": null,
   "metadata": {
    "pycharm": {
     "name": "#%%\n"
    }
   },
   "outputs": [],
   "source": [
    "importances = clf.feature_importances_\n",
    "importances\n",
    "\n",
    "# visualize variable importance\n",
    "importances = clf.feature_importances_\n",
    "importances_sorted = np.argsort(importances) # sort in increasing order\n",
    "\n",
    "plt.figure(figsize=(15,15))\n",
    "plt.barh(range(importances.shape[0]), importances[importances_sorted], tick_label=np.array(feature_names)[importances_sorted.astype(int)], height=0.3)\n",
    "plt.show()\n"
   ]
  },
  {
   "cell_type": "markdown",
   "metadata": {},
   "source": [
    "---\n",
    "## May be I get rid of time series features?"
   ]
  },
  {
   "cell_type": "markdown",
   "metadata": {},
   "source": [
    "---\n",
    "### Let's look at PAY(n)_delayed"
   ]
  },
  {
   "cell_type": "code",
   "execution_count": 283,
   "metadata": {
    "pycharm": {
     "name": "#%%\n"
    }
   },
   "outputs": [],
   "source": [
    "feature_names =[\n",
    "        'PAY_1_delayed',\n",
    "        'PAY_2_delayed', \n",
    "        'PAY_3_delayed', \n",
    "        'PAY_4_delayed', \n",
    "        'PAY_5_delayed', \n",
    "        'PAY_6_delayed'\n",
    "        ]\n"
   ]
  },
  {
   "cell_type": "code",
   "execution_count": 284,
   "metadata": {
    "pycharm": {
     "name": "#%%\n"
    }
   },
   "outputs": [
    {
     "name": "stdout",
     "output_type": "stream",
     "text": [
      "F1 training score: 0.4173913043478261\n",
      "F1 testing score: 0.3880597014925373\n",
      "Training time: 0.137 s\n",
      "Prediction time: 0.011 s\n",
      "Accuracy training score: 0.807375\n",
      "Accuracy testing score: 0.795\n"
     ]
    }
   ],
   "source": [
    "from sklearn.ensemble import RandomForestClassifier\n",
    "from sklearn.metrics import f1_score\n",
    "from sklearn import metrics\n",
    "\n",
    "# get feature and labels\n",
    "features_train, features_test = \\\n",
    "    df_train[feature_names].values, df_test[feature_names].values\n",
    "labels_train, labels_test = \\\n",
    "    df_train['DEFAULT_PAY'].values,df_test['DEFAULT_PAY'].values\n",
    "\n",
    "clf = RandomForestClassifier(n_estimators=50, random_state=0)\n",
    "\n",
    "# Train the model using the training sets\n",
    "t0 = time()\n",
    "clf.fit(features_train, labels_train)\n",
    "training_time = round(time() - t0, 3)\n",
    "\n",
    "# Predict the response for test dataset\n",
    "t0 = time()\n",
    "predictions = clf.predict(features_test)\n",
    "prediction_time = round(time() - t0, 3)\n",
    "\n",
    "# evaluate result\n",
    "training_score = f1_score(y_true = labels_train, y_pred = clf.predict(features_train))\n",
    "score = f1_score(y_true = labels_test, y_pred = predictions)\n",
    "\n",
    "# Print results\n",
    "print (\"F1 training score:\", training_score)\n",
    "print (\"F1 testing score:\", score)\n",
    "print (\"Training time:\", training_time, \"s\")\n",
    "print (\"Prediction time:\", prediction_time, \"s\")\n",
    "\n",
    "\n",
    "# quickly check the accuracy score as well\n",
    "print (\"Accuracy training score:\", metrics.accuracy_score(labels_train, clf.predict(features_train)))\n",
    "print (\"Accuracy testing score:\", metrics.accuracy_score(labels_test, predictions))"
   ]
  },
  {
   "cell_type": "code",
   "execution_count": 285,
   "metadata": {
    "pycharm": {
     "name": "#%%\n"
    }
   },
   "outputs": [
    {
     "data": {
      "image/png": "[encoded data removed]",
      "text/plain": [
       "<Figure size 1080x360 with 1 Axes>"
      ]
     },
     "metadata": {
      "needs_background": "light"
     },
     "output_type": "display_data"
    }
   ],
   "source": [
    "importances = clf.feature_importances_\n",
    "importances\n",
    "\n",
    "# visualize variable importance\n",
    "importances = clf.feature_importances_\n",
    "importances_sorted = np.argsort(importances) # sort in increasing order\n",
    "\n",
    "plt.figure(figsize=(15,5))\n",
    "plt.barh(range(importances.shape[0]), importances[importances_sorted], tick_label=np.array(feature_names)[importances_sorted.astype(int)], height=0.3)\n",
    "plt.show()\n"
   ]
  },
  {
   "cell_type": "markdown",
   "metadata": {},
   "source": [
    "The older the data the less important they are. Let's try to predict with only the latest data (i.e. 1)."
   ]
  },
  {
   "cell_type": "markdown",
   "metadata": {},
   "source": [
    "---\n",
    "### Remove older data"
   ]
  },
  {
   "cell_type": "code",
   "execution_count": 286,
   "metadata": {
    "pycharm": {
     "name": "#%%\n"
    }
   },
   "outputs": [
    {
     "name": "stdout",
     "output_type": "stream",
     "text": [
      "4 feature no.3 - BILL_AMT2\n",
      "5 feature no.4 - BILL_AMT3\n",
      "6 feature no.5 - BILL_AMT4\n",
      "7 feature no.6 - BILL_AMT5\n",
      "8 feature no.7 - BILL_AMT6\n",
      "10 feature no.9 - PAY_AMT2\n",
      "11 feature no.10 - PAY_AMT3\n",
      "12 feature no.11 - PAY_AMT4\n",
      "13 feature no.12 - PAY_AMT5\n",
      "14 feature no.13 - PAY_AMT6\n",
      "19 feature no.18 - UTILIZE_PTG2\n",
      "20 feature no.19 - UTILIZE_PTG3\n",
      "21 feature no.20 - UTILIZE_PTG4\n",
      "22 feature no.21 - UTILIZE_PTG5\n",
      "23 feature no.22 - UTILIZE_PTG6\n",
      "25 feature no.24 - PAY_PTG2\n",
      "26 feature no.25 - PAY_PTG3\n",
      "27 feature no.26 - PAY_PTG4\n",
      "40 feature no.39 - PAY_2_delayed\n",
      "41 feature no.40 - PAY_2_pay_duly\n",
      "42 feature no.41 - PAY_2_unknown\n",
      "43 feature no.42 - PAY_3_delayed\n",
      "44 feature no.43 - PAY_3_pay_duly\n",
      "45 feature no.44 - PAY_3_unknown\n",
      "46 feature no.45 - PAY_4_delayed\n",
      "47 feature no.46 - PAY_4_pay_duly\n",
      "48 feature no.47 - PAY_4_unknown\n",
      "49 feature no.48 - PAY_5_delayed\n",
      "50 feature no.49 - PAY_5_pay_duly\n",
      "51 feature no.50 - PAY_5_unknown\n",
      "52 feature no.51 - PAY_6_delayed\n",
      "53 feature no.52 - PAY_6_pay_duly\n",
      "54 feature no.53 - PAY_6_unknown\n",
      "[3, 4, 5, 6, 7, 9, 10, 11, 12, 13, 18, 19, 20, 21, 22, 24, 25, 26, 39, 40, 41, 42, 43, 44, 45, 46, 47, 48, 49, 50, 51, 52, 53]\n"
     ]
    }
   ],
   "source": [
    "import re\n",
    "\n",
    "r = re.compile(\".*[2-6].*\")\n",
    "\n",
    "feature_names = feature_names_raw\n",
    "\n",
    "remove_feature = []\n",
    "for i in range(len(feature_names)):\n",
    "    if r.search(feature_names[i]):\n",
    "        remove_feature.append(i)\n",
    "        print (\"{} feature no.{} - {}\".format(i+1, i, feature_names[i]))\n",
    "\n",
    "print(remove_feature)"
   ]
  },
  {
   "cell_type": "code",
   "execution_count": 287,
   "metadata": {
    "pycharm": {
     "name": "#%%\n"
    }
   },
   "outputs": [
    {
     "data": {
      "text/plain": [
       "array(['LIMIT_BAL', 'AGE', 'BILL_AMT1', 'PAY_AMT1', 'N_PAY_DULY',\n",
       "       'N_DELAYED', 'N_UNKNOWN', 'UTILIZE_PTG1', 'PAY_PTG1', 'SEX_female',\n",
       "       'SEX_male', 'EDUCATION_graduate_school', 'EDUCATION_high_school',\n",
       "       'EDUCATION_university', 'EDUCATION_unknown_and_others',\n",
       "       'MARRIAGE_married', 'MARRIAGE_single',\n",
       "       'MARRIAGE_unknown_and_others', 'PAY_1_delayed', 'PAY_1_pay_duly',\n",
       "       'PAY_1_unknown'], dtype=object)"
      ]
     },
     "execution_count": 287,
     "metadata": {},
     "output_type": "execute_result"
    }
   ],
   "source": [
    "feature_names = np.delete(feature_names,remove_feature)\n",
    "feature_names"
   ]
  },
  {
   "cell_type": "code",
   "execution_count": 288,
   "metadata": {
    "pycharm": {
     "name": "#%%\n"
    }
   },
   "outputs": [
    {
     "name": "stdout",
     "output_type": "stream",
     "text": [
      "F1 training score: 0.5102823283373998\n",
      "F1 testing score: 0.44846796657381616\n",
      "Training time: 0.788 s\n",
      "Prediction time: 0.036 s\n",
      "Accuracy training score: 0.824375\n",
      "Accuracy testing score: 0.802\n"
     ]
    }
   ],
   "source": [
    "from sklearn.ensemble import RandomForestClassifier\n",
    "from sklearn.metrics import f1_score\n",
    "from sklearn import metrics\n",
    "\n",
    "# get feature and labels\n",
    "features_train, features_test = \\\n",
    "    df_train[feature_names].values, df_test[feature_names].values\n",
    "labels_train, labels_test = \\\n",
    "    df_train['DEFAULT_PAY'].values,df_test['DEFAULT_PAY'].values\n",
    "\n",
    "clf = RandomForestClassifier(n_estimators=100, criterion='entropy', max_depth=10, min_samples_split=60, min_samples_leaf=5, random_state=0)\n",
    "\n",
    "# Train the model using the training sets\n",
    "t0 = time()\n",
    "clf.fit(features_train, labels_train)\n",
    "training_time = round(time() - t0, 3)\n",
    "\n",
    "# Predict the response for test dataset\n",
    "t0 = time()\n",
    "predictions = clf.predict(features_test)\n",
    "prediction_time = round(time() - t0, 3)\n",
    "\n",
    "# evaluate result\n",
    "training_score = f1_score(y_true = labels_train, y_pred = clf.predict(features_train))\n",
    "score = f1_score(y_true = labels_test, y_pred = predictions)\n",
    "\n",
    "# Print results\n",
    "print (\"F1 training score:\", training_score)\n",
    "print (\"F1 testing score:\", score)\n",
    "print (\"Training time:\", training_time, \"s\")\n",
    "print (\"Prediction time:\", prediction_time, \"s\")\n",
    "\n",
    "\n",
    "# quickly check the accuracy score as well\n",
    "print (\"Accuracy training score:\", metrics.accuracy_score(labels_train, clf.predict(features_train)))\n",
    "print (\"Accuracy testing score:\", metrics.accuracy_score(labels_test, predictions))"
   ]
  },
  {
   "cell_type": "code",
   "execution_count": 289,
   "metadata": {
    "pycharm": {
     "name": "#%%\n"
    }
   },
   "outputs": [
    {
     "data": {
      "image/png": "[encoded data removed]",
      "text/plain": [
       "<Figure size 1080x720 with 1 Axes>"
      ]
     },
     "metadata": {
      "needs_background": "light"
     },
     "output_type": "display_data"
    }
   ],
   "source": [
    "importances = clf.feature_importances_\n",
    "importances\n",
    "\n",
    "# visualize variable importance\n",
    "importances = clf.feature_importances_\n",
    "importances_sorted = np.argsort(importances) # sort in increasing order\n",
    "\n",
    "plt.figure(figsize=(15,10))\n",
    "plt.barh(range(importances.shape[0]), importances[importances_sorted], tick_label=np.array(feature_names)[importances_sorted.astype(int)], height=0.3)\n",
    "plt.show()\n"
   ]
  },
  {
   "cell_type": "markdown",
   "metadata": {},
   "source": [
    "---\n",
    "### Select fewer features to treat overfitting (regularisation)\n"
   ]
  },
  {
   "cell_type": "code",
   "execution_count": 290,
   "metadata": {
    "pycharm": {
     "name": "#%%\n"
    }
   },
   "outputs": [
    {
     "name": "stdout",
     "output_type": "stream",
     "text": [
      "Feature Ranking: \n",
      "1 feature no.18 - PAY_1_delayed (0.1666731771012183)\n",
      "2 feature no.5 - N_DELAYED (0.1355087075048499)\n",
      "3 feature no.8 - PAY_PTG1 (0.08856870720469798)\n",
      "4 feature no.7 - UTILIZE_PTG1 (0.08667214053939952)\n",
      "5 feature no.2 - BILL_AMT1 (0.076736794597956)\n",
      "6 feature no.3 - PAY_AMT1 (0.07561778445924777)\n",
      "7 feature no.20 - PAY_1_unknown (0.07260278827322138)\n",
      "8 feature no.6 - N_UNKNOWN (0.06991010523086554)\n",
      "9 feature no.0 - LIMIT_BAL (0.058415245173918696)\n",
      "10 feature no.4 - N_PAY_DULY (0.057515486485371116)\n"
     ]
    }
   ],
   "source": [
    "indices = np.argsort(importances)[::-1]\n",
    "print ('Feature Ranking: ')\n",
    "for i in range(10):\n",
    "    print (\"{} feature no.{} - {} ({})\".format(i+1, indices[i], feature_names[indices[i]], importances[indices[i]]))"
   ]
  },
  {
   "cell_type": "code",
   "execution_count": 291,
   "metadata": {
    "pycharm": {
     "name": "#%%\n"
    }
   },
   "outputs": [
    {
     "name": "stdout",
     "output_type": "stream",
     "text": [
      "10 feature no.4 - SEX_female (0.005528009840063108)\n",
      "11 feature no.1 - SEX_male (0.004672530357338761)\n",
      "12 feature no.19 - EDUCATION_graduate_school (0.006239047902842833)\n",
      "13 feature no.16 - EDUCATION_high_school (0.00489603445588107)\n",
      "14 feature no.14 - EDUCATION_university (0.005153211841953001)\n",
      "15 feature no.11 - EDUCATION_unknown_and_others (0.00636986169421592)\n",
      "16 feature no.15 - MARRIAGE_married (0.005614319801813682)\n",
      "17 feature no.9 - MARRIAGE_single (0.006759759773672162)\n",
      "18 feature no.13 - MARRIAGE_unknown_and_others (0.001716812568141995)\n",
      "20 feature no.10 - PAY_1_pay_duly (0.014343523892073778)\n",
      "[9, 10, 11, 12, 13, 14, 15, 16, 17, 19]\n"
     ]
    }
   ],
   "source": [
    "remove_feature = []\n",
    "for i in range(len(importances)):\n",
    "    if importances[i] < 0.03:\n",
    "        remove_feature.append(i)\n",
    "        print (\"{} feature no.{} - {} ({})\".format(i+1, indices[i], feature_names[i], importances[i]))\n",
    "    \n",
    "print(remove_feature)\n"
   ]
  },
  {
   "cell_type": "code",
   "execution_count": 292,
   "metadata": {
    "pycharm": {
     "name": "#%%\n"
    }
   },
   "outputs": [
    {
     "data": {
      "text/plain": [
       "array(['LIMIT_BAL', 'AGE', 'BILL_AMT1', 'PAY_AMT1', 'N_PAY_DULY',\n",
       "       'N_DELAYED', 'N_UNKNOWN', 'UTILIZE_PTG1', 'PAY_PTG1',\n",
       "       'PAY_1_delayed', 'PAY_1_unknown'], dtype=object)"
      ]
     },
     "execution_count": 292,
     "metadata": {},
     "output_type": "execute_result"
    }
   ],
   "source": [
    "feature_names = np.delete(feature_names,remove_feature)\n",
    "feature_names"
   ]
  },
  {
   "cell_type": "code",
   "execution_count": 293,
   "metadata": {
    "pycharm": {
     "name": "#%%\n"
    }
   },
   "outputs": [
    {
     "name": "stdout",
     "output_type": "stream",
     "text": [
      "F1 training score: 0.5098730606488012\n",
      "F1 testing score: 0.4463276836158192\n",
      "Training time: 0.909 s\n",
      "Prediction time: 0.03 s\n",
      "Accuracy training score: 0.82625\n",
      "Accuracy testing score: 0.804\n"
     ]
    }
   ],
   "source": [
    "from sklearn.ensemble import RandomForestClassifier\n",
    "from sklearn.metrics import f1_score\n",
    "from sklearn import metrics\n",
    "\n",
    "# get feature and labels\n",
    "features_train, features_test = \\\n",
    "    df_train[feature_names].values, df_test[feature_names].values\n",
    "labels_train, labels_test = \\\n",
    "    df_train['DEFAULT_PAY'].values,df_test['DEFAULT_PAY'].values\n",
    "\n",
    "clf = RandomForestClassifier(n_estimators=100, criterion='entropy', max_depth=10, min_samples_split=60, min_samples_leaf=5, random_state=0)\n",
    "\n",
    "# Train the model using the training sets\n",
    "t0 = time()\n",
    "clf.fit(features_train, labels_train)\n",
    "training_time = round(time() - t0, 3)\n",
    "\n",
    "# Predict the response for test dataset\n",
    "t0 = time()\n",
    "predictions = clf.predict(features_test)\n",
    "prediction_time = round(time() - t0, 3)\n",
    "\n",
    "# evaluate result\n",
    "training_score = f1_score(y_true = labels_train, y_pred = clf.predict(features_train))\n",
    "score = f1_score(y_true = labels_test, y_pred = predictions)\n",
    "\n",
    "# Print results\n",
    "print (\"F1 training score:\", training_score)\n",
    "print (\"F1 testing score:\", score)\n",
    "print (\"Training time:\", training_time, \"s\")\n",
    "print (\"Prediction time:\", prediction_time, \"s\")\n",
    "\n",
    "\n",
    "# quickly check the accuracy score as well\n",
    "print (\"Accuracy training score:\", metrics.accuracy_score(labels_train, clf.predict(features_train)))\n",
    "print (\"Accuracy testing score:\", metrics.accuracy_score(labels_test, predictions))"
   ]
  },
  {
   "cell_type": "code",
   "execution_count": null,
   "metadata": {
    "pycharm": {
     "name": "#%%\n"
    }
   },
   "outputs": [],
   "source": []
  }
 ],
 "metadata": {
  "kernelspec": {
   "display_name": "Python 3",
   "language": "python",
   "name": "python3"
  },
  "language_info": {
   "codemirror_mode": {
    "name": "ipython",
    "version": 3
   },
   "file_extension": ".py",
   "mimetype": "text/x-python",
   "name": "python",
   "nbconvert_exporter": "python",
   "pygments_lexer": "ipython3",
   "version": "3.6.7"
  },
  "pycharm": {
   "stem_cell": {
    "cell_type": "raw",
    "metadata": {
     "collapsed": false
    },
    "source": []
   }
  }
 },
 "nbformat": 4,
 "nbformat_minor": 1
}
