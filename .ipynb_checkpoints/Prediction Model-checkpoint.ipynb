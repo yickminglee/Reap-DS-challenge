{
 "cells": [
  {
   "cell_type": "code",
   "execution_count": 4,
   "metadata": {
    "pycharm": {
     "is_executing": false
    }
   },
   "outputs": [],
   "source": [
    "# Import\n",
    "\n",
    "# Basic\n",
    "from time import time\n",
    "import numpy as np # linear algebra\n",
    "import pandas as pd # data processing, CSV file I/O (e.g. pd.read_csv)\n",
    "\n",
    "# Viz\n",
    "import matplotlib.pyplot as plt\n",
    "%matplotlib inline\n",
    "import seaborn as sns\n",
    "\n",
    "# ML\n",
    "from sklearn.model_selection import GridSearchCV\n",
    "from sklearn.metrics import f1_score, make_scorer"
   ]
  },
  {
   "cell_type": "markdown",
   "metadata": {},
   "source": [
    "---\n",
    "# Objective:\n",
    "\n",
    "- Train a model to predict whether a user will default or not\n",
    "- Evaluate the performance of model\n"
   ]
  },
  {
   "cell_type": "markdown",
   "metadata": {},
   "source": [
    "---\n",
    "\n",
    "# My plan\n",
    "\n",
    "1. Load model and set up\n",
    "2. Model the 6 selected features on a few other models \n",
    "    - tune hyper parameters\n",
    "    - select the best model with k fold cross validation.\n",
    "3. Tune probability threshold to improve accuracy\n",
    "4. Show model performance\n"
   ]
  },
  {
   "cell_type": "markdown",
   "metadata": {},
   "source": [
    "---\n",
    "# 1. Load model and set up"
   ]
  },
  {
   "cell_type": "code",
   "execution_count": 5,
   "metadata": {
    "pycharm": {
     "is_executing": false
    }
   },
   "outputs": [],
   "source": [
    "df_trans = pd.read_pickle(\"df_trans.pkl\")\n",
    "feature_names = ['N_PAY_DULY', 'N_DELAYED', 'UTILIZE_PTG1', 'PAY_PTG1', 'PAY_1_delayed']"
   ]
  },
  {
   "cell_type": "code",
   "execution_count": 6,
   "metadata": {},
   "outputs": [],
   "source": [
    "from sklearn.model_selection import train_test_split\n",
    "\n",
    "# split the data\n",
    "df_train,df_test = train_test_split(df_trans,test_size=0.2,random_state=2020)"
   ]
  },
  {
   "cell_type": "code",
   "execution_count": 7,
   "metadata": {},
   "outputs": [
    {
     "data": {
      "text/html": [
       "<div>\n",
       "<style scoped>\n",
       "    .dataframe tbody tr th:only-of-type {\n",
       "        vertical-align: middle;\n",
       "    }\n",
       "\n",
       "    .dataframe tbody tr th {\n",
       "        vertical-align: top;\n",
       "    }\n",
       "\n",
       "    .dataframe thead th {\n",
       "        text-align: right;\n",
       "    }\n",
       "</style>\n",
       "<table border=\"1\" class=\"dataframe\">\n",
       "  <thead>\n",
       "    <tr style=\"text-align: right;\">\n",
       "      <th></th>\n",
       "      <th>DEFAULT_PAY</th>\n",
       "      <th>N_USERS</th>\n",
       "      <th>PTG</th>\n",
       "    </tr>\n",
       "  </thead>\n",
       "  <tbody>\n",
       "    <tr>\n",
       "      <th>0</th>\n",
       "      <td>0</td>\n",
       "      <td>6211</td>\n",
       "      <td>0.776375</td>\n",
       "    </tr>\n",
       "    <tr>\n",
       "      <th>1</th>\n",
       "      <td>1</td>\n",
       "      <td>1789</td>\n",
       "      <td>0.223625</td>\n",
       "    </tr>\n",
       "  </tbody>\n",
       "</table>\n",
       "</div>"
      ],
      "text/plain": [
       "   DEFAULT_PAY  N_USERS       PTG\n",
       "0            0     6211  0.776375\n",
       "1            1     1789  0.223625"
      ]
     },
     "execution_count": 7,
     "metadata": {},
     "output_type": "execute_result"
    }
   ],
   "source": [
    "# Check training data\n",
    "d_rate = df_train.groupby(['DEFAULT_PAY']).size().reset_index(name='N_USERS')\n",
    "d_rate['PTG'] = d_rate['N_USERS']/sum(d_rate['N_USERS'])\n",
    "d_rate"
   ]
  },
  {
   "cell_type": "code",
   "execution_count": 8,
   "metadata": {},
   "outputs": [
    {
     "data": {
      "text/html": [
       "<div>\n",
       "<style scoped>\n",
       "    .dataframe tbody tr th:only-of-type {\n",
       "        vertical-align: middle;\n",
       "    }\n",
       "\n",
       "    .dataframe tbody tr th {\n",
       "        vertical-align: top;\n",
       "    }\n",
       "\n",
       "    .dataframe thead th {\n",
       "        text-align: right;\n",
       "    }\n",
       "</style>\n",
       "<table border=\"1\" class=\"dataframe\">\n",
       "  <thead>\n",
       "    <tr style=\"text-align: right;\">\n",
       "      <th></th>\n",
       "      <th>DEFAULT_PAY</th>\n",
       "      <th>N_USERS</th>\n",
       "      <th>PTG</th>\n",
       "    </tr>\n",
       "  </thead>\n",
       "  <tbody>\n",
       "    <tr>\n",
       "      <th>0</th>\n",
       "      <td>0</td>\n",
       "      <td>1551</td>\n",
       "      <td>0.7755</td>\n",
       "    </tr>\n",
       "    <tr>\n",
       "      <th>1</th>\n",
       "      <td>1</td>\n",
       "      <td>449</td>\n",
       "      <td>0.2245</td>\n",
       "    </tr>\n",
       "  </tbody>\n",
       "</table>\n",
       "</div>"
      ],
      "text/plain": [
       "   DEFAULT_PAY  N_USERS     PTG\n",
       "0            0     1551  0.7755\n",
       "1            1      449  0.2245"
      ]
     },
     "execution_count": 8,
     "metadata": {},
     "output_type": "execute_result"
    }
   ],
   "source": [
    "# Check testing data\n",
    "d_rate = df_test.groupby(['DEFAULT_PAY']).size().reset_index(name='N_USERS')\n",
    "d_rate['PTG'] = d_rate['N_USERS']/sum(d_rate['N_USERS'])\n",
    "d_rate"
   ]
  },
  {
   "cell_type": "code",
   "execution_count": 17,
   "metadata": {},
   "outputs": [
    {
     "name": "stdout",
     "output_type": "stream",
     "text": [
      "F1 training score: 0.4904480722473081\n",
      "F1 testing score: 0.4524137931034483\n",
      "Training time: 0.176 s\n",
      "Prediction time: 0.001 s\n",
      "Accuracy training score: 0.816625\n",
      "Accuracy testing score: 0.8015\n"
     ]
    }
   ],
   "source": [
    "from sklearn.ensemble import GradientBoostingClassifier\n",
    "from sklearn.metrics import f1_score\n",
    "from sklearn import metrics\n",
    "\n",
    "# get feature and labels\n",
    "features_train, features_test = \\\n",
    "    df_train[feature_names].values, df_test[feature_names].values\n",
    "labels_train, labels_test = \\\n",
    "    df_train['DEFAULT_PAY'].values,df_test['DEFAULT_PAY'].values\n",
    "\n",
    "clf = GradientBoostingClassifier(n_estimators=35, \n",
    "                                 max_depth = 3, \n",
    "                                 min_samples_split = 100, \n",
    "                                 min_samples_leaf = 50,\n",
    "                                 #max_features=10,\n",
    "                                 random_state = 0)\n",
    "\n",
    "# Train the model using the training sets\n",
    "t0 = time()\n",
    "clf.fit(features_train, labels_train)\n",
    "training_time = round(time() - t0, 3)\n",
    "\n",
    "# Predict the response for test dataset\n",
    "t0 = time()\n",
    "predictions = clf.predict(features_test)\n",
    "prediction_time = round(time() - t0, 3)\n",
    "\n",
    "# evaluate result\n",
    "training_score = f1_score(y_true = labels_train, y_pred = clf.predict(features_train))\n",
    "score = f1_score(y_true = labels_test, y_pred = predictions)\n",
    "\n",
    "# Print results\n",
    "print (\"F1 training score:\", training_score)\n",
    "print (\"F1 testing score:\", score)\n",
    "print (\"Training time:\", training_time, \"s\")\n",
    "print (\"Prediction time:\", prediction_time, \"s\")\n",
    "\n",
    "# quickly check the accuracy score as well\n",
    "print (\"Accuracy training score:\", metrics.accuracy_score(labels_train, clf.predict(features_train)))\n",
    "print (\"Accuracy testing score:\", metrics.accuracy_score(labels_test, predictions))"
   ]
  },
  {
   "cell_type": "markdown",
   "metadata": {},
   "source": [
    "---\n",
    "# 2. Try a few more models"
   ]
  },
  {
   "cell_type": "markdown",
   "metadata": {},
   "source": [
    "## 2.1. Gradient Boosted Tree"
   ]
  },
  {
   "cell_type": "code",
   "execution_count": 60,
   "metadata": {},
   "outputs": [
    {
     "name": "stdout",
     "output_type": "stream",
     "text": [
      "CPU times: user 26.4 s, sys: 126 ms, total: 26.5 s\n",
      "Wall time: 26.6 s\n",
      "GradientBoostingClassifier(ccp_alpha=0.0, criterion='friedman_mse', init=None,\n",
      "                           learning_rate=0.1, loss='deviance', max_depth=3,\n",
      "                           max_features='sqrt', max_leaf_nodes=None,\n",
      "                           min_impurity_decrease=0.0, min_impurity_split=None,\n",
      "                           min_samples_leaf=50, min_samples_split=100,\n",
      "                           min_weight_fraction_leaf=0.0, n_estimators=35,\n",
      "                           n_iter_no_change=None, presort='deprecated',\n",
      "                           random_state=None, subsample=1.0, tol=0.0001,\n",
      "                           validation_fraction=0.1, verbose=0,\n",
      "                           warm_start=False)\n",
      "0.47955131152949837\n"
     ]
    }
   ],
   "source": [
    "from sklearn.ensemble import GradientBoostingClassifier\n",
    "\n",
    "param_grid = {\n",
    "    \"loss\":[\"deviance\"],\n",
    "    \"learning_rate\": [0.01, 0.025, 0.05, 0.075, 0.1, 0.15, 0.2],\n",
    "    \"min_samples_split\": [100],\n",
    "    \"min_samples_leaf\": [50],\n",
    "    \"max_depth\":[3,5,8],\n",
    "    \"max_features\":[\"log2\",\"sqrt\"],\n",
    "    \"n_estimators\":[35]\n",
    "    }\n",
    "\n",
    "acc_scorer = make_scorer(f1_score)\n",
    "grid_clf = GridSearchCV(GradientBoostingClassifier(), param_grid, scoring = acc_scorer, cv=5)\n",
    "%time grid_clf = grid_clf.fit(features_train, labels_train)\n",
    "best_clf_gbc = grid_clf.best_estimator_\n",
    "print(grid_clf.best_estimator_)\n",
    "print(grid_clf.best_score_)"
   ]
  },
  {
   "cell_type": "code",
   "execution_count": 73,
   "metadata": {},
   "outputs": [
    {
     "data": {
      "image/png": "[encoded data removed]",
      "text/plain": [
       "<Figure size 432x288 with 1 Axes>"
      ]
     },
     "metadata": {
      "needs_background": "light"
     },
     "output_type": "display_data"
    }
   ],
   "source": [
    "from sklearn.model_selection import KFold\n",
    "\n",
    "kf = KFold(n_splits=5,random_state=0,shuffle=True)\n",
    "\n",
    "fold = []\n",
    "scr = []\n",
    "\n",
    "clf = best_clf_gbc\n",
    "\n",
    "for i,(train_index, test_index) in enumerate(kf.split(df_trans)):\n",
    "    # split into K Fold sets\n",
    "    train = df_trans.iloc[train_index,:]\n",
    "    test = df_trans.iloc[test_index,:]\n",
    "    # re-define features and labels data sets\n",
    "    features_train = train[feature_names]\n",
    "    labels_train = train['DEFAULT_PAY']\n",
    "    features_test = test[feature_names]\n",
    "    labels_test = test['DEFAULT_PAY']\n",
    "    # fit and predict\n",
    "    clf.fit(features_train, labels_train)\n",
    "    predictions = clf.predict(features_test)\n",
    "    # get f1 score\n",
    "    score = f1_score(y_true = labels_test, y_pred = predictions)\n",
    "    # store results\n",
    "    fold.append(i+1)\n",
    "    scr.append(score)\n",
    "    \n",
    "#create a small df with the scores\n",
    "performance = pd.DataFrame({'Score':scr,'Fold':fold})\n",
    "\n",
    "# show result of each fold\n",
    "ax = sns.lineplot(x=\"Fold\", y=\"Score\",\n",
    "                  marker=\"o\",\n",
    "                  markers=True, dashes=False, data=performance)"
   ]
  },
  {
   "cell_type": "code",
   "execution_count": 74,
   "metadata": {},
   "outputs": [
    {
     "data": {
      "text/plain": [
       "0.4682770895351365"
      ]
     },
     "execution_count": 74,
     "metadata": {},
     "output_type": "execute_result"
    }
   ],
   "source": [
    "# average f1 score\n",
    "performance.Score.mean()"
   ]
  },
  {
   "cell_type": "markdown",
   "metadata": {},
   "source": [
    "---\n",
    "## 2.2. Random Forest"
   ]
  },
  {
   "cell_type": "code",
   "execution_count": 71,
   "metadata": {},
   "outputs": [
    {
     "name": "stdout",
     "output_type": "stream",
     "text": [
      "CPU times: user 37.2 s, sys: 350 ms, total: 37.5 s\n",
      "Wall time: 37.6 s\n",
      "RandomForestClassifier(bootstrap=True, ccp_alpha=0.0, class_weight=None,\n",
      "                       criterion='gini', max_depth=3, max_features='log2',\n",
      "                       max_leaf_nodes=None, max_samples=None,\n",
      "                       min_impurity_decrease=0.0, min_impurity_split=None,\n",
      "                       min_samples_leaf=50, min_samples_split=100,\n",
      "                       min_weight_fraction_leaf=0.0, n_estimators=35,\n",
      "                       n_jobs=None, oob_score=False, random_state=None,\n",
      "                       verbose=0, warm_start=False)\n",
      "0.48363897890545465\n"
     ]
    }
   ],
   "source": [
    "from sklearn.ensemble import RandomForestClassifier\n",
    "\n",
    "param_grid = {\n",
    "    \"min_samples_split\": [100, 150, 200],\n",
    "    \"min_samples_leaf\": [50],\n",
    "    \"max_depth\":[3,5,8],\n",
    "    \"max_features\":[\"log2\",\"sqrt\"],\n",
    "    \"n_estimators\":[35,100]\n",
    "    }\n",
    "\n",
    "acc_scorer = make_scorer(f1_score)\n",
    "grid_clf = GridSearchCV(RandomForestClassifier(), param_grid, scoring = acc_scorer, cv=5)\n",
    "%time grid_clf = grid_clf.fit(features_train, labels_train)\n",
    "best_clf_rf = grid_clf.best_estimator_\n",
    "print(grid_clf.best_estimator_)\n",
    "print(grid_clf.best_score_)"
   ]
  },
  {
   "cell_type": "code",
   "execution_count": 75,
   "metadata": {},
   "outputs": [
    {
     "data": {
      "image/png": "[encoded data removed]",
      "text/plain": [
       "<Figure size 432x288 with 1 Axes>"
      ]
     },
     "metadata": {
      "needs_background": "light"
     },
     "output_type": "display_data"
    }
   ],
   "source": [
    "from sklearn.model_selection import KFold\n",
    "\n",
    "kf = KFold(n_splits=5,random_state=0,shuffle=True)\n",
    "\n",
    "fold = []\n",
    "scr = []\n",
    "\n",
    "clf = best_clf_rf\n",
    "\n",
    "for i,(train_index, test_index) in enumerate(kf.split(df_trans)):\n",
    "    # split into K Fold sets\n",
    "    train = df_trans.iloc[train_index,:]\n",
    "    test = df_trans.iloc[test_index,:]\n",
    "    # re-define features and labels data sets\n",
    "    features_train = train[feature_names]\n",
    "    labels_train = train['DEFAULT_PAY']\n",
    "    features_test = test[feature_names]\n",
    "    labels_test = test['DEFAULT_PAY']\n",
    "    # fit and predict\n",
    "    clf.fit(features_train, labels_train)\n",
    "    predictions = clf.predict(features_test)\n",
    "    # get f1 score\n",
    "    score = f1_score(y_true = labels_test, y_pred = predictions)\n",
    "    # store results\n",
    "    fold.append(i+1)\n",
    "    scr.append(score)\n",
    "    \n",
    "#create a small df with the scores\n",
    "performance = pd.DataFrame({'Score':scr,'Fold':fold})\n",
    "\n",
    "# show result of each fold\n",
    "ax = sns.lineplot(x=\"Fold\", y=\"Score\",\n",
    "                  marker=\"o\",\n",
    "                  markers=True, dashes=False, data=performance)"
   ]
  },
  {
   "cell_type": "code",
   "execution_count": 76,
   "metadata": {},
   "outputs": [
    {
     "data": {
      "text/plain": [
       "0.4861333399484719"
      ]
     },
     "execution_count": 76,
     "metadata": {},
     "output_type": "execute_result"
    }
   ],
   "source": [
    "# average f1 score\n",
    "performance.Score.mean()"
   ]
  },
  {
   "cell_type": "markdown",
   "metadata": {},
   "source": [
    "---\n",
    "## 2.3. XG Boost"
   ]
  },
  {
   "cell_type": "code",
   "execution_count": 79,
   "metadata": {},
   "outputs": [
    {
     "name": "stdout",
     "output_type": "stream",
     "text": [
      "CPU times: user 29min 14s, sys: 59 s, total: 30min 13s\n",
      "Wall time: 2min 59s\n",
      "XGBClassifier(base_score=0.5, booster='gbtree', colsample_bylevel=1,\n",
      "              colsample_bynode=1, colsample_bytree=1.0, gamma=5, gpu_id=-1,\n",
      "              importance_type='gain', interaction_constraints='',\n",
      "              learning_rate=0.01, max_delta_step=0, max_depth=3,\n",
      "              min_child_weight=1, missing=nan, monotone_constraints='()',\n",
      "              n_estimators=300, n_jobs=0, num_parallel_tree=1,\n",
      "              objective='binary:logistic', random_state=0, reg_alpha=0,\n",
      "              reg_lambda=1, scale_pos_weight=1, subsample=1.0,\n",
      "              tree_method='exact', validate_parameters=1, verbosity=None)\n",
      "0.47465925362437955\n"
     ]
    }
   ],
   "source": [
    "from xgboost import XGBClassifier\n",
    "\n",
    "param_grid = {\n",
    "    'learning_rate': [0.01, 0.05, 0.1, 0.2],\n",
    "    'min_child_weight': [1],\n",
    "    'max_depth': [3],\n",
    "    'gamma': [0.5, 1, 2, 5],\n",
    "    'subsample': [0.5, 1.0],\n",
    "    'colsample_bytree': [0.6, 1.0],\n",
    "    'n_estimators': [300]\n",
    "    }\n",
    "\n",
    "acc_scorer = make_scorer(f1_score)\n",
    "grid_clf = GridSearchCV(XGBClassifier(), param_grid, scoring = acc_scorer, cv=5)\n",
    "%time grid_clf = grid_clf.fit(features_train, labels_train)\n",
    "best_clf_xgbc = grid_clf.best_estimator_\n",
    "print(grid_clf.best_estimator_)\n",
    "print(grid_clf.best_score_)"
   ]
  },
  {
   "cell_type": "markdown",
   "metadata": {},
   "source": [
    "Result copied to below (because it takes too long to re-run):\n",
    "\n",
    "- CPU times: user 29min 14s, sys: 59 s, total: 30min 13s\n",
    "- Wall time: 2min 59s\n",
    "- XGBClassifier(base_score=0.5, booster='gbtree', colsample_bylevel=1,\n",
    "              colsample_bynode=1, colsample_bytree=1.0, gamma=5, gpu_id=-1,\n",
    "              importance_type='gain', interaction_constraints='',\n",
    "              learning_rate=0.01, max_delta_step=0, max_depth=3,\n",
    "              min_child_weight=1, missing=nan, monotone_constraints='()',\n",
    "              n_estimators=300, n_jobs=0, num_parallel_tree=1,\n",
    "              objective='binary:logistic', random_state=0, reg_alpha=0,\n",
    "              reg_lambda=1, scale_pos_weight=1, subsample=1.0,\n",
    "              tree_method='exact', validate_parameters=1, verbosity=None)\n",
    "- 0.47465925362437955"
   ]
  },
  {
   "cell_type": "code",
   "execution_count": 80,
   "metadata": {},
   "outputs": [
    {
     "data": {
      "image/png": "[encoded data removed]",
      "text/plain": [
       "<Figure size 432x288 with 1 Axes>"
      ]
     },
     "metadata": {
      "needs_background": "light"
     },
     "output_type": "display_data"
    }
   ],
   "source": [
    "from sklearn.model_selection import KFold\n",
    "\n",
    "kf = KFold(n_splits=5,random_state=0,shuffle=True)\n",
    "\n",
    "fold = []\n",
    "scr = []\n",
    "\n",
    "clf = best_clf_xgbc\n",
    "\n",
    "for i,(train_index, test_index) in enumerate(kf.split(df_trans)):\n",
    "    # split into K Fold sets\n",
    "    train = df_trans.iloc[train_index,:]\n",
    "    test = df_trans.iloc[test_index,:]\n",
    "    # re-define features and labels data sets\n",
    "    features_train = train[feature_names]\n",
    "    labels_train = train['DEFAULT_PAY']\n",
    "    features_test = test[feature_names]\n",
    "    labels_test = test['DEFAULT_PAY']\n",
    "    # fit and predict\n",
    "    clf.fit(features_train, labels_train)\n",
    "    predictions = clf.predict(features_test)\n",
    "    # get f1 score\n",
    "    score = f1_score(y_true = labels_test, y_pred = predictions)\n",
    "    # store results\n",
    "    fold.append(i+1)\n",
    "    scr.append(score)\n",
    "    \n",
    "#create a small df with the scores\n",
    "performance = pd.DataFrame({'Score':scr,'Fold':fold})\n",
    "\n",
    "# show result of each fold\n",
    "ax = sns.lineplot(x=\"Fold\", y=\"Score\",\n",
    "                  marker=\"o\",\n",
    "                  markers=True, dashes=False, data=performance)"
   ]
  },
  {
   "cell_type": "code",
   "execution_count": 81,
   "metadata": {},
   "outputs": [
    {
     "data": {
      "text/plain": [
       "0.4788537862951595"
      ]
     },
     "execution_count": 81,
     "metadata": {},
     "output_type": "execute_result"
    }
   ],
   "source": [
    "# average f1 score\n",
    "performance.Score.mean()"
   ]
  },
  {
   "cell_type": "markdown",
   "metadata": {},
   "source": [
    "---\n",
    "## Chosen model\n",
    "\n",
    "Random Forest has the lowest average f1 score (0.486). Therefore, it is the chosen model (see below).\n",
    "\n",
    "- RandomForestClassifier(bootstrap=True, ccp_alpha=0.0, class_weight=None,\n",
    "                       criterion='gini', max_depth=3, max_features='log2',\n",
    "                       max_leaf_nodes=None, max_samples=None,\n",
    "                       min_impurity_decrease=0.0, min_impurity_split=None,\n",
    "                       min_samples_leaf=50, min_samples_split=100,\n",
    "                       min_weight_fraction_leaf=0.0, n_estimators=35,\n",
    "                       n_jobs=None, oob_score=False, random_state=None,\n",
    "                       verbose=0, warm_start=False)\n"
   ]
  },
  {
   "cell_type": "markdown",
   "metadata": {},
   "source": [
    "---\n",
    "# 3. Tuning probability threshold to improve accuracy\n",
    "\n",
    "The default threshold is 0.5.\n"
   ]
  },
  {
   "cell_type": "code",
   "execution_count": 104,
   "metadata": {},
   "outputs": [
    {
     "name": "stdout",
     "output_type": "stream",
     "text": [
      "F1 training score: 0.49700996677740866\n",
      "F1 testing score: 0.47011952191235057\n",
      "Training time: 0.118 s\n",
      "Prediction time: 0.006 s\n",
      "Accuracy training score: 0.81075\n",
      "Accuracy testing score: 0.8005\n"
     ]
    }
   ],
   "source": [
    "from sklearn.metrics import f1_score\n",
    "from sklearn import metrics\n",
    "\n",
    "# get feature and labels\n",
    "features_train, features_test = \\\n",
    "    df_train[feature_names].values, df_test[feature_names].values\n",
    "labels_train, labels_test = \\\n",
    "    df_train['DEFAULT_PAY'].values,df_test['DEFAULT_PAY'].values\n",
    "\n",
    "clf = best_clf_rf\n",
    "\n",
    "# Train the model using the training sets\n",
    "t0 = time()\n",
    "clf.fit(features_train, labels_train)\n",
    "training_time = round(time() - t0, 3)\n",
    "\n",
    "# Predict the response for test dataset\n",
    "t0 = time()\n",
    "predictions = clf.predict(features_test)\n",
    "prediction_time = round(time() - t0, 3)\n",
    "\n",
    "# evaluate result\n",
    "training_score = f1_score(y_true = labels_train, y_pred = clf.predict(features_train))\n",
    "score = f1_score(y_true = labels_test, y_pred = predictions)\n",
    "\n",
    "# Print results\n",
    "print (\"F1 training score:\", training_score)\n",
    "print (\"F1 testing score:\", score)\n",
    "print (\"Training time:\", training_time, \"s\")\n",
    "print (\"Prediction time:\", prediction_time, \"s\")\n",
    "\n",
    "# quickly check the accuracy score as well\n",
    "print (\"Accuracy training score:\", metrics.accuracy_score(labels_train, clf.predict(features_train)))\n",
    "print (\"Accuracy testing score:\", metrics.accuracy_score(labels_test, predictions))"
   ]
  },
  {
   "cell_type": "code",
   "execution_count": 105,
   "metadata": {
    "pycharm": {
     "name": "#%%\n"
    }
   },
   "outputs": [
    {
     "data": {
      "text/html": [
       "<div>\n",
       "<style scoped>\n",
       "    .dataframe tbody tr th:only-of-type {\n",
       "        vertical-align: middle;\n",
       "    }\n",
       "\n",
       "    .dataframe tbody tr th {\n",
       "        vertical-align: top;\n",
       "    }\n",
       "\n",
       "    .dataframe thead th {\n",
       "        text-align: right;\n",
       "    }\n",
       "</style>\n",
       "<table border=\"1\" class=\"dataframe\">\n",
       "  <thead>\n",
       "    <tr style=\"text-align: right;\">\n",
       "      <th></th>\n",
       "      <th>actual_values</th>\n",
       "      <th>prediction</th>\n",
       "      <th>prediction-yn</th>\n",
       "    </tr>\n",
       "  </thead>\n",
       "  <tbody>\n",
       "    <tr>\n",
       "      <th>0</th>\n",
       "      <td>0</td>\n",
       "      <td>0.126466</td>\n",
       "      <td>0</td>\n",
       "    </tr>\n",
       "    <tr>\n",
       "      <th>1</th>\n",
       "      <td>0</td>\n",
       "      <td>0.154165</td>\n",
       "      <td>0</td>\n",
       "    </tr>\n",
       "    <tr>\n",
       "      <th>2</th>\n",
       "      <td>0</td>\n",
       "      <td>0.112958</td>\n",
       "      <td>0</td>\n",
       "    </tr>\n",
       "    <tr>\n",
       "      <th>3</th>\n",
       "      <td>0</td>\n",
       "      <td>0.352943</td>\n",
       "      <td>0</td>\n",
       "    </tr>\n",
       "    <tr>\n",
       "      <th>4</th>\n",
       "      <td>1</td>\n",
       "      <td>0.144335</td>\n",
       "      <td>0</td>\n",
       "    </tr>\n",
       "  </tbody>\n",
       "</table>\n",
       "</div>"
      ],
      "text/plain": [
       "   actual_values  prediction  prediction-yn\n",
       "0              0    0.126466              0\n",
       "1              0    0.154165              0\n",
       "2              0    0.112958              0\n",
       "3              0    0.352943              0\n",
       "4              1    0.144335              0"
      ]
     },
     "execution_count": 105,
     "metadata": {},
     "output_type": "execute_result"
    }
   ],
   "source": [
    "clf_prob = clf.predict_proba(features_test)[:,1]\n",
    "\n",
    "df_test_result = pd.DataFrame({'actual_values':labels_test, 'prediction': pd.Series(clf_prob),'prediction-yn': predictions})\n",
    "\n",
    "df_test_result.head(5)\n"
   ]
  },
  {
   "cell_type": "code",
   "execution_count": 84,
   "metadata": {
    "pycharm": {
     "name": "#%%\n"
    }
   },
   "outputs": [
    {
     "name": "stdout",
     "output_type": "stream",
     "text": [
      "maximum accuracies: 0.8055; maximum threshold: [0.54545455]\n"
     ]
    }
   ],
   "source": [
    "#Compute Classifier's Accuracy for various thresholds \n",
    "\n",
    "def _compute_accuracy_for_thresholds(data: pd.core.frame.DataFrame):\n",
    "\n",
    "    thresholds = np.linspace(0, 1, 100)\n",
    "    accuracies = []\n",
    "    for threshold in thresholds:\n",
    "        preds = df_test_result['prediction'].map(lambda x: 1 if x > threshold else 0)\n",
    "        accuracy_ = metrics.accuracy_score(df_test_result['actual_values'].values, preds)\n",
    "        accuracies.append(accuracy_)\n",
    "    return accuracies, thresholds\n",
    "\n",
    "accuracies, threshold = _compute_accuracy_for_thresholds(df_test_result)\n",
    "\n",
    "max_value = np.amax(accuracies)\n",
    "max_position = np.where(accuracies == max_value)\n",
    "print(\"maximum accuracies: {}; maximum threshold: {}\".format(max_value, threshold[max_position]))\n"
   ]
  },
  {
   "cell_type": "code",
   "execution_count": 85,
   "metadata": {
    "pycharm": {
     "name": "#%%\n"
    }
   },
   "outputs": [
    {
     "data": {
      "text/plain": [
       "(0.7, 0.85)"
      ]
     },
     "execution_count": 85,
     "metadata": {},
     "output_type": "execute_result"
    },
    {
     "data": {
      "image/png": "[encoded data removed]",
      "text/plain": [
       "<Figure size 720x504 with 1 Axes>"
      ]
     },
     "metadata": {
      "needs_background": "light"
     },
     "output_type": "display_data"
    }
   ],
   "source": [
    "plt.figure(figsize=(10,7))\n",
    "\n",
    "ax = sns.lineplot(x=threshold, y=accuracies,\n",
    "                  markers=True, dashes=False)\n",
    "\n",
    "axes = ax.axes\n",
    "axes.set_ylim(0.7,0.85)\n"
   ]
  },
  {
   "cell_type": "markdown",
   "metadata": {},
   "source": [
    "The highest point is around 0.5, not too far off from the default setting. With this new threshold, I am able to achieve an accuracy of 0.8055."
   ]
  },
  {
   "cell_type": "markdown",
   "metadata": {},
   "source": [
    "---\n",
    "# 4. Show model performance and prediction"
   ]
  },
  {
   "cell_type": "markdown",
   "metadata": {},
   "source": [
    "---\n",
    "## Model accuracy"
   ]
  },
  {
   "cell_type": "markdown",
   "metadata": {},
   "source": [
    "With this new threshold, I am able to achieve an accuracy of 0.8055. It is considered low because if we had an extremely naive model that would classify all users as no default, we would still get 77.5% accuracy (77.5% of the users has not default so they were classified correctly).  This means that the chosen model is only predicting slightly better than this super naive model."
   ]
  },
  {
   "cell_type": "markdown",
   "metadata": {},
   "source": [
    "---\n",
    "## Confusion Matrix"
   ]
  },
  {
   "cell_type": "code",
   "execution_count": 112,
   "metadata": {},
   "outputs": [
    {
     "name": "stdout",
     "output_type": "stream",
     "text": [
      "Confusion matrix, without normalization\n",
      "[[1456   95]\n",
      " [ 313  136]]\n"
     ]
    },
    {
     "data": {
      "image/png": "[encoded data removed]",
      "text/plain": [
       "<Figure size 432x288 with 2 Axes>"
      ]
     },
     "metadata": {
      "needs_background": "light"
     },
     "output_type": "display_data"
    }
   ],
   "source": [
    "# Confusion matrix: where is the problem\n",
    "\n",
    "import matplotlib.pyplot as plt\n",
    "import itertools\n",
    "from sklearn.metrics import confusion_matrix\n",
    "\n",
    "def plot_confusion_matrix(cm, classes,\n",
    "                          normalize=False,\n",
    "                          title='Confusion matrix',\n",
    "                          cmap=plt.cm.Blues):\n",
    "    \"\"\"\n",
    "    This function prints and plots the confusion matrix.\n",
    "    Normalization can be applied by setting `normalize=True`.\n",
    "    \"\"\"\n",
    "    if normalize:\n",
    "        cm = cm.astype('float') / cm.sum(axis=1)[:, np.newaxis]\n",
    "        print(\"Normalized confusion matrix\")\n",
    "    else:\n",
    "        print('Confusion matrix, without normalization')\n",
    "\n",
    "    print(cm)\n",
    "\n",
    "    plt.imshow(cm, interpolation='nearest', cmap=cmap)\n",
    "    plt.title(title)\n",
    "    plt.colorbar()\n",
    "    tick_marks = np.arange(len(classes))\n",
    "    plt.xticks(tick_marks, classes, rotation=45)\n",
    "    plt.yticks(tick_marks, classes)\n",
    "\n",
    "    fmt = '.2f' if normalize else 'd'\n",
    "    thresh = cm.max() / 2.\n",
    "    for i, j in itertools.product(range(cm.shape[0]), range(cm.shape[1])):\n",
    "        plt.text(j, i, format(cm[i, j], fmt),\n",
    "                 horizontalalignment=\"center\",\n",
    "                 color=\"white\" if cm[i, j] > thresh else \"black\")\n",
    "\n",
    "    plt.ylabel('True label')\n",
    "    plt.xlabel('Predicted label')\n",
    "    plt.tight_layout()\n",
    "\n",
    "\n",
    "cnf_matrix = confusion_matrix(df_test_result['actual_values'], df_test_result['prediction_new'])\n",
    "\n",
    "plot_confusion_matrix(cnf_matrix,classes=[0,1])"
   ]
  },
  {
   "cell_type": "markdown",
   "metadata": {},
   "source": [
    "### Precision = TP/TP+FP\n",
    "Precision is the ratio of correctly predicted positive observations to the total predicted positive observations. "
   ]
  },
  {
   "cell_type": "code",
   "execution_count": 11,
   "metadata": {},
   "outputs": [
    {
     "data": {
      "text/plain": [
       "0.5887445887445888"
      ]
     },
     "execution_count": 11,
     "metadata": {},
     "output_type": "execute_result"
    }
   ],
   "source": [
    "136/(136+95)"
   ]
  },
  {
   "cell_type": "markdown",
   "metadata": {},
   "source": [
    "The question that this metric answer is of all users that labeled as default, how many actually defaulted? High precision relates to the low false positive rate. We have got 0.59 precision, which has room to be improved."
   ]
  },
  {
   "cell_type": "markdown",
   "metadata": {},
   "source": [
    "### Recall = TP/TP+FN\n",
    "Recall is the ratio of correctly predicted positive observations to the all observations in actual class - yes. "
   ]
  },
  {
   "cell_type": "code",
   "execution_count": 12,
   "metadata": {},
   "outputs": [
    {
     "data": {
      "text/plain": [
       "0.3028953229398664"
      ]
     },
     "execution_count": 12,
     "metadata": {},
     "output_type": "execute_result"
    }
   ],
   "source": [
    "136/(136+313)"
   ]
  },
  {
   "cell_type": "markdown",
   "metadata": {},
   "source": [
    "The question recall answers is: Of all the users that truly defaulted, how many did we label? We have got recall of 0.30 which is bad for this model as it’s below 0.5."
   ]
  },
  {
   "cell_type": "markdown",
   "metadata": {},
   "source": [
    "### Led to a low f1 score\n",
    "The low performance in both precision and recall contribute to the low f1 score. Both the model and features would need more work to improve the F1 score. In the next section, I have explained a few things that I would like to do, if I had more time."
   ]
  },
  {
   "cell_type": "markdown",
   "metadata": {},
   "source": [
    "---\n",
    "## So, how good is the prediction?\n",
    "I tried to predict the default rate for the credit card company. So, how good was it?"
   ]
  },
  {
   "cell_type": "markdown",
   "metadata": {},
   "source": [
    "### Default rate: prediction based on test data set"
   ]
  },
  {
   "cell_type": "code",
   "execution_count": 111,
   "metadata": {},
   "outputs": [
    {
     "data": {
      "text/html": [
       "<div>\n",
       "<style scoped>\n",
       "    .dataframe tbody tr th:only-of-type {\n",
       "        vertical-align: middle;\n",
       "    }\n",
       "\n",
       "    .dataframe tbody tr th {\n",
       "        vertical-align: top;\n",
       "    }\n",
       "\n",
       "    .dataframe thead th {\n",
       "        text-align: right;\n",
       "    }\n",
       "</style>\n",
       "<table border=\"1\" class=\"dataframe\">\n",
       "  <thead>\n",
       "    <tr style=\"text-align: right;\">\n",
       "      <th></th>\n",
       "      <th>actual_values</th>\n",
       "      <th>prediction</th>\n",
       "      <th>prediction-yn</th>\n",
       "      <th>prediction_new</th>\n",
       "    </tr>\n",
       "  </thead>\n",
       "  <tbody>\n",
       "    <tr>\n",
       "      <th>982</th>\n",
       "      <td>0</td>\n",
       "      <td>0.139599</td>\n",
       "      <td>0</td>\n",
       "      <td>0</td>\n",
       "    </tr>\n",
       "    <tr>\n",
       "      <th>550</th>\n",
       "      <td>0</td>\n",
       "      <td>0.115275</td>\n",
       "      <td>0</td>\n",
       "      <td>0</td>\n",
       "    </tr>\n",
       "    <tr>\n",
       "      <th>1223</th>\n",
       "      <td>0</td>\n",
       "      <td>0.124502</td>\n",
       "      <td>0</td>\n",
       "      <td>0</td>\n",
       "    </tr>\n",
       "    <tr>\n",
       "      <th>586</th>\n",
       "      <td>1</td>\n",
       "      <td>0.144339</td>\n",
       "      <td>0</td>\n",
       "      <td>0</td>\n",
       "    </tr>\n",
       "    <tr>\n",
       "      <th>526</th>\n",
       "      <td>0</td>\n",
       "      <td>0.132140</td>\n",
       "      <td>0</td>\n",
       "      <td>0</td>\n",
       "    </tr>\n",
       "  </tbody>\n",
       "</table>\n",
       "</div>"
      ],
      "text/plain": [
       "      actual_values  prediction  prediction-yn  prediction_new\n",
       "982               0    0.139599              0               0\n",
       "550               0    0.115275              0               0\n",
       "1223              0    0.124502              0               0\n",
       "586               1    0.144339              0               0\n",
       "526               0    0.132140              0               0"
      ]
     },
     "execution_count": 111,
     "metadata": {},
     "output_type": "execute_result"
    }
   ],
   "source": [
    "df_test_result['prediction_new'] = df_test_result['prediction'].apply(lambda x: 1 if x>0.54545455 else 0)\n",
    "df_test_result.sample(5)"
   ]
  },
  {
   "cell_type": "code",
   "execution_count": 114,
   "metadata": {},
   "outputs": [
    {
     "data": {
      "text/plain": [
       "0.22407648739827443"
      ]
     },
     "execution_count": 114,
     "metadata": {},
     "output_type": "execute_result"
    }
   ],
   "source": [
    "df_test_result['prediction'].sum()/len(df_test_result['prediction'])"
   ]
  },
  {
   "cell_type": "markdown",
   "metadata": {},
   "source": [
    "### Default rate: actual defaults based on test data set"
   ]
  },
  {
   "cell_type": "code",
   "execution_count": 9,
   "metadata": {},
   "outputs": [
    {
     "data": {
      "text/plain": [
       "0.2245"
      ]
     },
     "execution_count": 9,
     "metadata": {},
     "output_type": "execute_result"
    }
   ],
   "source": [
    "df_test['DEFAULT_PAY'].sum()/len(df_test['DEFAULT_PAY'])"
   ]
  },
  {
   "cell_type": "markdown",
   "metadata": {},
   "source": [
    "### Ultimately, the predicted rate is quite accurate.\n",
    "The predicted default rate is only 0.2% off, when compared to the the actual default rate."
   ]
  },
  {
   "cell_type": "markdown",
   "metadata": {},
   "source": [
    "---\n",
    "# If I had more time, I would like to ...\n",
    "\n",
    "- work with the data provider to understand some of the weird labelling (-2 in pay) and abnormal values (negative billing amount).\n",
    "- use various techniques to deal with the imbalance sample, such as class weight and upsampling.\n",
    "- find a better way to deal with time series data, rather than eliminating all of them.\n",
    "- try out a few more classification algorithms. "
   ]
  },
  {
   "cell_type": "code",
   "execution_count": null,
   "metadata": {},
   "outputs": [],
   "source": []
  }
 ],
 "metadata": {
  "kernelspec": {
   "display_name": "Python 3",
   "language": "python",
   "name": "python3"
  },
  "language_info": {
   "codemirror_mode": {
    "name": "ipython",
    "version": 3
   },
   "file_extension": ".py",
   "mimetype": "text/x-python",
   "name": "python",
   "nbconvert_exporter": "python",
   "pygments_lexer": "ipython3",
   "version": "3.6.7"
  },
  "pycharm": {
   "stem_cell": {
    "cell_type": "raw",
    "metadata": {
     "collapsed": false
    },
    "source": []
   }
  }
 },
 "nbformat": 4,
 "nbformat_minor": 1
}
