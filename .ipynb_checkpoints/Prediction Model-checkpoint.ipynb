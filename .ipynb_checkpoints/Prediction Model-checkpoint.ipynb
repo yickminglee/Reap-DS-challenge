{
 "cells": [
  {
   "cell_type": "markdown",
   "metadata": {},
   "source": [
    "---\n",
    "### Try tuning threshold"
   ]
  },
  {
   "cell_type": "code",
   "execution_count": null,
   "metadata": {
    "pycharm": {
     "name": "#%%\n"
    }
   },
   "outputs": [],
   "source": [
    "clf_prob = clf.predict_proba(features_test)[:,1]\n",
    "\n",
    "df_test_result = pd.DataFrame({'actual_values':labels_test, 'prediction': pd.Series(clf_prob),'prediction-yn': predictions})\n",
    "\n",
    "df_test_result.head(5)\n"
   ]
  },
  {
   "cell_type": "code",
   "execution_count": null,
   "metadata": {
    "pycharm": {
     "name": "#%%\n"
    }
   },
   "outputs": [],
   "source": [
    "#Compute Classifier's Accuracy for various thresholds \n",
    "\n",
    "def _compute_accuracy_for_thresholds(data: pd.core.frame.DataFrame):\n",
    "\n",
    "    thresholds = np.linspace(0, 1, 100)\n",
    "    accuracies = []\n",
    "    for threshold in thresholds:\n",
    "        preds = df_test_result['prediction'].map(lambda x: 1 if x > threshold else 0)\n",
    "        accuracy_ = metrics.accuracy_score(df_test_result['actual_values'].values, preds)\n",
    "        accuracies.append(accuracy_)\n",
    "    return accuracies, thresholds\n",
    "\n",
    "accuracies, threshold = _compute_accuracy_for_thresholds(df_test_result)\n",
    "\n",
    "max_value = np.amax(accuracies)\n",
    "max_position = np.where(accuracies == max_value)\n",
    "print(\"maximum accuracies: {}; maximum threshold: {}\".format(max_value, threshold[max_position]))\n"
   ]
  },
  {
   "cell_type": "code",
   "execution_count": null,
   "metadata": {
    "pycharm": {
     "name": "#%%\n"
    }
   },
   "outputs": [],
   "source": [
    "plt.figure(figsize=(10,7))\n",
    "\n",
    "ax = sns.lineplot(x=threshold, y=accuracies,\n",
    "                  markers=True, dashes=False)\n",
    "\n",
    "axes = ax.axes\n",
    "axes.set_ylim(0.7,0.85)\n"
   ]
  },
  {
   "cell_type": "markdown",
   "metadata": {},
   "source": [
    "The highest point is around 0.5, not too far off from the default setting. So, I am not going to make any changes here.\n",
    "\n"
   ]
  }
 ],
 "metadata": {
  "kernelspec": {
   "display_name": "Python 3",
   "language": "python",
   "name": "python3"
  },
  "language_info": {
   "codemirror_mode": {
    "name": "ipython",
    "version": 3
   },
   "file_extension": ".py",
   "mimetype": "text/x-python",
   "name": "python",
   "nbconvert_exporter": "python",
   "pygments_lexer": "ipython3",
   "version": "3.6.7"
  },
  "pycharm": {
   "stem_cell": {
    "cell_type": "raw",
    "metadata": {
     "collapsed": false
    },
    "source": []
   }
  }
 },
 "nbformat": 4,
 "nbformat_minor": 1
}
